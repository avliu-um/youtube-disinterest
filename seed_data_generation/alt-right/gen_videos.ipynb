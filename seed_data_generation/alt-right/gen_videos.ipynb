{
 "cells": [
  {
   "cell_type": "code",
   "execution_count": 47,
   "metadata": {
    "collapsed": true
   },
   "outputs": [],
   "source": [
    "import pandas as pd\n",
    "from random import sample\n",
    "import os\n",
    "from util import videos_from_channel"
   ]
  },
  {
   "cell_type": "code",
   "execution_count": 4,
   "metadata": {
    "pycharm": {
     "name": "#%%\n"
    }
   },
   "outputs": [
    {
     "data": {
      "text/html": [
       "<div>\n",
       "<style scoped>\n",
       "    .dataframe tbody tr th:only-of-type {\n",
       "        vertical-align: middle;\n",
       "    }\n",
       "\n",
       "    .dataframe tbody tr th {\n",
       "        vertical-align: top;\n",
       "    }\n",
       "\n",
       "    .dataframe thead th {\n",
       "        text-align: right;\n",
       "    }\n",
       "</style>\n",
       "<table border=\"1\" class=\"dataframe\">\n",
       "  <thead>\n",
       "    <tr style=\"text-align: right;\">\n",
       "      <th></th>\n",
       "      <th>Name</th>\n",
       "      <th>Id</th>\n",
       "      <th>Category</th>\n",
       "      <th>Subscribers</th>\n",
       "      <th>Description</th>\n",
       "      <th>Available</th>\n",
       "    </tr>\n",
       "  </thead>\n",
       "  <tbody>\n",
       "    <tr>\n",
       "      <th>0</th>\n",
       "      <td>Amazing Atheist</td>\n",
       "      <td>UCjNxszyFPasDdRoD9J6X-sw</td>\n",
       "      <td>Antitheist</td>\n",
       "      <td>966000</td>\n",
       "      <td>The Amazing Atheist is a professional ranter w...</td>\n",
       "      <td>True</td>\n",
       "    </tr>\n",
       "    <tr>\n",
       "      <th>1</th>\n",
       "      <td>Thunderf00t</td>\n",
       "      <td>UCmb8hO2ilV9vRa8cilis88A</td>\n",
       "      <td>Antitheist</td>\n",
       "      <td>1010000</td>\n",
       "      <td>The true beauty of a self-inquiring sentient u...</td>\n",
       "      <td>True</td>\n",
       "    </tr>\n",
       "    <tr>\n",
       "      <th>2</th>\n",
       "      <td>JaclynGlenn</td>\n",
       "      <td>UCravYcv6C0CopL2ukVzhzNw</td>\n",
       "      <td>Antitheist</td>\n",
       "      <td>813000</td>\n",
       "      <td>I'm on every social platform @jaclynglenn \\n\\n...</td>\n",
       "      <td>True</td>\n",
       "    </tr>\n",
       "    <tr>\n",
       "      <th>3</th>\n",
       "      <td>Desertphile</td>\n",
       "      <td>UCYnwmslj2knI9iAiXM4UOgg</td>\n",
       "      <td>Antitheist</td>\n",
       "      <td>10800</td>\n",
       "      <td>Gravity.  GRAVITY!\\n\\nPsycho anti-social ravin...</td>\n",
       "      <td>True</td>\n",
       "    </tr>\n",
       "    <tr>\n",
       "      <th>4</th>\n",
       "      <td>Hannah and Jake</td>\n",
       "      <td>UCgGgkVyadk0TdxmVzYcAM-Q</td>\n",
       "      <td>Antitheist</td>\n",
       "      <td>153000</td>\n",
       "      <td>Hannah and Jake sit and talk about everything,...</td>\n",
       "      <td>True</td>\n",
       "    </tr>\n",
       "  </tbody>\n",
       "</table>\n",
       "</div>"
      ],
      "text/plain": [
       "              Name                        Id    Category  Subscribers  \\\n",
       "0  Amazing Atheist  UCjNxszyFPasDdRoD9J6X-sw  Antitheist       966000   \n",
       "1      Thunderf00t  UCmb8hO2ilV9vRa8cilis88A  Antitheist      1010000   \n",
       "2      JaclynGlenn  UCravYcv6C0CopL2ukVzhzNw  Antitheist       813000   \n",
       "3      Desertphile  UCYnwmslj2knI9iAiXM4UOgg  Antitheist        10800   \n",
       "4  Hannah and Jake  UCgGgkVyadk0TdxmVzYcAM-Q  Antitheist       153000   \n",
       "\n",
       "                                         Description  Available  \n",
       "0  The Amazing Atheist is a professional ranter w...       True  \n",
       "1  The true beauty of a self-inquiring sentient u...       True  \n",
       "2  I'm on every social platform @jaclynglenn \\n\\n...       True  \n",
       "3  Gravity.  GRAVITY!\\n\\nPsycho anti-social ravin...       True  \n",
       "4  Hannah and Jake sit and talk about everything,...       True  "
      ]
     },
     "execution_count": 4,
     "metadata": {},
     "output_type": "execute_result"
    }
   ],
   "source": [
    "channels_df = pd.read_csv('../sources/channels.csv')\n",
    "channels_df.head()"
   ]
  },
  {
   "cell_type": "code",
   "execution_count": 4,
   "metadata": {
    "pycharm": {
     "name": "#%%\n"
    }
   },
   "outputs": [],
   "source": []
  },
  {
   "cell_type": "markdown",
   "metadata": {
    "pycharm": {
     "name": "#%% md\n"
    }
   },
   "source": [
    "Alt-Right Seed Video Generation"
   ]
  },
  {
   "cell_type": "code",
   "execution_count": 5,
   "metadata": {
    "pycharm": {
     "name": "#%%\n"
    }
   },
   "outputs": [
    {
     "data": {
      "text/plain": [
       "array(['Antitheist', 'Alt-lite', 'Alt-right', 'Incel',\n",
       "       'Intellectual Dark Web', 'MGTOW', 'MRA', 'PUA'], dtype=object)"
      ]
     },
     "execution_count": 5,
     "metadata": {},
     "output_type": "execute_result"
    }
   ],
   "source": [
    "channels_df['Category'].unique()"
   ]
  },
  {
   "cell_type": "code",
   "execution_count": 6,
   "metadata": {
    "pycharm": {
     "name": "#%%\n"
    }
   },
   "outputs": [
    {
     "data": {
      "text/html": [
       "<div>\n",
       "<style scoped>\n",
       "    .dataframe tbody tr th:only-of-type {\n",
       "        vertical-align: middle;\n",
       "    }\n",
       "\n",
       "    .dataframe tbody tr th {\n",
       "        vertical-align: top;\n",
       "    }\n",
       "\n",
       "    .dataframe thead th {\n",
       "        text-align: right;\n",
       "    }\n",
       "</style>\n",
       "<table border=\"1\" class=\"dataframe\">\n",
       "  <thead>\n",
       "    <tr style=\"text-align: right;\">\n",
       "      <th></th>\n",
       "      <th>Name</th>\n",
       "      <th>Id</th>\n",
       "      <th>Category</th>\n",
       "      <th>Subscribers</th>\n",
       "      <th>Description</th>\n",
       "      <th>Available</th>\n",
       "    </tr>\n",
       "  </thead>\n",
       "  <tbody>\n",
       "    <tr>\n",
       "      <th>356</th>\n",
       "      <td>AltRight.com</td>\n",
       "      <td>UCSTy-H5lSiCcozas32sfJlQ</td>\n",
       "      <td>Alt-right</td>\n",
       "      <td>20000</td>\n",
       "      <td>Perspectives on culture and politics from Rich...</td>\n",
       "      <td>True</td>\n",
       "    </tr>\n",
       "    <tr>\n",
       "      <th>357</th>\n",
       "      <td>AmRenVideos</td>\n",
       "      <td>UCMLbmp5tcLxzahMLTmeM4lg</td>\n",
       "      <td>Alt-right</td>\n",
       "      <td>-1</td>\n",
       "      <td>NaN</td>\n",
       "      <td>False</td>\n",
       "    </tr>\n",
       "    <tr>\n",
       "      <th>358</th>\n",
       "      <td>AmRen Podcasts</td>\n",
       "      <td>UCyZVnp-_owuoPlzNJNtaxZQ</td>\n",
       "      <td>Alt-right</td>\n",
       "      <td>-1</td>\n",
       "      <td>NaN</td>\n",
       "      <td>False</td>\n",
       "    </tr>\n",
       "    <tr>\n",
       "      <th>359</th>\n",
       "      <td>The Reality Calls Show</td>\n",
       "      <td>UCmtALVZjXFzb4v3fIXDmDyw</td>\n",
       "      <td>Alt-right</td>\n",
       "      <td>9380</td>\n",
       "      <td>The Reality Calls Show with Tara McCarthy.\\n\\n...</td>\n",
       "      <td>True</td>\n",
       "    </tr>\n",
       "    <tr>\n",
       "      <th>360</th>\n",
       "      <td>Faith J Goldy</td>\n",
       "      <td>UClMWnUHbxJKJLUgloN1mPUA</td>\n",
       "      <td>Alt-right</td>\n",
       "      <td>92300</td>\n",
       "      <td>✝️ For Christ the King &amp; Country 🍁\\n\\n________...</td>\n",
       "      <td>True</td>\n",
       "    </tr>\n",
       "  </tbody>\n",
       "</table>\n",
       "</div>"
      ],
      "text/plain": [
       "                       Name                        Id   Category  Subscribers  \\\n",
       "356            AltRight.com  UCSTy-H5lSiCcozas32sfJlQ  Alt-right        20000   \n",
       "357             AmRenVideos  UCMLbmp5tcLxzahMLTmeM4lg  Alt-right           -1   \n",
       "358          AmRen Podcasts  UCyZVnp-_owuoPlzNJNtaxZQ  Alt-right           -1   \n",
       "359  The Reality Calls Show  UCmtALVZjXFzb4v3fIXDmDyw  Alt-right         9380   \n",
       "360           Faith J Goldy  UClMWnUHbxJKJLUgloN1mPUA  Alt-right        92300   \n",
       "\n",
       "                                           Description  Available  \n",
       "356  Perspectives on culture and politics from Rich...       True  \n",
       "357                                                NaN      False  \n",
       "358                                                NaN      False  \n",
       "359  The Reality Calls Show with Tara McCarthy.\\n\\n...       True  \n",
       "360  ✝️ For Christ the King & Country 🍁\\n\\n________...       True  "
      ]
     },
     "execution_count": 6,
     "metadata": {},
     "output_type": "execute_result"
    }
   ],
   "source": [
    "alt_right_channels_df = channels_df[channels_df['Category']=='Alt-right']\n",
    "alt_right_channels_df.head()"
   ]
  },
  {
   "cell_type": "code",
   "execution_count": 7,
   "metadata": {
    "pycharm": {
     "name": "#%%\n"
    }
   },
   "outputs": [
    {
     "data": {
      "text/html": [
       "<div>\n",
       "<style scoped>\n",
       "    .dataframe tbody tr th:only-of-type {\n",
       "        vertical-align: middle;\n",
       "    }\n",
       "\n",
       "    .dataframe tbody tr th {\n",
       "        vertical-align: top;\n",
       "    }\n",
       "\n",
       "    .dataframe thead th {\n",
       "        text-align: right;\n",
       "    }\n",
       "</style>\n",
       "<table border=\"1\" class=\"dataframe\">\n",
       "  <thead>\n",
       "    <tr style=\"text-align: right;\">\n",
       "      <th></th>\n",
       "      <th>Name</th>\n",
       "      <th>Id</th>\n",
       "      <th>Category</th>\n",
       "      <th>Subscribers</th>\n",
       "      <th>Description</th>\n",
       "      <th>Available</th>\n",
       "    </tr>\n",
       "  </thead>\n",
       "  <tbody>\n",
       "    <tr>\n",
       "      <th>356</th>\n",
       "      <td>AltRight.com</td>\n",
       "      <td>UCSTy-H5lSiCcozas32sfJlQ</td>\n",
       "      <td>Alt-right</td>\n",
       "      <td>20000</td>\n",
       "      <td>Perspectives on culture and politics from Rich...</td>\n",
       "      <td>True</td>\n",
       "    </tr>\n",
       "    <tr>\n",
       "      <th>360</th>\n",
       "      <td>Faith J Goldy</td>\n",
       "      <td>UClMWnUHbxJKJLUgloN1mPUA</td>\n",
       "      <td>Alt-right</td>\n",
       "      <td>92300</td>\n",
       "      <td>✝️ For Christ the King &amp; Country 🍁\\n\\n________...</td>\n",
       "      <td>True</td>\n",
       "    </tr>\n",
       "    <tr>\n",
       "      <th>370</th>\n",
       "      <td>Ayla Stewart Wife With A Purpose</td>\n",
       "      <td>UCZeP6H2mELnRI9imY5Iga0g</td>\n",
       "      <td>Alt-right</td>\n",
       "      <td>10200</td>\n",
       "      <td>Ayla Stewart is a writer, artist and Youtuber....</td>\n",
       "      <td>True</td>\n",
       "    </tr>\n",
       "    <tr>\n",
       "      <th>374</th>\n",
       "      <td>The Golden One</td>\n",
       "      <td>UCN0-RRaxMgh86eOwndAklxw</td>\n",
       "      <td>Alt-right</td>\n",
       "      <td>112000</td>\n",
       "      <td>This is a channel dedicated to how glorious an...</td>\n",
       "      <td>True</td>\n",
       "    </tr>\n",
       "    <tr>\n",
       "      <th>376</th>\n",
       "      <td>Voxiversity</td>\n",
       "      <td>UCutpp9X6rKErxUkv4wKBRPA</td>\n",
       "      <td>Alt-right</td>\n",
       "      <td>17500</td>\n",
       "      <td>A series of online lectures by Vox Day.</td>\n",
       "      <td>True</td>\n",
       "    </tr>\n",
       "  </tbody>\n",
       "</table>\n",
       "</div>"
      ],
      "text/plain": [
       "                                 Name                        Id   Category  \\\n",
       "356                      AltRight.com  UCSTy-H5lSiCcozas32sfJlQ  Alt-right   \n",
       "360                     Faith J Goldy  UClMWnUHbxJKJLUgloN1mPUA  Alt-right   \n",
       "370  Ayla Stewart Wife With A Purpose  UCZeP6H2mELnRI9imY5Iga0g  Alt-right   \n",
       "374                    The Golden One  UCN0-RRaxMgh86eOwndAklxw  Alt-right   \n",
       "376                       Voxiversity  UCutpp9X6rKErxUkv4wKBRPA  Alt-right   \n",
       "\n",
       "     Subscribers                                        Description  Available  \n",
       "356        20000  Perspectives on culture and politics from Rich...       True  \n",
       "360        92300  ✝️ For Christ the King & Country 🍁\\n\\n________...       True  \n",
       "370        10200  Ayla Stewart is a writer, artist and Youtuber....       True  \n",
       "374       112000  This is a channel dedicated to how glorious an...       True  \n",
       "376        17500            A series of online lectures by Vox Day.       True  "
      ]
     },
     "execution_count": 7,
     "metadata": {},
     "output_type": "execute_result"
    }
   ],
   "source": [
    "alt_right_pop_channels_df = alt_right_channels_df[alt_right_channels_df['Subscribers']>10000]\n",
    "alt_right_pop_channels_df.head()"
   ]
  },
  {
   "cell_type": "code",
   "execution_count": 8,
   "metadata": {
    "pycharm": {
     "name": "#%%\n"
    }
   },
   "outputs": [
    {
     "data": {
      "text/plain": [
       "(20, 6)"
      ]
     },
     "execution_count": 8,
     "metadata": {},
     "output_type": "execute_result"
    }
   ],
   "source": [
    "alt_right_pop_channels_df.shape"
   ]
  },
  {
   "cell_type": "code",
   "execution_count": 9,
   "metadata": {
    "pycharm": {
     "name": "#%%\n"
    }
   },
   "outputs": [
    {
     "data": {
      "text/plain": [
       "356    UCSTy-H5lSiCcozas32sfJlQ\n",
       "360    UClMWnUHbxJKJLUgloN1mPUA\n",
       "370    UCZeP6H2mELnRI9imY5Iga0g\n",
       "374    UCN0-RRaxMgh86eOwndAklxw\n",
       "376    UCutpp9X6rKErxUkv4wKBRPA\n",
       "378    UCGJNdaSwFeP3pLd1MhN0dRg\n",
       "379    UCmrLCXSDScliR7q8AxxjvXg\n",
       "382    UCBceihEYR7elOoeWTuDhAzA\n",
       "391    UC66IBH4uFkBTzEh2olFFJSg\n",
       "393    UCur6nu-T7FilkEztCm_S8yA\n",
       "397    UCZtDKD0pFpPclXA7ZAti90w\n",
       "399    UCVO8YsD87ibqRGIJ7o8sOzg\n",
       "407    UC3FqYK9UCKtmcTwSYo7mwpw\n",
       "410    UCqDUhDiWJdk3inMxtEPOUWw\n",
       "411    UCLM6JlQkQ9tltBL9Bipci9g\n",
       "413    UCdEfsAy6rUDPnm9HwKA_asg\n",
       "421    UC2w1CQqPli4w94-PCg2UvJQ\n",
       "430    UCHC60upCUfq7EAfw6oDQRDA\n",
       "432    UCkXYznmArMELRxH_36uM1lQ\n",
       "442    UCkY8CvV8WQFe87CZGmvuYHA\n",
       "Name: Id, dtype: object"
      ]
     },
     "execution_count": 9,
     "metadata": {},
     "output_type": "execute_result"
    }
   ],
   "source": [
    "channels = alt_right_pop_channels_df['Id']\n",
    "channels"
   ]
  },
  {
   "cell_type": "code",
   "execution_count": 10,
   "metadata": {
    "pycharm": {
     "name": "#%%\n"
    }
   },
   "outputs": [],
   "source": []
  },
  {
   "cell_type": "code",
   "execution_count": 11,
   "metadata": {
    "pycharm": {
     "name": "#%%\n"
    }
   },
   "outputs": [],
   "source": [
    "videos = []"
   ]
  },
  {
   "cell_type": "code",
   "execution_count": 12,
   "metadata": {
    "pycharm": {
     "name": "#%%\n"
    }
   },
   "outputs": [
    {
     "name": "stdout",
     "output_type": "stream",
     "text": [
      "UCSTy-H5lSiCcozas32sfJlQ\n",
      "UClMWnUHbxJKJLUgloN1mPUA\n",
      "UCZeP6H2mELnRI9imY5Iga0g\n",
      "UCN0-RRaxMgh86eOwndAklxw\n",
      "UCutpp9X6rKErxUkv4wKBRPA\n",
      "UCGJNdaSwFeP3pLd1MhN0dRg\n",
      "UCmrLCXSDScliR7q8AxxjvXg\n",
      "UCBceihEYR7elOoeWTuDhAzA\n",
      "UC66IBH4uFkBTzEh2olFFJSg\n",
      "UCur6nu-T7FilkEztCm_S8yA\n",
      "UCZtDKD0pFpPclXA7ZAti90w\n",
      "UCVO8YsD87ibqRGIJ7o8sOzg\n",
      "UC3FqYK9UCKtmcTwSYo7mwpw\n",
      "UCqDUhDiWJdk3inMxtEPOUWw\n",
      "UCLM6JlQkQ9tltBL9Bipci9g\n",
      "UCdEfsAy6rUDPnm9HwKA_asg\n",
      "UC2w1CQqPli4w94-PCg2UvJQ\n",
      "UCHC60upCUfq7EAfw6oDQRDA\n",
      "UCkXYznmArMELRxH_36uM1lQ\n",
      "UCkY8CvV8WQFe87CZGmvuYHA\n"
     ]
    }
   ],
   "source": [
    "for channel in channels:\n",
    "    print(channel)\n",
    "    response_1 = videos_from_channel(channel, order='date', video_duration='short')\n",
    "    response_2 = videos_from_channel(channel, order='date', video_duration='medium')\n",
    "    videos.append(response_1)\n",
    "    videos.append(response_2)"
   ]
  },
  {
   "cell_type": "code",
   "execution_count": 20,
   "metadata": {
    "pycharm": {
     "name": "#%%\n"
    }
   },
   "outputs": [],
   "source": [
    "videos_list = []\n",
    "for layer_1 in videos:\n",
    "    for layer_2 in layer_1:\n",
    "        videos_list.append(layer_2)"
   ]
  },
  {
   "cell_type": "code",
   "execution_count": 21,
   "metadata": {
    "pycharm": {
     "name": "#%%\n"
    }
   },
   "outputs": [
    {
     "data": {
      "text/html": [
       "<div>\n",
       "<style scoped>\n",
       "    .dataframe tbody tr th:only-of-type {\n",
       "        vertical-align: middle;\n",
       "    }\n",
       "\n",
       "    .dataframe tbody tr th {\n",
       "        vertical-align: top;\n",
       "    }\n",
       "\n",
       "    .dataframe thead th {\n",
       "        text-align: right;\n",
       "    }\n",
       "</style>\n",
       "<table border=\"1\" class=\"dataframe\">\n",
       "  <thead>\n",
       "    <tr style=\"text-align: right;\">\n",
       "      <th></th>\n",
       "      <th>vid</th>\n",
       "      <th>cid</th>\n",
       "      <th>title</th>\n",
       "      <th>description</th>\n",
       "    </tr>\n",
       "  </thead>\n",
       "  <tbody>\n",
       "    <tr>\n",
       "      <th>0</th>\n",
       "      <td>zlQMwWkZNp8</td>\n",
       "      <td>UCSTy-H5lSiCcozas32sfJlQ</td>\n",
       "      <td>INTERREGNUM HAS MOVED</td>\n",
       "      <td>Source: https://www.spreaker.com/user/altright...</td>\n",
       "    </tr>\n",
       "    <tr>\n",
       "      <th>1</th>\n",
       "      <td>7r9W-qadhVQ</td>\n",
       "      <td>UCSTy-H5lSiCcozas32sfJlQ</td>\n",
       "      <td>Join Me At Michigan State!</td>\n",
       "      <td>Richard Spencer talks about his upcoming appea...</td>\n",
       "    </tr>\n",
       "    <tr>\n",
       "      <th>2</th>\n",
       "      <td>P_xubHEaR6w</td>\n",
       "      <td>UCSTy-H5lSiCcozas32sfJlQ</td>\n",
       "      <td>#FreeAmRen</td>\n",
       "      <td>Richard Spencer calls on the Alt-Right to twee...</td>\n",
       "    </tr>\n",
       "    <tr>\n",
       "      <th>3</th>\n",
       "      <td>w3zFUZejKxM</td>\n",
       "      <td>UCSTy-H5lSiCcozas32sfJlQ</td>\n",
       "      <td>The Best of Budapest&amp;#39;s Christmas Fair 2017</td>\n",
       "      <td>If anyone would like to experience a living ex...</td>\n",
       "    </tr>\n",
       "    <tr>\n",
       "      <th>4</th>\n",
       "      <td>AnUPJEs8aWc</td>\n",
       "      <td>UCSTy-H5lSiCcozas32sfJlQ</td>\n",
       "      <td>Richard Spencer Protests DACA Outside Whitehouse</td>\n",
       "      <td>Richard Spencer speaks at an Identity Europa r...</td>\n",
       "    </tr>\n",
       "  </tbody>\n",
       "</table>\n",
       "</div>"
      ],
      "text/plain": [
       "           vid                       cid  \\\n",
       "0  zlQMwWkZNp8  UCSTy-H5lSiCcozas32sfJlQ   \n",
       "1  7r9W-qadhVQ  UCSTy-H5lSiCcozas32sfJlQ   \n",
       "2  P_xubHEaR6w  UCSTy-H5lSiCcozas32sfJlQ   \n",
       "3  w3zFUZejKxM  UCSTy-H5lSiCcozas32sfJlQ   \n",
       "4  AnUPJEs8aWc  UCSTy-H5lSiCcozas32sfJlQ   \n",
       "\n",
       "                                              title  \\\n",
       "0                             INTERREGNUM HAS MOVED   \n",
       "1                        Join Me At Michigan State!   \n",
       "2                                        #FreeAmRen   \n",
       "3    The Best of Budapest&#39;s Christmas Fair 2017   \n",
       "4  Richard Spencer Protests DACA Outside Whitehouse   \n",
       "\n",
       "                                         description  \n",
       "0  Source: https://www.spreaker.com/user/altright...  \n",
       "1  Richard Spencer talks about his upcoming appea...  \n",
       "2  Richard Spencer calls on the Alt-Right to twee...  \n",
       "3  If anyone would like to experience a living ex...  \n",
       "4  Richard Spencer speaks at an Identity Europa r...  "
      ]
     },
     "execution_count": 21,
     "metadata": {},
     "output_type": "execute_result"
    }
   ],
   "source": [
    "videos_df = pd.DataFrame(videos_list)\n",
    "videos_df.head()"
   ]
  },
  {
   "cell_type": "code",
   "execution_count": 22,
   "metadata": {
    "pycharm": {
     "name": "#%%\n"
    }
   },
   "outputs": [
    {
     "data": {
      "text/plain": [
       "(824, 4)"
      ]
     },
     "execution_count": 22,
     "metadata": {},
     "output_type": "execute_result"
    }
   ],
   "source": [
    "videos_df.shape"
   ]
  },
  {
   "cell_type": "code",
   "execution_count": 23,
   "metadata": {
    "pycharm": {
     "name": "#%%\n"
    }
   },
   "outputs": [],
   "source": [
    "videos_df.to_csv('./videos.csv', index=False)"
   ]
  },
  {
   "cell_type": "code",
   "execution_count": 23,
   "metadata": {
    "pycharm": {
     "name": "#%%\n"
    }
   },
   "outputs": [],
   "source": []
  }
 ],
 "metadata": {
  "kernelspec": {
   "display_name": "Python 3",
   "language": "python",
   "name": "python3"
  },
  "language_info": {
   "codemirror_mode": {
    "name": "ipython",
    "version": 3
   },
   "file_extension": ".py",
   "mimetype": "text/x-python",
   "name": "python",
   "nbconvert_exporter": "python",
   "pygments_lexer": "ipython3",
   "version": "3.8.8"
  }
 },
 "nbformat": 4,
 "nbformat_minor": 1
}
