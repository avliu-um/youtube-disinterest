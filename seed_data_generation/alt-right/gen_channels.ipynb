{
 "cells": [
  {
   "cell_type": "code",
   "execution_count": 2,
   "id": "2e51da4e",
   "metadata": {},
   "outputs": [],
   "source": [
    "import pandas as pd"
   ]
  },
  {
   "cell_type": "code",
   "execution_count": null,
   "id": "ba7f78de",
   "metadata": {},
   "outputs": [],
   "source": []
  },
  {
   "cell_type": "code",
   "execution_count": 12,
   "id": "bd7a9d46",
   "metadata": {},
   "outputs": [],
   "source": [
    "channels_df = pd.read_csv('../sources/channel_attributes.csv')"
   ]
  },
  {
   "cell_type": "code",
   "execution_count": 14,
   "id": "23e1378d",
   "metadata": {},
   "outputs": [
    {
     "data": {
      "text/html": [
       "<div>\n",
       "<style scoped>\n",
       "    .dataframe tbody tr th:only-of-type {\n",
       "        vertical-align: middle;\n",
       "    }\n",
       "\n",
       "    .dataframe tbody tr th {\n",
       "        vertical-align: top;\n",
       "    }\n",
       "\n",
       "    .dataframe thead th {\n",
       "        text-align: right;\n",
       "    }\n",
       "</style>\n",
       "<table border=\"1\" class=\"dataframe\">\n",
       "  <thead>\n",
       "    <tr style=\"text-align: right;\">\n",
       "      <th></th>\n",
       "      <th>Name</th>\n",
       "      <th>Id</th>\n",
       "      <th>Category</th>\n",
       "      <th>Subscribers</th>\n",
       "      <th>Description</th>\n",
       "      <th>Available</th>\n",
       "    </tr>\n",
       "  </thead>\n",
       "  <tbody>\n",
       "    <tr>\n",
       "      <th>0</th>\n",
       "      <td>Amazing Atheist</td>\n",
       "      <td>UCjNxszyFPasDdRoD9J6X-sw</td>\n",
       "      <td>Antitheist</td>\n",
       "      <td>966000</td>\n",
       "      <td>The Amazing Atheist is a professional ranter w...</td>\n",
       "      <td>True</td>\n",
       "    </tr>\n",
       "    <tr>\n",
       "      <th>1</th>\n",
       "      <td>Thunderf00t</td>\n",
       "      <td>UCmb8hO2ilV9vRa8cilis88A</td>\n",
       "      <td>Antitheist</td>\n",
       "      <td>1010000</td>\n",
       "      <td>The true beauty of a self-inquiring sentient u...</td>\n",
       "      <td>True</td>\n",
       "    </tr>\n",
       "    <tr>\n",
       "      <th>2</th>\n",
       "      <td>JaclynGlenn</td>\n",
       "      <td>UCravYcv6C0CopL2ukVzhzNw</td>\n",
       "      <td>Antitheist</td>\n",
       "      <td>813000</td>\n",
       "      <td>I'm on every social platform @jaclynglenn \\n\\n...</td>\n",
       "      <td>True</td>\n",
       "    </tr>\n",
       "    <tr>\n",
       "      <th>3</th>\n",
       "      <td>Desertphile</td>\n",
       "      <td>UCYnwmslj2knI9iAiXM4UOgg</td>\n",
       "      <td>Antitheist</td>\n",
       "      <td>10800</td>\n",
       "      <td>Gravity.  GRAVITY!\\n\\nPsycho anti-social ravin...</td>\n",
       "      <td>True</td>\n",
       "    </tr>\n",
       "    <tr>\n",
       "      <th>4</th>\n",
       "      <td>Hannah and Jake</td>\n",
       "      <td>UCgGgkVyadk0TdxmVzYcAM-Q</td>\n",
       "      <td>Antitheist</td>\n",
       "      <td>153000</td>\n",
       "      <td>Hannah and Jake sit and talk about everything,...</td>\n",
       "      <td>True</td>\n",
       "    </tr>\n",
       "  </tbody>\n",
       "</table>\n",
       "</div>"
      ],
      "text/plain": [
       "              Name                        Id    Category  Subscribers  \\\n",
       "0  Amazing Atheist  UCjNxszyFPasDdRoD9J6X-sw  Antitheist       966000   \n",
       "1      Thunderf00t  UCmb8hO2ilV9vRa8cilis88A  Antitheist      1010000   \n",
       "2      JaclynGlenn  UCravYcv6C0CopL2ukVzhzNw  Antitheist       813000   \n",
       "3      Desertphile  UCYnwmslj2knI9iAiXM4UOgg  Antitheist        10800   \n",
       "4  Hannah and Jake  UCgGgkVyadk0TdxmVzYcAM-Q  Antitheist       153000   \n",
       "\n",
       "                                         Description  Available  \n",
       "0  The Amazing Atheist is a professional ranter w...       True  \n",
       "1  The true beauty of a self-inquiring sentient u...       True  \n",
       "2  I'm on every social platform @jaclynglenn \\n\\n...       True  \n",
       "3  Gravity.  GRAVITY!\\n\\nPsycho anti-social ravin...       True  \n",
       "4  Hannah and Jake sit and talk about everything,...       True  "
      ]
     },
     "execution_count": 14,
     "metadata": {},
     "output_type": "execute_result"
    }
   ],
   "source": [
    "channels_df.head()"
   ]
  },
  {
   "cell_type": "code",
   "execution_count": 15,
   "id": "936c0329",
   "metadata": {},
   "outputs": [
    {
     "data": {
      "text/plain": [
       "array(['Antitheist', 'Alt-lite', 'Alt-right', 'Incel',\n",
       "       'Intellectual Dark Web', 'MGTOW', 'MRA', 'PUA'], dtype=object)"
      ]
     },
     "execution_count": 15,
     "metadata": {},
     "output_type": "execute_result"
    }
   ],
   "source": [
    "channels_df['Category'].unique()"
   ]
  },
  {
   "cell_type": "code",
   "execution_count": 17,
   "id": "865d378d",
   "metadata": {},
   "outputs": [
    {
     "data": {
      "text/html": [
       "<div>\n",
       "<style scoped>\n",
       "    .dataframe tbody tr th:only-of-type {\n",
       "        vertical-align: middle;\n",
       "    }\n",
       "\n",
       "    .dataframe tbody tr th {\n",
       "        vertical-align: top;\n",
       "    }\n",
       "\n",
       "    .dataframe thead th {\n",
       "        text-align: right;\n",
       "    }\n",
       "</style>\n",
       "<table border=\"1\" class=\"dataframe\">\n",
       "  <thead>\n",
       "    <tr style=\"text-align: right;\">\n",
       "      <th></th>\n",
       "      <th>Name</th>\n",
       "      <th>Id</th>\n",
       "      <th>Category</th>\n",
       "      <th>Subscribers</th>\n",
       "      <th>Description</th>\n",
       "      <th>Available</th>\n",
       "    </tr>\n",
       "  </thead>\n",
       "  <tbody>\n",
       "    <tr>\n",
       "      <th>356</th>\n",
       "      <td>AltRight.com</td>\n",
       "      <td>UCSTy-H5lSiCcozas32sfJlQ</td>\n",
       "      <td>Alt-right</td>\n",
       "      <td>20000</td>\n",
       "      <td>Perspectives on culture and politics from Rich...</td>\n",
       "      <td>True</td>\n",
       "    </tr>\n",
       "    <tr>\n",
       "      <th>357</th>\n",
       "      <td>AmRenVideos</td>\n",
       "      <td>UCMLbmp5tcLxzahMLTmeM4lg</td>\n",
       "      <td>Alt-right</td>\n",
       "      <td>-1</td>\n",
       "      <td>NaN</td>\n",
       "      <td>False</td>\n",
       "    </tr>\n",
       "    <tr>\n",
       "      <th>358</th>\n",
       "      <td>AmRen Podcasts</td>\n",
       "      <td>UCyZVnp-_owuoPlzNJNtaxZQ</td>\n",
       "      <td>Alt-right</td>\n",
       "      <td>-1</td>\n",
       "      <td>NaN</td>\n",
       "      <td>False</td>\n",
       "    </tr>\n",
       "    <tr>\n",
       "      <th>359</th>\n",
       "      <td>The Reality Calls Show</td>\n",
       "      <td>UCmtALVZjXFzb4v3fIXDmDyw</td>\n",
       "      <td>Alt-right</td>\n",
       "      <td>9380</td>\n",
       "      <td>The Reality Calls Show with Tara McCarthy.\\n\\n...</td>\n",
       "      <td>True</td>\n",
       "    </tr>\n",
       "    <tr>\n",
       "      <th>360</th>\n",
       "      <td>Faith J Goldy</td>\n",
       "      <td>UClMWnUHbxJKJLUgloN1mPUA</td>\n",
       "      <td>Alt-right</td>\n",
       "      <td>92300</td>\n",
       "      <td>✝️ For Christ the King &amp; Country 🍁\\n\\n________...</td>\n",
       "      <td>True</td>\n",
       "    </tr>\n",
       "  </tbody>\n",
       "</table>\n",
       "</div>"
      ],
      "text/plain": [
       "                       Name                        Id   Category  Subscribers  \\\n",
       "356            AltRight.com  UCSTy-H5lSiCcozas32sfJlQ  Alt-right        20000   \n",
       "357             AmRenVideos  UCMLbmp5tcLxzahMLTmeM4lg  Alt-right           -1   \n",
       "358          AmRen Podcasts  UCyZVnp-_owuoPlzNJNtaxZQ  Alt-right           -1   \n",
       "359  The Reality Calls Show  UCmtALVZjXFzb4v3fIXDmDyw  Alt-right         9380   \n",
       "360           Faith J Goldy  UClMWnUHbxJKJLUgloN1mPUA  Alt-right        92300   \n",
       "\n",
       "                                           Description  Available  \n",
       "356  Perspectives on culture and politics from Rich...       True  \n",
       "357                                                NaN      False  \n",
       "358                                                NaN      False  \n",
       "359  The Reality Calls Show with Tara McCarthy.\\n\\n...       True  \n",
       "360  ✝️ For Christ the King & Country 🍁\\n\\n________...       True  "
      ]
     },
     "execution_count": 17,
     "metadata": {},
     "output_type": "execute_result"
    }
   ],
   "source": [
    "alt_right_df = channels_df[channels_df['Category']=='Alt-right']\n",
    "alt_right_df.head()"
   ]
  },
  {
   "cell_type": "code",
   "execution_count": 18,
   "id": "1a34f2fc",
   "metadata": {},
   "outputs": [
    {
     "data": {
      "text/plain": [
       "(88, 6)"
      ]
     },
     "execution_count": 18,
     "metadata": {},
     "output_type": "execute_result"
    }
   ],
   "source": [
    "alt_right_df.shape"
   ]
  },
  {
   "cell_type": "code",
   "execution_count": 19,
   "id": "0c12be7a",
   "metadata": {},
   "outputs": [
    {
     "data": {
      "text/plain": [
       "(20, 6)"
      ]
     },
     "execution_count": 19,
     "metadata": {},
     "output_type": "execute_result"
    }
   ],
   "source": [
    "pop_alt_right_df = alt_right_df[alt_right_df['Subscribers']>10000]\n",
    "pop_alt_right_df.shape"
   ]
  },
  {
   "cell_type": "code",
   "execution_count": null,
   "id": "74c9907e",
   "metadata": {},
   "outputs": [],
   "source": [
    "pop_alt_right_df[]"
   ]
  }
 ],
 "metadata": {
  "kernelspec": {
   "display_name": "Python 3 (ipykernel)",
   "language": "python",
   "name": "python3"
  },
  "language_info": {
   "codemirror_mode": {
    "name": "ipython",
    "version": 3
   },
   "file_extension": ".py",
   "mimetype": "text/x-python",
   "name": "python",
   "nbconvert_exporter": "python",
   "pygments_lexer": "ipython3",
   "version": "3.10.4"
  }
 },
 "nbformat": 4,
 "nbformat_minor": 5
}
