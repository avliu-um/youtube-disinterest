{
 "cells": [
  {
   "cell_type": "code",
   "execution_count": null,
   "id": "4c9abe25",
   "metadata": {},
   "outputs": [],
   "source": [
    "videos_df = pd.read_csv('./videos.csv')\n",
    "videos_df.head()"
   ]
  },
  {
   "cell_type": "code",
   "execution_count": null,
   "id": "bfc8f176",
   "metadata": {},
   "outputs": [],
   "source": [
    "# confirm these videos are all alt-right\n",
    "channels_df = pd.read_csv('./channels.csv')\n",
    "channels_df.head()"
   ]
  },
  {
   "cell_type": "code",
   "execution_count": null,
   "id": "5586c74a",
   "metadata": {},
   "outputs": [],
   "source": [
    "ar = list(channels_df[channels_df['Category']=='Alt-right']['Id'])"
   ]
  },
  {
   "cell_type": "code",
   "execution_count": null,
   "id": "f63a79ac",
   "metadata": {},
   "outputs": [],
   "source": [
    "test_ar = list(videos_df['cid'])"
   ]
  },
  {
   "cell_type": "code",
   "execution_count": null,
   "id": "c5bc9855",
   "metadata": {},
   "outputs": [],
   "source": [
    "for t in test_ar:\n",
    "    assert t in ar"
   ]
  },
  {
   "cell_type": "code",
   "execution_count": null,
   "id": "e50ab277",
   "metadata": {},
   "outputs": [],
   "source": [
    "videos = list(videos_df['vid'])"
   ]
  },
  {
   "cell_type": "code",
   "execution_count": null,
   "id": "46e01a0f",
   "metadata": {},
   "outputs": [],
   "source": [
    "sample_count = 25\n",
    "sample_size = 40\n",
    "sample_path = './alt-right/samples'\n",
    "for i in range(sample_count):\n",
    "    file = os.path.join(sample_path, 'videos_{0}.csv'.format(i))\n",
    "    sampled = sample(videos, sample_size)\n",
    "    d = pd.DataFrame({'id': sampled})\n",
    "    d.to_csv(file, header=False, index=False)"
   ]
  }
 ],
 "metadata": {
  "kernelspec": {
   "display_name": "Python 3 (ipykernel)",
   "language": "python",
   "name": "python3"
  },
  "language_info": {
   "codemirror_mode": {
    "name": "ipython",
    "version": 3
   },
   "file_extension": ".py",
   "mimetype": "text/x-python",
   "name": "python",
   "nbconvert_exporter": "python",
   "pygments_lexer": "ipython3",
   "version": "3.10.4"
  }
 },
 "nbformat": 4,
 "nbformat_minor": 5
}
