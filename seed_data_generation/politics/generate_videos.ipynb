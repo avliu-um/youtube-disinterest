{
 "cells": [
  {
   "cell_type": "code",
   "execution_count": 1,
   "metadata": {},
   "outputs": [],
   "source": [
    "import pandas as pd\n",
    "import json\n",
    "from random import sample"
   ]
  },
  {
   "cell_type": "code",
   "execution_count": 11,
   "metadata": {
    "pycharm": {
     "name": "#%%\n"
    }
   },
   "outputs": [],
   "source": []
  },
  {
   "cell_type": "markdown",
   "metadata": {},
   "source": [
    "Create csv file out of json file for video data"
   ]
  },
  {
   "cell_type": "code",
   "execution_count": 24,
   "metadata": {
    "pycharm": {
     "name": "#%%\n"
    }
   },
   "outputs": [],
   "source": [
    "videos_file = '../sources/mbfc_seed_videos2.json'"
   ]
  },
  {
   "cell_type": "code",
   "execution_count": 25,
   "metadata": {
    "pycharm": {
     "name": "#%%\n"
    }
   },
   "outputs": [],
   "source": [
    "max_vids = 20"
   ]
  },
  {
   "cell_type": "code",
   "execution_count": 6,
   "metadata": {},
   "outputs": [],
   "source": [
    "videos = []\n",
    "with open(videos_file, 'r') as fin:\n",
    "    for line in fin:\n",
    "        media_json = json.loads(line.rstrip())\n",
    "        cid = media_json['channel_id']\n",
    "        vids = media_json['video_ids'][:max_vids]\n",
    "        ideology = media_json['media_ideology']\n",
    "        for v in vids:\n",
    "            data = {'vid': v, 'cid': cid, 'channel_ideology': ideology}\n",
    "            videos.append(data)"
   ]
  },
  {
   "cell_type": "code",
   "execution_count": 26,
   "metadata": {
    "pycharm": {
     "name": "#%%\n"
    }
   },
   "outputs": [],
   "source": [
    "# Cross reference with center_channels\n",
    "# Place in samples folder"
   ]
  },
  {
   "cell_type": "code",
   "execution_count": 27,
   "metadata": {},
   "outputs": [
    {
     "data": {
      "text/plain": [
       "22191"
      ]
     },
     "execution_count": 27,
     "metadata": {},
     "output_type": "execute_result"
    }
   ],
   "source": [
    "len(videos)"
   ]
  },
  {
   "cell_type": "code",
   "execution_count": 28,
   "metadata": {},
   "outputs": [],
   "source": [
    "videos_df = pd.DataFrame(videos)"
   ]
  },
  {
   "cell_type": "code",
   "execution_count": 29,
   "metadata": {},
   "outputs": [
    {
     "data": {
      "text/html": [
       "<div>\n",
       "<style scoped>\n",
       "    .dataframe tbody tr th:only-of-type {\n",
       "        vertical-align: middle;\n",
       "    }\n",
       "\n",
       "    .dataframe tbody tr th {\n",
       "        vertical-align: top;\n",
       "    }\n",
       "\n",
       "    .dataframe thead th {\n",
       "        text-align: right;\n",
       "    }\n",
       "</style>\n",
       "<table border=\"1\" class=\"dataframe\">\n",
       "  <thead>\n",
       "    <tr style=\"text-align: right;\">\n",
       "      <th></th>\n",
       "      <th>vid</th>\n",
       "      <th>cid</th>\n",
       "      <th>channel_ideology</th>\n",
       "    </tr>\n",
       "  </thead>\n",
       "  <tbody>\n",
       "    <tr>\n",
       "      <th>0</th>\n",
       "      <td>4Eq4vEmDIbU</td>\n",
       "      <td>UC4chaUevLgCVSz-RcgqgoZQ</td>\n",
       "      <td>L</td>\n",
       "    </tr>\n",
       "    <tr>\n",
       "      <th>1</th>\n",
       "      <td>duyFe6cDp2g</td>\n",
       "      <td>UC4chaUevLgCVSz-RcgqgoZQ</td>\n",
       "      <td>L</td>\n",
       "    </tr>\n",
       "    <tr>\n",
       "      <th>2</th>\n",
       "      <td>xJPt70To_qM</td>\n",
       "      <td>UC4chaUevLgCVSz-RcgqgoZQ</td>\n",
       "      <td>L</td>\n",
       "    </tr>\n",
       "    <tr>\n",
       "      <th>3</th>\n",
       "      <td>qR4m17eKoaQ</td>\n",
       "      <td>UC4chaUevLgCVSz-RcgqgoZQ</td>\n",
       "      <td>L</td>\n",
       "    </tr>\n",
       "    <tr>\n",
       "      <th>4</th>\n",
       "      <td>uQ6sabTkjik</td>\n",
       "      <td>UC4chaUevLgCVSz-RcgqgoZQ</td>\n",
       "      <td>L</td>\n",
       "    </tr>\n",
       "  </tbody>\n",
       "</table>\n",
       "</div>"
      ],
      "text/plain": [
       "           vid                       cid channel_ideology\n",
       "0  4Eq4vEmDIbU  UC4chaUevLgCVSz-RcgqgoZQ                L\n",
       "1  duyFe6cDp2g  UC4chaUevLgCVSz-RcgqgoZQ                L\n",
       "2  xJPt70To_qM  UC4chaUevLgCVSz-RcgqgoZQ                L\n",
       "3  qR4m17eKoaQ  UC4chaUevLgCVSz-RcgqgoZQ                L\n",
       "4  uQ6sabTkjik  UC4chaUevLgCVSz-RcgqgoZQ                L"
      ]
     },
     "execution_count": 29,
     "metadata": {},
     "output_type": "execute_result"
    }
   ],
   "source": [
    "videos_df.head()"
   ]
  },
  {
   "cell_type": "code",
   "execution_count": 30,
   "metadata": {},
   "outputs": [],
   "source": [
    "videos_df.to_csv('all_videos.csv', index=False)"
   ]
  },
  {
   "cell_type": "code",
   "execution_count": null,
   "metadata": {},
   "outputs": [],
   "source": []
  },
  {
   "cell_type": "markdown",
   "metadata": {},
   "source": [
    "Confirm channels of videos in video dataset are drawn from the channels list of media_ratings.csv (if true for center, probably true for L and R). Basically, we weren't sure whether mbfc_seed_videos2.json was actually drawn from media_ratings.csv (probably true from what I remember and looking at Siqi's code) "
   ]
  },
  {
   "cell_type": "code",
   "execution_count": 32,
   "metadata": {},
   "outputs": [
    {
     "data": {
      "text/html": [
       "<div>\n",
       "<style scoped>\n",
       "    .dataframe tbody tr th:only-of-type {\n",
       "        vertical-align: middle;\n",
       "    }\n",
       "\n",
       "    .dataframe tbody tr th {\n",
       "        vertical-align: top;\n",
       "    }\n",
       "\n",
       "    .dataframe thead th {\n",
       "        text-align: right;\n",
       "    }\n",
       "</style>\n",
       "<table border=\"1\" class=\"dataframe\">\n",
       "  <thead>\n",
       "    <tr style=\"text-align: right;\">\n",
       "      <th></th>\n",
       "      <th>vid</th>\n",
       "      <th>cid</th>\n",
       "      <th>channel_ideology</th>\n",
       "    </tr>\n",
       "  </thead>\n",
       "  <tbody>\n",
       "    <tr>\n",
       "      <th>0</th>\n",
       "      <td>4Eq4vEmDIbU</td>\n",
       "      <td>UC4chaUevLgCVSz-RcgqgoZQ</td>\n",
       "      <td>L</td>\n",
       "    </tr>\n",
       "    <tr>\n",
       "      <th>1</th>\n",
       "      <td>duyFe6cDp2g</td>\n",
       "      <td>UC4chaUevLgCVSz-RcgqgoZQ</td>\n",
       "      <td>L</td>\n",
       "    </tr>\n",
       "    <tr>\n",
       "      <th>2</th>\n",
       "      <td>xJPt70To_qM</td>\n",
       "      <td>UC4chaUevLgCVSz-RcgqgoZQ</td>\n",
       "      <td>L</td>\n",
       "    </tr>\n",
       "    <tr>\n",
       "      <th>3</th>\n",
       "      <td>qR4m17eKoaQ</td>\n",
       "      <td>UC4chaUevLgCVSz-RcgqgoZQ</td>\n",
       "      <td>L</td>\n",
       "    </tr>\n",
       "    <tr>\n",
       "      <th>4</th>\n",
       "      <td>uQ6sabTkjik</td>\n",
       "      <td>UC4chaUevLgCVSz-RcgqgoZQ</td>\n",
       "      <td>L</td>\n",
       "    </tr>\n",
       "  </tbody>\n",
       "</table>\n",
       "</div>"
      ],
      "text/plain": [
       "           vid                       cid channel_ideology\n",
       "0  4Eq4vEmDIbU  UC4chaUevLgCVSz-RcgqgoZQ                L\n",
       "1  duyFe6cDp2g  UC4chaUevLgCVSz-RcgqgoZQ                L\n",
       "2  xJPt70To_qM  UC4chaUevLgCVSz-RcgqgoZQ                L\n",
       "3  qR4m17eKoaQ  UC4chaUevLgCVSz-RcgqgoZQ                L\n",
       "4  uQ6sabTkjik  UC4chaUevLgCVSz-RcgqgoZQ                L"
      ]
     },
     "execution_count": 32,
     "metadata": {},
     "output_type": "execute_result"
    }
   ],
   "source": [
    "videos_df = pd.read_csv('all_videos.csv')\n",
    "videos_df.head()"
   ]
  },
  {
   "cell_type": "code",
   "execution_count": 33,
   "metadata": {},
   "outputs": [],
   "source": [
    "channels_file = '../channels_center.csv'\n",
    "channels_df = pd.read_csv(channels_file, header=None)\n",
    "center_channels = set(channels_df[0])"
   ]
  },
  {
   "cell_type": "code",
   "execution_count": 34,
   "metadata": {},
   "outputs": [
    {
     "data": {
      "text/html": [
       "<div>\n",
       "<style scoped>\n",
       "    .dataframe tbody tr th:only-of-type {\n",
       "        vertical-align: middle;\n",
       "    }\n",
       "\n",
       "    .dataframe tbody tr th {\n",
       "        vertical-align: top;\n",
       "    }\n",
       "\n",
       "    .dataframe thead th {\n",
       "        text-align: right;\n",
       "    }\n",
       "</style>\n",
       "<table border=\"1\" class=\"dataframe\">\n",
       "  <thead>\n",
       "    <tr style=\"text-align: right;\">\n",
       "      <th></th>\n",
       "      <th>vid</th>\n",
       "      <th>cid</th>\n",
       "      <th>channel_ideology</th>\n",
       "    </tr>\n",
       "  </thead>\n",
       "  <tbody>\n",
       "    <tr>\n",
       "      <th>5271</th>\n",
       "      <td>vQCASc3anGc</td>\n",
       "      <td>UCmHL2CjQNTh89WpMrnDAWAQ</td>\n",
       "      <td>C</td>\n",
       "    </tr>\n",
       "    <tr>\n",
       "      <th>5272</th>\n",
       "      <td>aSmsoqwAY1Y</td>\n",
       "      <td>UCmHL2CjQNTh89WpMrnDAWAQ</td>\n",
       "      <td>C</td>\n",
       "    </tr>\n",
       "    <tr>\n",
       "      <th>5273</th>\n",
       "      <td>gewqYnluw0A</td>\n",
       "      <td>UCmHL2CjQNTh89WpMrnDAWAQ</td>\n",
       "      <td>C</td>\n",
       "    </tr>\n",
       "    <tr>\n",
       "      <th>5274</th>\n",
       "      <td>EXBVTINF4Fk</td>\n",
       "      <td>UCmHL2CjQNTh89WpMrnDAWAQ</td>\n",
       "      <td>C</td>\n",
       "    </tr>\n",
       "    <tr>\n",
       "      <th>5275</th>\n",
       "      <td>9xwynjdFBcY</td>\n",
       "      <td>UCmHL2CjQNTh89WpMrnDAWAQ</td>\n",
       "      <td>C</td>\n",
       "    </tr>\n",
       "  </tbody>\n",
       "</table>\n",
       "</div>"
      ],
      "text/plain": [
       "              vid                       cid channel_ideology\n",
       "5271  vQCASc3anGc  UCmHL2CjQNTh89WpMrnDAWAQ                C\n",
       "5272  aSmsoqwAY1Y  UCmHL2CjQNTh89WpMrnDAWAQ                C\n",
       "5273  gewqYnluw0A  UCmHL2CjQNTh89WpMrnDAWAQ                C\n",
       "5274  EXBVTINF4Fk  UCmHL2CjQNTh89WpMrnDAWAQ                C\n",
       "5275  9xwynjdFBcY  UCmHL2CjQNTh89WpMrnDAWAQ                C"
      ]
     },
     "execution_count": 34,
     "metadata": {},
     "output_type": "execute_result"
    }
   ],
   "source": [
    "center_videos_df = videos_df[videos_df['channel_ideology']=='C']\n",
    "center_videos_df.head()"
   ]
  },
  {
   "cell_type": "code",
   "execution_count": 35,
   "metadata": {},
   "outputs": [],
   "source": [
    "cids_2 = set(center_videos_df['cid'])"
   ]
  },
  {
   "cell_type": "code",
   "execution_count": 36,
   "metadata": {},
   "outputs": [],
   "source": [
    "diff = cids_2.difference(center_channels)"
   ]
  },
  {
   "cell_type": "code",
   "execution_count": 37,
   "metadata": {},
   "outputs": [
    {
     "data": {
      "text/plain": [
       "0"
      ]
     },
     "execution_count": 37,
     "metadata": {},
     "output_type": "execute_result"
    }
   ],
   "source": [
    "len(diff)"
   ]
  },
  {
   "cell_type": "code",
   "execution_count": null,
   "metadata": {},
   "outputs": [],
   "source": []
  },
  {
   "cell_type": "markdown",
   "metadata": {},
   "source": [
    "# 10/6 Checking whether mbfc channels \\subset media_ratings\n",
    "(Confirmed it does, then discovered in sources.txt that I already knew this)"
   ]
  },
  {
   "cell_type": "code",
   "execution_count": 2,
   "metadata": {},
   "outputs": [
    {
     "data": {
      "text/html": [
       "<div>\n",
       "<style scoped>\n",
       "    .dataframe tbody tr th:only-of-type {\n",
       "        vertical-align: middle;\n",
       "    }\n",
       "\n",
       "    .dataframe tbody tr th {\n",
       "        vertical-align: top;\n",
       "    }\n",
       "\n",
       "    .dataframe thead th {\n",
       "        text-align: right;\n",
       "    }\n",
       "</style>\n",
       "<table border=\"1\" class=\"dataframe\">\n",
       "  <thead>\n",
       "    <tr style=\"text-align: right;\">\n",
       "      <th></th>\n",
       "      <th>vid</th>\n",
       "      <th>cid</th>\n",
       "      <th>channel_ideology</th>\n",
       "    </tr>\n",
       "  </thead>\n",
       "  <tbody>\n",
       "    <tr>\n",
       "      <th>0</th>\n",
       "      <td>4Eq4vEmDIbU</td>\n",
       "      <td>UC4chaUevLgCVSz-RcgqgoZQ</td>\n",
       "      <td>L</td>\n",
       "    </tr>\n",
       "    <tr>\n",
       "      <th>1</th>\n",
       "      <td>duyFe6cDp2g</td>\n",
       "      <td>UC4chaUevLgCVSz-RcgqgoZQ</td>\n",
       "      <td>L</td>\n",
       "    </tr>\n",
       "    <tr>\n",
       "      <th>2</th>\n",
       "      <td>xJPt70To_qM</td>\n",
       "      <td>UC4chaUevLgCVSz-RcgqgoZQ</td>\n",
       "      <td>L</td>\n",
       "    </tr>\n",
       "    <tr>\n",
       "      <th>3</th>\n",
       "      <td>qR4m17eKoaQ</td>\n",
       "      <td>UC4chaUevLgCVSz-RcgqgoZQ</td>\n",
       "      <td>L</td>\n",
       "    </tr>\n",
       "    <tr>\n",
       "      <th>4</th>\n",
       "      <td>uQ6sabTkjik</td>\n",
       "      <td>UC4chaUevLgCVSz-RcgqgoZQ</td>\n",
       "      <td>L</td>\n",
       "    </tr>\n",
       "  </tbody>\n",
       "</table>\n",
       "</div>"
      ],
      "text/plain": [
       "           vid                       cid channel_ideology\n",
       "0  4Eq4vEmDIbU  UC4chaUevLgCVSz-RcgqgoZQ                L\n",
       "1  duyFe6cDp2g  UC4chaUevLgCVSz-RcgqgoZQ                L\n",
       "2  xJPt70To_qM  UC4chaUevLgCVSz-RcgqgoZQ                L\n",
       "3  qR4m17eKoaQ  UC4chaUevLgCVSz-RcgqgoZQ                L\n",
       "4  uQ6sabTkjik  UC4chaUevLgCVSz-RcgqgoZQ                L"
      ]
     },
     "execution_count": 2,
     "metadata": {},
     "output_type": "execute_result"
    }
   ],
   "source": [
    "# drawn from '../sources/mbfc_seed_videos2.json'\n",
    "videos_df = pd.read_csv('all_videos.csv')\n",
    "videos_df.head()"
   ]
  },
  {
   "cell_type": "code",
   "execution_count": 20,
   "metadata": {},
   "outputs": [],
   "source": [
    "# drawn from '../sources/media_ratings.csv'\n",
    "channels_file = '../politics/channels_right.csv'\n",
    "channels_df = pd.read_csv(channels_file, header=None)\n",
    "#channels_df.head()\n",
    "right_mr = set(channels_df[0])"
   ]
  },
  {
   "cell_type": "code",
   "execution_count": 21,
   "metadata": {},
   "outputs": [],
   "source": [
    "r_vids_mbfc = set(videos_df[videos_df['channel_ideology']=='R']['cid'])"
   ]
  },
  {
   "cell_type": "code",
   "execution_count": 23,
   "metadata": {},
   "outputs": [
    {
     "data": {
      "text/plain": [
       "set()"
      ]
     },
     "execution_count": 23,
     "metadata": {},
     "output_type": "execute_result"
    }
   ],
   "source": [
    "r_vids_mbfc - right_mr"
   ]
  },
  {
   "cell_type": "code",
   "execution_count": null,
   "metadata": {},
   "outputs": [],
   "source": []
  }
 ],
 "metadata": {
  "kernelspec": {
   "display_name": "Python 3 (ipykernel)",
   "language": "python",
   "name": "python3"
  },
  "language_info": {
   "codemirror_mode": {
    "name": "ipython",
    "version": 3
   },
   "file_extension": ".py",
   "mimetype": "text/x-python",
   "name": "python",
   "nbconvert_exporter": "python",
   "pygments_lexer": "ipython3",
   "version": "3.10.4"
  }
 },
 "nbformat": 4,
 "nbformat_minor": 1
}
