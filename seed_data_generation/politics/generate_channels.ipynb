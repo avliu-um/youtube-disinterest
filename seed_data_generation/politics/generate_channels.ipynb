{
 "cells": [
  {
   "cell_type": "code",
   "execution_count": 1,
   "metadata": {
    "collapsed": true
   },
   "outputs": [],
   "source": [
    "import pandas as pd"
   ]
  },
  {
   "cell_type": "code",
   "execution_count": 38,
   "metadata": {
    "pycharm": {
     "name": "#%%\n"
    }
   },
   "outputs": [
    {
     "data": {
      "text/html": [
       "<div>\n",
       "<style scoped>\n",
       "    .dataframe tbody tr th:only-of-type {\n",
       "        vertical-align: middle;\n",
       "    }\n",
       "\n",
       "    .dataframe tbody tr th {\n",
       "        vertical-align: top;\n",
       "    }\n",
       "\n",
       "    .dataframe thead th {\n",
       "        text-align: right;\n",
       "    }\n",
       "</style>\n",
       "<table border=\"1\" class=\"dataframe\">\n",
       "  <thead>\n",
       "    <tr style=\"text-align: right;\">\n",
       "      <th></th>\n",
       "      <th>title</th>\n",
       "      <th>country</th>\n",
       "      <th>mbfc_page</th>\n",
       "      <th>bias_raw</th>\n",
       "      <th>factual</th>\n",
       "      <th>label</th>\n",
       "      <th>url</th>\n",
       "      <th>channel_id</th>\n",
       "    </tr>\n",
       "  </thead>\n",
       "  <tbody>\n",
       "    <tr>\n",
       "      <th>0</th>\n",
       "      <td>Alliance for Justice (AFJ)</td>\n",
       "      <td>US</td>\n",
       "      <td>left</td>\n",
       "      <td>left8</td>\n",
       "      <td>High</td>\n",
       "      <td>L</td>\n",
       "      <td>https://www.afj.org/</td>\n",
       "      <td>UC4chaUevLgCVSz-RcgqgoZQ</td>\n",
       "    </tr>\n",
       "    <tr>\n",
       "      <th>1</th>\n",
       "      <td>Act.TV</td>\n",
       "      <td>US</td>\n",
       "      <td>left</td>\n",
       "      <td>left4</td>\n",
       "      <td>MostlyFactual</td>\n",
       "      <td>L</td>\n",
       "      <td>http://act.tv</td>\n",
       "      <td>UC7yoXZ7c8ZZAimgcqHBtHoQ</td>\n",
       "    </tr>\n",
       "    <tr>\n",
       "      <th>2</th>\n",
       "      <td>ACHNews</td>\n",
       "      <td>US</td>\n",
       "      <td>left</td>\n",
       "      <td>left8</td>\n",
       "      <td>MostlyFactual</td>\n",
       "      <td>L</td>\n",
       "      <td>https://achnews.org/</td>\n",
       "      <td>NaN</td>\n",
       "    </tr>\n",
       "    <tr>\n",
       "      <th>3</th>\n",
       "      <td>AlterNet</td>\n",
       "      <td>US</td>\n",
       "      <td>left</td>\n",
       "      <td>left2</td>\n",
       "      <td>Mixed</td>\n",
       "      <td>L</td>\n",
       "      <td>https://www.alternet.org/</td>\n",
       "      <td>NaN</td>\n",
       "    </tr>\n",
       "    <tr>\n",
       "      <th>4</th>\n",
       "      <td>Al DIA</td>\n",
       "      <td>US</td>\n",
       "      <td>left</td>\n",
       "      <td>left4</td>\n",
       "      <td>Mixed</td>\n",
       "      <td>L</td>\n",
       "      <td>https://aldianews.com</td>\n",
       "      <td>UCGrUeq1FtRamLqZgaCIgB3w</td>\n",
       "    </tr>\n",
       "  </tbody>\n",
       "</table>\n",
       "</div>"
      ],
      "text/plain": [
       "                        title country mbfc_page bias_raw        factual label  \\\n",
       "0  Alliance for Justice (AFJ)      US      left    left8           High     L   \n",
       "1                      Act.TV      US      left    left4  MostlyFactual     L   \n",
       "2                     ACHNews      US      left    left8  MostlyFactual     L   \n",
       "3                    AlterNet      US      left    left2          Mixed     L   \n",
       "4                      Al DIA      US      left    left4          Mixed     L   \n",
       "\n",
       "                         url                channel_id  \n",
       "0       https://www.afj.org/  UC4chaUevLgCVSz-RcgqgoZQ  \n",
       "1              http://act.tv  UC7yoXZ7c8ZZAimgcqHBtHoQ  \n",
       "2       https://achnews.org/                       NaN  \n",
       "3  https://www.alternet.org/                       NaN  \n",
       "4      https://aldianews.com  UCGrUeq1FtRamLqZgaCIgB3w  "
      ]
     },
     "execution_count": 38,
     "metadata": {},
     "output_type": "execute_result"
    }
   ],
   "source": [
    "source_file = '../sources/media_ratings.csv'\n",
    "df = pd.read_csv(source_file)\n",
    "df.head()"
   ]
  },
  {
   "cell_type": "code",
   "execution_count": 37,
   "metadata": {
    "pycharm": {
     "name": "#%%\n"
    }
   },
   "outputs": [],
   "source": [
    "pairs = [('L', 'left'), ('C', 'center'), ('R', 'right')]\n",
    "for pair in pairs:\n",
    "    label = pair[0]\n",
    "    name = pair[1]\n",
    "\n",
    "    channels = list(df[df['label'] == label]['channel_id'].dropna())\n",
    "    file = './channels_{0}.csv'.format(name)\n",
    "    d = pd.DataFrame({'id': channels})\n",
    "    d.to_csv(file, header=False, index=False)"
   ]
  },
  {
   "cell_type": "code",
   "execution_count": null,
   "metadata": {
    "pycharm": {
     "name": "#%%\n"
    }
   },
   "outputs": [],
   "source": []
  }
 ],
 "metadata": {
  "kernelspec": {
   "display_name": "Python 3 (ipykernel)",
   "language": "python",
   "name": "python3"
  },
  "language_info": {
   "codemirror_mode": {
    "name": "ipython",
    "version": 3
   },
   "file_extension": ".py",
   "mimetype": "text/x-python",
   "name": "python",
   "nbconvert_exporter": "python",
   "pygments_lexer": "ipython3",
   "version": "3.10.4"
  }
 },
 "nbformat": 4,
 "nbformat_minor": 1
}
