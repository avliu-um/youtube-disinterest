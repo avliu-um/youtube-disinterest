{
 "cells": [
  {
   "cell_type": "code",
   "execution_count": 2,
   "metadata": {
    "collapsed": true
   },
   "outputs": [],
   "source": [
    "import pandas as pd\n",
    "from random import sample"
   ]
  },
  {
   "cell_type": "code",
   "execution_count": 3,
   "metadata": {
    "pycharm": {
     "name": "#%%\n"
    }
   },
   "outputs": [
    {
     "data": {
      "text/html": [
       "<div>\n",
       "<style scoped>\n",
       "    .dataframe tbody tr th:only-of-type {\n",
       "        vertical-align: middle;\n",
       "    }\n",
       "\n",
       "    .dataframe tbody tr th {\n",
       "        vertical-align: top;\n",
       "    }\n",
       "\n",
       "    .dataframe thead th {\n",
       "        text-align: right;\n",
       "    }\n",
       "</style>\n",
       "<table border=\"1\" class=\"dataframe\">\n",
       "  <thead>\n",
       "    <tr style=\"text-align: right;\">\n",
       "      <th></th>\n",
       "      <th>vid</th>\n",
       "      <th>cid</th>\n",
       "      <th>channel_ideology</th>\n",
       "    </tr>\n",
       "  </thead>\n",
       "  <tbody>\n",
       "    <tr>\n",
       "      <th>0</th>\n",
       "      <td>4Eq4vEmDIbU</td>\n",
       "      <td>UC4chaUevLgCVSz-RcgqgoZQ</td>\n",
       "      <td>L</td>\n",
       "    </tr>\n",
       "    <tr>\n",
       "      <th>1</th>\n",
       "      <td>duyFe6cDp2g</td>\n",
       "      <td>UC4chaUevLgCVSz-RcgqgoZQ</td>\n",
       "      <td>L</td>\n",
       "    </tr>\n",
       "    <tr>\n",
       "      <th>2</th>\n",
       "      <td>xJPt70To_qM</td>\n",
       "      <td>UC4chaUevLgCVSz-RcgqgoZQ</td>\n",
       "      <td>L</td>\n",
       "    </tr>\n",
       "    <tr>\n",
       "      <th>3</th>\n",
       "      <td>qR4m17eKoaQ</td>\n",
       "      <td>UC4chaUevLgCVSz-RcgqgoZQ</td>\n",
       "      <td>L</td>\n",
       "    </tr>\n",
       "    <tr>\n",
       "      <th>4</th>\n",
       "      <td>uQ6sabTkjik</td>\n",
       "      <td>UC4chaUevLgCVSz-RcgqgoZQ</td>\n",
       "      <td>L</td>\n",
       "    </tr>\n",
       "  </tbody>\n",
       "</table>\n",
       "</div>"
      ],
      "text/plain": [
       "           vid                       cid channel_ideology\n",
       "0  4Eq4vEmDIbU  UC4chaUevLgCVSz-RcgqgoZQ                L\n",
       "1  duyFe6cDp2g  UC4chaUevLgCVSz-RcgqgoZQ                L\n",
       "2  xJPt70To_qM  UC4chaUevLgCVSz-RcgqgoZQ                L\n",
       "3  qR4m17eKoaQ  UC4chaUevLgCVSz-RcgqgoZQ                L\n",
       "4  uQ6sabTkjik  UC4chaUevLgCVSz-RcgqgoZQ                L"
      ]
     },
     "execution_count": 3,
     "metadata": {},
     "output_type": "execute_result"
    }
   ],
   "source": [
    "videos_df = pd.read_csv('./all_videos.csv')\n",
    "videos_df.head()"
   ]
  },
  {
   "cell_type": "code",
   "execution_count": 4,
   "metadata": {
    "pycharm": {
     "name": "#%%\n"
    }
   },
   "outputs": [],
   "source": [
    "sample_count = 25\n",
    "sample_size = 40"
   ]
  },
  {
   "cell_type": "code",
   "execution_count": null,
   "metadata": {
    "pycharm": {
     "name": "#%%\n"
    }
   },
   "outputs": [],
   "source": [
    "pairs = [('L', 'left'), ('C', 'center'), ('R', 'right')]\n",
    "for pair in pairs:\n",
    "    label = pair[0]\n",
    "    name = pair[1]\n",
    "\n",
    "    for i in range(sample_count):\n",
    "        videos = list(videos_df[videos_df['channel_ideology'] == label]['vid'].dropna())\n",
    "        sampled = sample(videos, sample_size)\n",
    "        file = './samples/videos_{0}_{1}.csv'.format(name, i)\n",
    "        d = pd.DataFrame({'id': sampled})\n",
    "        d.to_csv(file, header=False, index=False)"
   ]
  }
 ],
 "metadata": {
  "kernelspec": {
   "display_name": "Python 3 (ipykernel)",
   "language": "python",
   "name": "python3"
  },
  "language_info": {
   "codemirror_mode": {
    "name": "ipython",
    "version": 3
   },
   "file_extension": ".py",
   "mimetype": "text/x-python",
   "name": "python",
   "nbconvert_exporter": "python",
   "pygments_lexer": "ipython3",
   "version": "3.10.4"
  }
 },
 "nbformat": 4,
 "nbformat_minor": 1
}
