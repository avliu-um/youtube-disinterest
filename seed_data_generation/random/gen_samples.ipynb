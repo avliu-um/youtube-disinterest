{
 "cells": [
  {
   "cell_type": "code",
   "execution_count": 1,
   "id": "9e483d2f",
   "metadata": {},
   "outputs": [],
   "source": [
    "import pandas as pd\n",
    "import os\n",
    "from random import sample"
   ]
  },
  {
   "cell_type": "code",
   "execution_count": 2,
   "id": "4c9abe25",
   "metadata": {},
   "outputs": [
    {
     "data": {
      "text/html": [
       "<div>\n",
       "<style scoped>\n",
       "    .dataframe tbody tr th:only-of-type {\n",
       "        vertical-align: middle;\n",
       "    }\n",
       "\n",
       "    .dataframe tbody tr th {\n",
       "        vertical-align: top;\n",
       "    }\n",
       "\n",
       "    .dataframe thead th {\n",
       "        text-align: right;\n",
       "    }\n",
       "</style>\n",
       "<table border=\"1\" class=\"dataframe\">\n",
       "  <thead>\n",
       "    <tr style=\"text-align: right;\">\n",
       "      <th></th>\n",
       "      <th>vid</th>\n",
       "      <th>cid</th>\n",
       "      <th>title</th>\n",
       "      <th>description</th>\n",
       "    </tr>\n",
       "  </thead>\n",
       "  <tbody>\n",
       "    <tr>\n",
       "      <th>0</th>\n",
       "      <td>z2mrvWqhqJ8</td>\n",
       "      <td>UCE-LXXVl3u9yJO3WRGTrEoA</td>\n",
       "      <td>Sharing how I really eat, train &amp;amp; grow</td>\n",
       "      <td>Sharing how I really eat, train &amp; grow.</td>\n",
       "    </tr>\n",
       "    <tr>\n",
       "      <th>1</th>\n",
       "      <td>mNPSJZXgSwU</td>\n",
       "      <td>UCE-LXXVl3u9yJO3WRGTrEoA</td>\n",
       "      <td>TAKING OUT TRASH IN 2019 vs 2021🦠</td>\n",
       "      <td>Testing.</td>\n",
       "    </tr>\n",
       "    <tr>\n",
       "      <th>2</th>\n",
       "      <td>pXQwJd5Lcpg</td>\n",
       "      <td>UCE-LXXVl3u9yJO3WRGTrEoA</td>\n",
       "      <td>High Protein Breakfast Oatmeal Recipe (without...</td>\n",
       "      <td>IN this video, I show one of my favorite high ...</td>\n",
       "    </tr>\n",
       "    <tr>\n",
       "      <th>3</th>\n",
       "      <td>cTCy4W_tdao</td>\n",
       "      <td>UCE-LXXVl3u9yJO3WRGTrEoA</td>\n",
       "      <td>WORLD&amp;#39;S BIGGEST VEGAN BURGER! (10,000 CALO...</td>\n",
       "      <td>Online coaching &amp; Meal Plans: http://www.jonve...</td>\n",
       "    </tr>\n",
       "    <tr>\n",
       "      <th>4</th>\n",
       "      <td>CJ04QB4i1C4</td>\n",
       "      <td>UCE-LXXVl3u9yJO3WRGTrEoA</td>\n",
       "      <td>WORK OUT ANYWHERE | BRENDAN MEYERS COLLAB</td>\n",
       "      <td>Online coaching &amp; Meal Plans: http://www.jonve...</td>\n",
       "    </tr>\n",
       "  </tbody>\n",
       "</table>\n",
       "</div>"
      ],
      "text/plain": [
       "           vid                       cid  \\\n",
       "0  z2mrvWqhqJ8  UCE-LXXVl3u9yJO3WRGTrEoA   \n",
       "1  mNPSJZXgSwU  UCE-LXXVl3u9yJO3WRGTrEoA   \n",
       "2  pXQwJd5Lcpg  UCE-LXXVl3u9yJO3WRGTrEoA   \n",
       "3  cTCy4W_tdao  UCE-LXXVl3u9yJO3WRGTrEoA   \n",
       "4  CJ04QB4i1C4  UCE-LXXVl3u9yJO3WRGTrEoA   \n",
       "\n",
       "                                               title  \\\n",
       "0         Sharing how I really eat, train &amp; grow   \n",
       "1                  TAKING OUT TRASH IN 2019 vs 2021🦠   \n",
       "2  High Protein Breakfast Oatmeal Recipe (without...   \n",
       "3  WORLD&#39;S BIGGEST VEGAN BURGER! (10,000 CALO...   \n",
       "4          WORK OUT ANYWHERE | BRENDAN MEYERS COLLAB   \n",
       "\n",
       "                                         description  \n",
       "0            Sharing how I really eat, train & grow.  \n",
       "1                                           Testing.  \n",
       "2  IN this video, I show one of my favorite high ...  \n",
       "3  Online coaching & Meal Plans: http://www.jonve...  \n",
       "4  Online coaching & Meal Plans: http://www.jonve...  "
      ]
     },
     "execution_count": 2,
     "metadata": {},
     "output_type": "execute_result"
    }
   ],
   "source": [
    "videos_df = pd.read_csv('./videos.csv')\n",
    "videos_df.head()"
   ]
  },
  {
   "cell_type": "code",
   "execution_count": 3,
   "id": "5ad345bc",
   "metadata": {},
   "outputs": [
    {
     "data": {
      "text/plain": [
       "(3781, 4)"
      ]
     },
     "execution_count": 3,
     "metadata": {},
     "output_type": "execute_result"
    }
   ],
   "source": [
    "videos_df.shape"
   ]
  },
  {
   "cell_type": "code",
   "execution_count": 4,
   "id": "e50ab277",
   "metadata": {},
   "outputs": [],
   "source": [
    "videos = list(videos_df['vid'])"
   ]
  },
  {
   "cell_type": "code",
   "execution_count": 6,
   "id": "46e01a0f",
   "metadata": {},
   "outputs": [],
   "source": [
    "sample_count = 25\n",
    "sample_size = 40\n",
    "sample_path = './samples'\n",
    "for i in range(sample_count):\n",
    "    file = os.path.join(sample_path, 'videos_{0}.csv'.format(i))\n",
    "    sampled = sample(videos, sample_size)\n",
    "    d = pd.DataFrame({'id': sampled})\n",
    "    d.to_csv(file, header=False, index=False)"
   ]
  },
  {
   "cell_type": "code",
   "execution_count": null,
   "id": "74a7cb44",
   "metadata": {},
   "outputs": [],
   "source": []
  }
 ],
 "metadata": {
  "kernelspec": {
   "display_name": "Python 3 (ipykernel)",
   "language": "python",
   "name": "python3"
  },
  "language_info": {
   "codemirror_mode": {
    "name": "ipython",
    "version": 3
   },
   "file_extension": ".py",
   "mimetype": "text/x-python",
   "name": "python",
   "nbconvert_exporter": "python",
   "pygments_lexer": "ipython3",
   "version": "3.10.4"
  }
 },
 "nbformat": 4,
 "nbformat_minor": 5
}
