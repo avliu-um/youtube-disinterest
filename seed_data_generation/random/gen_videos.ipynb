{
 "cells": [
  {
   "cell_type": "code",
   "execution_count": 11,
   "id": "54afb431",
   "metadata": {},
   "outputs": [],
   "source": [
    "# For Jolie\n",
    "\n",
    "# Require Conda env setup\n",
    "#    pandas, random. googleapiclient"
   ]
  },
  {
   "cell_type": "code",
   "execution_count": 2,
   "id": "d295673b",
   "metadata": {},
   "outputs": [],
   "source": [
    "import pandas as pd\n",
    "from random import sample\n",
    "import os\n",
    "from googleapiclient.discovery import build"
   ]
  },
  {
   "cell_type": "markdown",
   "id": "7f6c969d",
   "metadata": {},
   "source": [
    "# Get the list of channels"
   ]
  },
  {
   "cell_type": "code",
   "execution_count": 4,
   "id": "b5daf6df",
   "metadata": {},
   "outputs": [
    {
     "data": {
      "text/html": [
       "<div>\n",
       "<style scoped>\n",
       "    .dataframe tbody tr th:only-of-type {\n",
       "        vertical-align: middle;\n",
       "    }\n",
       "\n",
       "    .dataframe tbody tr th {\n",
       "        vertical-align: top;\n",
       "    }\n",
       "\n",
       "    .dataframe thead th {\n",
       "        text-align: right;\n",
       "    }\n",
       "</style>\n",
       "<table border=\"1\" class=\"dataframe\">\n",
       "  <thead>\n",
       "    <tr style=\"text-align: right;\">\n",
       "      <th></th>\n",
       "      <th>0</th>\n",
       "    </tr>\n",
       "  </thead>\n",
       "  <tbody>\n",
       "    <tr>\n",
       "      <th>0</th>\n",
       "      <td>UCE-LXXVl3u9yJO3WRGTrEoA</td>\n",
       "    </tr>\n",
       "    <tr>\n",
       "      <th>1</th>\n",
       "      <td>UCLo0YCIaSzmrZ6Nr_XwQWrw</td>\n",
       "    </tr>\n",
       "    <tr>\n",
       "      <th>2</th>\n",
       "      <td>UCxmkHW42679-8rLTAsRyIgA</td>\n",
       "    </tr>\n",
       "    <tr>\n",
       "      <th>3</th>\n",
       "      <td>UCEehV3MM7V30jTBjTNDpN5Q</td>\n",
       "    </tr>\n",
       "    <tr>\n",
       "      <th>4</th>\n",
       "      <td>UCmVNqU2vrtph7n6FQoRjDbg</td>\n",
       "    </tr>\n",
       "  </tbody>\n",
       "</table>\n",
       "</div>"
      ],
      "text/plain": [
       "                          0\n",
       "0  UCE-LXXVl3u9yJO3WRGTrEoA\n",
       "1  UCLo0YCIaSzmrZ6Nr_XwQWrw\n",
       "2  UCxmkHW42679-8rLTAsRyIgA\n",
       "3  UCEehV3MM7V30jTBjTNDpN5Q\n",
       "4  UCmVNqU2vrtph7n6FQoRjDbg"
      ]
     },
     "execution_count": 4,
     "metadata": {},
     "output_type": "execute_result"
    }
   ],
   "source": [
    "channels_df = pd.read_csv('./random_channels.csv', header=None)\n",
    "channels_df.head()"
   ]
  },
  {
   "cell_type": "code",
   "execution_count": 5,
   "id": "defca99e",
   "metadata": {},
   "outputs": [
    {
     "data": {
      "text/plain": [
       "['UCE-LXXVl3u9yJO3WRGTrEoA',\n",
       " 'UCLo0YCIaSzmrZ6Nr_XwQWrw',\n",
       " 'UCxmkHW42679-8rLTAsRyIgA',\n",
       " 'UCEehV3MM7V30jTBjTNDpN5Q',\n",
       " 'UCmVNqU2vrtph7n6FQoRjDbg',\n",
       " 'UCnUib9_1oRyUQJJUYSTGXgg',\n",
       " 'UC9Ed9JvjK_UDDpj8C_tMaqg',\n",
       " 'UCFnvNS_FRRiNhWgsyteOyuA',\n",
       " 'UC5tkSsOxlr91yi30Rs5qtfg',\n",
       " 'UCHqlMF1EvvZNFDpS1UWdG7A',\n",
       " 'UCqheLNv0VXP0BXE1cJK8Rog',\n",
       " 'UCmpAzRl7A901u5KfHl6Flkw',\n",
       " 'UCyyuU8c4ZYFTPv5a6wD_6iw',\n",
       " 'UCDd9FMuiYJRRNeVfMWLFS9w',\n",
       " 'UC99Lizquk6exc9r8cu2fY_A',\n",
       " 'UCsqKbe0_9D9gO48DeuDjbCg',\n",
       " 'UCQdCpJiypq69y3PiCf2gF1A',\n",
       " 'UCSZBmDk4v3ozB3kfB2oyUEA',\n",
       " 'UCCl-77F5QnREAcBcMT9o7aQ',\n",
       " 'UCMEJyqYtHSEa2X1xj7dQdnQ',\n",
       " 'UCKZSn5C-RzrLjuWJF8wWiDw',\n",
       " 'UC9PkXgUd3NM3GXOF28ge1Ww',\n",
       " 'UCs0nji0Wy6WRV630Dzxhxzw',\n",
       " 'UCBjBZmguQzn6WCYR7DQykLw',\n",
       " 'UCCBew8QqkRkxaEcA-cO0hCA',\n",
       " 'UCIGAhiNRjFpBiYQyJ0RNyFw',\n",
       " 'UC_LDtFt-RADAdI8zIW_ecbg',\n",
       " 'UCbsKX5WM_SbHQvjGGVbRzog',\n",
       " 'UCZvMYyu8lODcgfU-3xuCm6g',\n",
       " 'UCY1gTTyBQ8m9ZoRpd7rgQCg',\n",
       " 'UCm8Txl73DpLrwwM8GA5-T9w',\n",
       " 'UCfU-vBkogd0fRAeYl1y-Z5A',\n",
       " 'UCVtQlNwE9mrNeJ8aILkJWFg',\n",
       " 'UCHPDgXw1lRrr34nkGtLWbNA',\n",
       " 'UCv-kg2QZtqrs6p42ckqntfA',\n",
       " 'UCKhrdkoY9_d7Zk_3Q0HtcqA',\n",
       " 'UCFJi-3Vfuvg3ohdtQ9aBn4Q',\n",
       " 'UCloseNEb6epWL36Ap_zZmow',\n",
       " 'UCDTHZCJJETSrFmoU9iZFPtw',\n",
       " 'UCSjlTrPYRxwiNzjGiuZm0pg',\n",
       " 'UChES1yXPn_2Skzh2kv99A7A',\n",
       " 'UCQr9gU7EoWqnwVZ0P2L4WPw',\n",
       " 'UC5eFG36orT3hQKqIksBPEIQ',\n",
       " 'UCLw6we2c2CVIqRI06O0VGtw',\n",
       " 'UCBTmEkojJLnWZCKUuVN9lOw',\n",
       " 'UCeZnkBxEwY-5tBH_yynnBvA',\n",
       " 'UCnoEj9GDaKrvJYDYn8-6gvA',\n",
       " 'UC6iyyIykxed9HQpBhswHr6Q',\n",
       " 'UCZu9AV3mrCCDpK_dy1qJRAQ',\n",
       " 'UC0WrrEOqUyDesOyGbwQPXgA']"
      ]
     },
     "execution_count": 5,
     "metadata": {},
     "output_type": "execute_result"
    }
   ],
   "source": [
    "channels_list = list(channels_df[0])\n",
    "channels_list"
   ]
  },
  {
   "cell_type": "code",
   "execution_count": null,
   "id": "34fc3040",
   "metadata": {},
   "outputs": [],
   "source": []
  },
  {
   "cell_type": "markdown",
   "id": "3f3e9655",
   "metadata": {},
   "source": [
    "# Get a given channel's videos \n",
    "## 50 most recent short and 50 most recent medium"
   ]
  },
  {
   "cell_type": "code",
   "execution_count": 6,
   "id": "4424c1a0",
   "metadata": {},
   "outputs": [],
   "source": [
    "YOUTUBE_API_SERVICE_NAME = 'youtube'\n",
    "YOUTUBE_API_VERSION = 'v3'\n",
    "dev_key_file = 'yt_api_dev_key.txt'\n",
    "text_file = open(dev_key_file, \"r\")\n",
    "DEVELOPER_KEY = text_file.read()\n",
    "text_file.close()"
   ]
  },
  {
   "cell_type": "code",
   "execution_count": 7,
   "id": "d48a077f",
   "metadata": {},
   "outputs": [],
   "source": [
    "# Get video ids, along with title and description, from a certain channel\n",
    "def videos_from_channel(channel, order, video_duration):\n",
    "    videos = []\n",
    "    response = api_search_channel(channel, order, video_duration)\n",
    "    for video in response:\n",
    "        vid = None\n",
    "        title = None\n",
    "        des = None\n",
    "        if 'id' in video and 'videoId' in video['id']:\n",
    "            vid = video['id']['videoId']\n",
    "        if 'snippet' in video and 'title' in video['snippet']:\n",
    "            title = video['snippet']['title']\n",
    "        if 'snippet' in video and 'description' in video['snippet']:\n",
    "            des = video['snippet']['description']\n",
    "        row = {'vid': vid, 'cid': channel, 'title': title, 'description': des}\n",
    "        videos.append(row)\n",
    "    return videos\n"
   ]
  },
  {
   "cell_type": "code",
   "execution_count": 8,
   "id": "3e1be65b",
   "metadata": {},
   "outputs": [],
   "source": [
    "# Search channel for videos\n",
    "def api_search_channel(cid, order, video_duration, part=\"snippet\", response_type=\"video\", max_results=50):\n",
    "    youtube = build(YOUTUBE_API_SERVICE_NAME, YOUTUBE_API_VERSION, developerKey=DEVELOPER_KEY)\n",
    "    request = youtube.search().list(\n",
    "        part=part,\n",
    "        order=order,\n",
    "        type=response_type,\n",
    "        channelId=cid,\n",
    "        maxResults=max_results,\n",
    "        videoDuration=video_duration\n",
    "    )\n",
    "    return execute_request(request)"
   ]
  },
  {
   "cell_type": "code",
   "execution_count": 9,
   "id": "b7d1d908",
   "metadata": {},
   "outputs": [],
   "source": [
    "def execute_request(request):\n",
    "    response = request.execute()\n",
    "\n",
    "    # Write everything\n",
    "    items = None \n",
    "    if 'items' in response.keys():\n",
    "        items = response['items']\n",
    "\n",
    "    return items\n"
   ]
  },
  {
   "cell_type": "code",
   "execution_count": 10,
   "id": "ae49412c",
   "metadata": {},
   "outputs": [],
   "source": [
    "videos = []"
   ]
  },
  {
   "cell_type": "code",
   "execution_count": 11,
   "id": "029e4100",
   "metadata": {},
   "outputs": [],
   "source": [
    "\n",
    "for channel in channels_list:\n",
    "    response_1 = videos_from_channel(channel, order='date', video_duration='short')\n",
    "    response_2 = videos_from_channel(channel, order='date', video_duration='medium')\n",
    "    videos.append(response_1)\n",
    "    videos.append(response_2)"
   ]
  },
  {
   "cell_type": "code",
   "execution_count": 12,
   "id": "50e1dc7a",
   "metadata": {},
   "outputs": [],
   "source": [
    "# Flattening list of lists into just a list because above code isn't great\n",
    "videos_list = []\n",
    "for layer_1 in videos:\n",
    "    for layer_2 in layer_1:\n",
    "        videos_list.append(layer_2)"
   ]
  },
  {
   "cell_type": "code",
   "execution_count": 13,
   "id": "6301ef64",
   "metadata": {},
   "outputs": [
    {
     "data": {
      "text/html": [
       "<div>\n",
       "<style scoped>\n",
       "    .dataframe tbody tr th:only-of-type {\n",
       "        vertical-align: middle;\n",
       "    }\n",
       "\n",
       "    .dataframe tbody tr th {\n",
       "        vertical-align: top;\n",
       "    }\n",
       "\n",
       "    .dataframe thead th {\n",
       "        text-align: right;\n",
       "    }\n",
       "</style>\n",
       "<table border=\"1\" class=\"dataframe\">\n",
       "  <thead>\n",
       "    <tr style=\"text-align: right;\">\n",
       "      <th></th>\n",
       "      <th>vid</th>\n",
       "      <th>cid</th>\n",
       "      <th>title</th>\n",
       "      <th>description</th>\n",
       "    </tr>\n",
       "  </thead>\n",
       "  <tbody>\n",
       "    <tr>\n",
       "      <th>0</th>\n",
       "      <td>z2mrvWqhqJ8</td>\n",
       "      <td>UCE-LXXVl3u9yJO3WRGTrEoA</td>\n",
       "      <td>Sharing how I really eat, train &amp;amp; grow</td>\n",
       "      <td>Sharing how I really eat, train &amp; grow.</td>\n",
       "    </tr>\n",
       "    <tr>\n",
       "      <th>1</th>\n",
       "      <td>mNPSJZXgSwU</td>\n",
       "      <td>UCE-LXXVl3u9yJO3WRGTrEoA</td>\n",
       "      <td>TAKING OUT TRASH IN 2019 vs 2021🦠</td>\n",
       "      <td>Testing.</td>\n",
       "    </tr>\n",
       "    <tr>\n",
       "      <th>2</th>\n",
       "      <td>pXQwJd5Lcpg</td>\n",
       "      <td>UCE-LXXVl3u9yJO3WRGTrEoA</td>\n",
       "      <td>High Protein Breakfast Oatmeal Recipe (without...</td>\n",
       "      <td>IN this video, I show one of my favorite high ...</td>\n",
       "    </tr>\n",
       "    <tr>\n",
       "      <th>3</th>\n",
       "      <td>cTCy4W_tdao</td>\n",
       "      <td>UCE-LXXVl3u9yJO3WRGTrEoA</td>\n",
       "      <td>WORLD&amp;#39;S BIGGEST VEGAN BURGER! (10,000 CALO...</td>\n",
       "      <td>Online coaching &amp; Meal Plans: http://www.jonve...</td>\n",
       "    </tr>\n",
       "    <tr>\n",
       "      <th>4</th>\n",
       "      <td>CJ04QB4i1C4</td>\n",
       "      <td>UCE-LXXVl3u9yJO3WRGTrEoA</td>\n",
       "      <td>WORK OUT ANYWHERE | BRENDAN MEYERS COLLAB</td>\n",
       "      <td>Online coaching &amp; Meal Plans: http://www.jonve...</td>\n",
       "    </tr>\n",
       "  </tbody>\n",
       "</table>\n",
       "</div>"
      ],
      "text/plain": [
       "           vid                       cid  \\\n",
       "0  z2mrvWqhqJ8  UCE-LXXVl3u9yJO3WRGTrEoA   \n",
       "1  mNPSJZXgSwU  UCE-LXXVl3u9yJO3WRGTrEoA   \n",
       "2  pXQwJd5Lcpg  UCE-LXXVl3u9yJO3WRGTrEoA   \n",
       "3  cTCy4W_tdao  UCE-LXXVl3u9yJO3WRGTrEoA   \n",
       "4  CJ04QB4i1C4  UCE-LXXVl3u9yJO3WRGTrEoA   \n",
       "\n",
       "                                               title  \\\n",
       "0         Sharing how I really eat, train &amp; grow   \n",
       "1                  TAKING OUT TRASH IN 2019 vs 2021🦠   \n",
       "2  High Protein Breakfast Oatmeal Recipe (without...   \n",
       "3  WORLD&#39;S BIGGEST VEGAN BURGER! (10,000 CALO...   \n",
       "4          WORK OUT ANYWHERE | BRENDAN MEYERS COLLAB   \n",
       "\n",
       "                                         description  \n",
       "0            Sharing how I really eat, train & grow.  \n",
       "1                                           Testing.  \n",
       "2  IN this video, I show one of my favorite high ...  \n",
       "3  Online coaching & Meal Plans: http://www.jonve...  \n",
       "4  Online coaching & Meal Plans: http://www.jonve...  "
      ]
     },
     "execution_count": 13,
     "metadata": {},
     "output_type": "execute_result"
    }
   ],
   "source": [
    "videos_df = pd.DataFrame(videos_list)\n",
    "videos_df.head()"
   ]
  },
  {
   "cell_type": "code",
   "execution_count": 14,
   "id": "dde29683",
   "metadata": {},
   "outputs": [],
   "source": [
    "videos_df.to_csv('./videos.csv', index=False)"
   ]
  },
  {
   "cell_type": "code",
   "execution_count": null,
   "id": "eb6a2977",
   "metadata": {},
   "outputs": [],
   "source": []
  }
 ],
 "metadata": {
  "kernelspec": {
   "display_name": "Python 3 (ipykernel)",
   "language": "python",
   "name": "python3"
  },
  "language_info": {
   "codemirror_mode": {
    "name": "ipython",
    "version": 3
   },
   "file_extension": ".py",
   "mimetype": "text/x-python",
   "name": "python",
   "nbconvert_exporter": "python",
   "pygments_lexer": "ipython3",
   "version": "3.10.4"
  }
 },
 "nbformat": 4,
 "nbformat_minor": 5
}
