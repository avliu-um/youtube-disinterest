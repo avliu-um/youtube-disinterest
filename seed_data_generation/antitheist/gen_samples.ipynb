{
 "cells": [
  {
   "cell_type": "code",
   "execution_count": 17,
   "id": "9e483d2f",
   "metadata": {},
   "outputs": [],
   "source": [
    "import pandas as pd\n",
    "import os\n",
    "from random import sample"
   ]
  },
  {
   "cell_type": "code",
   "execution_count": 3,
   "id": "4c9abe25",
   "metadata": {},
   "outputs": [
    {
     "data": {
      "text/html": [
       "<div>\n",
       "<style scoped>\n",
       "    .dataframe tbody tr th:only-of-type {\n",
       "        vertical-align: middle;\n",
       "    }\n",
       "\n",
       "    .dataframe tbody tr th {\n",
       "        vertical-align: top;\n",
       "    }\n",
       "\n",
       "    .dataframe thead th {\n",
       "        text-align: right;\n",
       "    }\n",
       "</style>\n",
       "<table border=\"1\" class=\"dataframe\">\n",
       "  <thead>\n",
       "    <tr style=\"text-align: right;\">\n",
       "      <th></th>\n",
       "      <th>vid</th>\n",
       "      <th>cid</th>\n",
       "      <th>title</th>\n",
       "      <th>description</th>\n",
       "    </tr>\n",
       "  </thead>\n",
       "  <tbody>\n",
       "    <tr>\n",
       "      <th>0</th>\n",
       "      <td>OrILwhB4LbM</td>\n",
       "      <td>UCjNxszyFPasDdRoD9J6X-sw</td>\n",
       "      <td>#Pineapplegate - TJ’s Demons - Episode 1</td>\n",
       "      <td>Animator: https://m.youtube.com/c/CoryClayton/...</td>\n",
       "    </tr>\n",
       "    <tr>\n",
       "      <th>1</th>\n",
       "      <td>Q5VeNWm845M</td>\n",
       "      <td>UCjNxszyFPasDdRoD9J6X-sw</td>\n",
       "      <td>TJ &amp;quot;The Amazing Atheist&amp;quot; Animated - ...</td>\n",
       "      <td>Animator Channel - Cory Clayton - https://bit....</td>\n",
       "    </tr>\n",
       "    <tr>\n",
       "      <th>2</th>\n",
       "      <td>OmHcd5mdSqI</td>\n",
       "      <td>UCjNxszyFPasDdRoD9J6X-sw</td>\n",
       "      <td>The New UNSOLVED MYSTERIES Sucks</td>\n",
       "      <td>THE DOUCHEBAG BIBLE ⏩Unsigned - https://amzn.t...</td>\n",
       "    </tr>\n",
       "    <tr>\n",
       "      <th>3</th>\n",
       "      <td>Oky7mxmhgM8</td>\n",
       "      <td>UCjNxszyFPasDdRoD9J6X-sw</td>\n",
       "      <td>Deep fat Fried vs. Democratic Debate - Event</td>\n",
       "      <td>https://vimeo.com/397832192/bcacd848f9.</td>\n",
       "    </tr>\n",
       "    <tr>\n",
       "      <th>4</th>\n",
       "      <td>e0ZoUY3rNEs</td>\n",
       "      <td>UCjNxszyFPasDdRoD9J6X-sw</td>\n",
       "      <td>HAPPY HALLOWEEN EVERYBODY!</td>\n",
       "      <td>THE DOUCHEBAG BIBLE ⏩Unsigned - https://amzn.t...</td>\n",
       "    </tr>\n",
       "  </tbody>\n",
       "</table>\n",
       "</div>"
      ],
      "text/plain": [
       "           vid                       cid  \\\n",
       "0  OrILwhB4LbM  UCjNxszyFPasDdRoD9J6X-sw   \n",
       "1  Q5VeNWm845M  UCjNxszyFPasDdRoD9J6X-sw   \n",
       "2  OmHcd5mdSqI  UCjNxszyFPasDdRoD9J6X-sw   \n",
       "3  Oky7mxmhgM8  UCjNxszyFPasDdRoD9J6X-sw   \n",
       "4  e0ZoUY3rNEs  UCjNxszyFPasDdRoD9J6X-sw   \n",
       "\n",
       "                                               title  \\\n",
       "0           #Pineapplegate - TJ’s Demons - Episode 1   \n",
       "1  TJ &quot;The Amazing Atheist&quot; Animated - ...   \n",
       "2                   The New UNSOLVED MYSTERIES Sucks   \n",
       "3       Deep fat Fried vs. Democratic Debate - Event   \n",
       "4                         HAPPY HALLOWEEN EVERYBODY!   \n",
       "\n",
       "                                         description  \n",
       "0  Animator: https://m.youtube.com/c/CoryClayton/...  \n",
       "1  Animator Channel - Cory Clayton - https://bit....  \n",
       "2  THE DOUCHEBAG BIBLE ⏩Unsigned - https://amzn.t...  \n",
       "3            https://vimeo.com/397832192/bcacd848f9.  \n",
       "4  THE DOUCHEBAG BIBLE ⏩Unsigned - https://amzn.t...  "
      ]
     },
     "execution_count": 3,
     "metadata": {},
     "output_type": "execute_result"
    }
   ],
   "source": [
    "videos_df = pd.read_csv('./videos.csv')\n",
    "videos_df.head()"
   ]
  },
  {
   "cell_type": "code",
   "execution_count": 4,
   "id": "5ad345bc",
   "metadata": {},
   "outputs": [
    {
     "data": {
      "text/plain": [
       "(14917, 4)"
      ]
     },
     "execution_count": 4,
     "metadata": {},
     "output_type": "execute_result"
    }
   ],
   "source": [
    "videos_df.shape"
   ]
  },
  {
   "cell_type": "code",
   "execution_count": 11,
   "id": "e50ab277",
   "metadata": {},
   "outputs": [],
   "source": [
    "videos = list(videos_df['vid'])"
   ]
  },
  {
   "cell_type": "code",
   "execution_count": 18,
   "id": "46e01a0f",
   "metadata": {},
   "outputs": [],
   "source": [
    "sample_count = 25\n",
    "sample_size = 40\n",
    "sample_path = './samples'\n",
    "for i in range(sample_count):\n",
    "    file = os.path.join(sample_path, 'videos_{0}.csv'.format(i))\n",
    "    sampled = sample(videos, sample_size)\n",
    "    d = pd.DataFrame({'id': sampled})\n",
    "    d.to_csv(file, header=False, index=False)"
   ]
  },
  {
   "cell_type": "code",
   "execution_count": null,
   "id": "74a7cb44",
   "metadata": {},
   "outputs": [],
   "source": []
  }
 ],
 "metadata": {
  "kernelspec": {
   "display_name": "Python 3",
   "language": "python",
   "name": "python3"
  },
  "language_info": {
   "codemirror_mode": {
    "name": "ipython",
    "version": 3
   },
   "file_extension": ".py",
   "mimetype": "text/x-python",
   "name": "python",
   "nbconvert_exporter": "python",
   "pygments_lexer": "ipython3",
   "version": "3.8.8"
  }
 },
 "nbformat": 4,
 "nbformat_minor": 5
}
