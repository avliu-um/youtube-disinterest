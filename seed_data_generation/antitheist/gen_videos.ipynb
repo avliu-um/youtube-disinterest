{
 "cells": [
  {
   "cell_type": "code",
   "execution_count": 1,
   "id": "d112b398",
   "metadata": {},
   "outputs": [],
   "source": [
    "import pandas as pd\n",
    "from random import sample\n",
    "import os"
   ]
  },
  {
   "cell_type": "code",
   "execution_count": 2,
   "id": "ed77a35c",
   "metadata": {},
   "outputs": [],
   "source": [
    "from util_copy import videos_from_channel"
   ]
  },
  {
   "cell_type": "code",
   "execution_count": 3,
   "id": "ff95d740",
   "metadata": {},
   "outputs": [
    {
     "data": {
      "text/html": [
       "<div>\n",
       "<style scoped>\n",
       "    .dataframe tbody tr th:only-of-type {\n",
       "        vertical-align: middle;\n",
       "    }\n",
       "\n",
       "    .dataframe tbody tr th {\n",
       "        vertical-align: top;\n",
       "    }\n",
       "\n",
       "    .dataframe thead th {\n",
       "        text-align: right;\n",
       "    }\n",
       "</style>\n",
       "<table border=\"1\" class=\"dataframe\">\n",
       "  <thead>\n",
       "    <tr style=\"text-align: right;\">\n",
       "      <th></th>\n",
       "      <th>Name</th>\n",
       "      <th>Id</th>\n",
       "      <th>Category</th>\n",
       "      <th>Subscribers</th>\n",
       "      <th>Description</th>\n",
       "      <th>Available</th>\n",
       "    </tr>\n",
       "  </thead>\n",
       "  <tbody>\n",
       "    <tr>\n",
       "      <th>0</th>\n",
       "      <td>Amazing Atheist</td>\n",
       "      <td>UCjNxszyFPasDdRoD9J6X-sw</td>\n",
       "      <td>Antitheist</td>\n",
       "      <td>966000</td>\n",
       "      <td>The Amazing Atheist is a professional ranter w...</td>\n",
       "      <td>True</td>\n",
       "    </tr>\n",
       "    <tr>\n",
       "      <th>1</th>\n",
       "      <td>Thunderf00t</td>\n",
       "      <td>UCmb8hO2ilV9vRa8cilis88A</td>\n",
       "      <td>Antitheist</td>\n",
       "      <td>1010000</td>\n",
       "      <td>The true beauty of a self-inquiring sentient u...</td>\n",
       "      <td>True</td>\n",
       "    </tr>\n",
       "    <tr>\n",
       "      <th>2</th>\n",
       "      <td>JaclynGlenn</td>\n",
       "      <td>UCravYcv6C0CopL2ukVzhzNw</td>\n",
       "      <td>Antitheist</td>\n",
       "      <td>813000</td>\n",
       "      <td>I'm on every social platform @jaclynglenn \\n\\n...</td>\n",
       "      <td>True</td>\n",
       "    </tr>\n",
       "    <tr>\n",
       "      <th>3</th>\n",
       "      <td>Desertphile</td>\n",
       "      <td>UCYnwmslj2knI9iAiXM4UOgg</td>\n",
       "      <td>Antitheist</td>\n",
       "      <td>10800</td>\n",
       "      <td>Gravity.  GRAVITY!\\n\\nPsycho anti-social ravin...</td>\n",
       "      <td>True</td>\n",
       "    </tr>\n",
       "    <tr>\n",
       "      <th>4</th>\n",
       "      <td>Hannah and Jake</td>\n",
       "      <td>UCgGgkVyadk0TdxmVzYcAM-Q</td>\n",
       "      <td>Antitheist</td>\n",
       "      <td>153000</td>\n",
       "      <td>Hannah and Jake sit and talk about everything,...</td>\n",
       "      <td>True</td>\n",
       "    </tr>\n",
       "  </tbody>\n",
       "</table>\n",
       "</div>"
      ],
      "text/plain": [
       "              Name                        Id    Category  Subscribers  \\\n",
       "0  Amazing Atheist  UCjNxszyFPasDdRoD9J6X-sw  Antitheist       966000   \n",
       "1      Thunderf00t  UCmb8hO2ilV9vRa8cilis88A  Antitheist      1010000   \n",
       "2      JaclynGlenn  UCravYcv6C0CopL2ukVzhzNw  Antitheist       813000   \n",
       "3      Desertphile  UCYnwmslj2knI9iAiXM4UOgg  Antitheist        10800   \n",
       "4  Hannah and Jake  UCgGgkVyadk0TdxmVzYcAM-Q  Antitheist       153000   \n",
       "\n",
       "                                         Description  Available  \n",
       "0  The Amazing Atheist is a professional ranter w...       True  \n",
       "1  The true beauty of a self-inquiring sentient u...       True  \n",
       "2  I'm on every social platform @jaclynglenn \\n\\n...       True  \n",
       "3  Gravity.  GRAVITY!\\n\\nPsycho anti-social ravin...       True  \n",
       "4  Hannah and Jake sit and talk about everything,...       True  "
      ]
     },
     "execution_count": 3,
     "metadata": {},
     "output_type": "execute_result"
    }
   ],
   "source": [
    "channels_df = pd.read_csv('../sources/channel_attributes.csv')\n",
    "channels_df.head()"
   ]
  },
  {
   "cell_type": "code",
   "execution_count": 4,
   "id": "dc0e0338",
   "metadata": {},
   "outputs": [
    {
     "data": {
      "text/html": [
       "<div>\n",
       "<style scoped>\n",
       "    .dataframe tbody tr th:only-of-type {\n",
       "        vertical-align: middle;\n",
       "    }\n",
       "\n",
       "    .dataframe tbody tr th {\n",
       "        vertical-align: top;\n",
       "    }\n",
       "\n",
       "    .dataframe thead th {\n",
       "        text-align: right;\n",
       "    }\n",
       "</style>\n",
       "<table border=\"1\" class=\"dataframe\">\n",
       "  <thead>\n",
       "    <tr style=\"text-align: right;\">\n",
       "      <th></th>\n",
       "      <th>Name</th>\n",
       "      <th>Id</th>\n",
       "      <th>Category</th>\n",
       "      <th>Subscribers</th>\n",
       "      <th>Description</th>\n",
       "      <th>Available</th>\n",
       "    </tr>\n",
       "  </thead>\n",
       "  <tbody>\n",
       "    <tr>\n",
       "      <th>0</th>\n",
       "      <td>Amazing Atheist</td>\n",
       "      <td>UCjNxszyFPasDdRoD9J6X-sw</td>\n",
       "      <td>Antitheist</td>\n",
       "      <td>966000</td>\n",
       "      <td>The Amazing Atheist is a professional ranter w...</td>\n",
       "      <td>True</td>\n",
       "    </tr>\n",
       "    <tr>\n",
       "      <th>1</th>\n",
       "      <td>Thunderf00t</td>\n",
       "      <td>UCmb8hO2ilV9vRa8cilis88A</td>\n",
       "      <td>Antitheist</td>\n",
       "      <td>1010000</td>\n",
       "      <td>The true beauty of a self-inquiring sentient u...</td>\n",
       "      <td>True</td>\n",
       "    </tr>\n",
       "    <tr>\n",
       "      <th>2</th>\n",
       "      <td>JaclynGlenn</td>\n",
       "      <td>UCravYcv6C0CopL2ukVzhzNw</td>\n",
       "      <td>Antitheist</td>\n",
       "      <td>813000</td>\n",
       "      <td>I'm on every social platform @jaclynglenn \\n\\n...</td>\n",
       "      <td>True</td>\n",
       "    </tr>\n",
       "    <tr>\n",
       "      <th>3</th>\n",
       "      <td>Desertphile</td>\n",
       "      <td>UCYnwmslj2knI9iAiXM4UOgg</td>\n",
       "      <td>Antitheist</td>\n",
       "      <td>10800</td>\n",
       "      <td>Gravity.  GRAVITY!\\n\\nPsycho anti-social ravin...</td>\n",
       "      <td>True</td>\n",
       "    </tr>\n",
       "    <tr>\n",
       "      <th>4</th>\n",
       "      <td>Hannah and Jake</td>\n",
       "      <td>UCgGgkVyadk0TdxmVzYcAM-Q</td>\n",
       "      <td>Antitheist</td>\n",
       "      <td>153000</td>\n",
       "      <td>Hannah and Jake sit and talk about everything,...</td>\n",
       "      <td>True</td>\n",
       "    </tr>\n",
       "  </tbody>\n",
       "</table>\n",
       "</div>"
      ],
      "text/plain": [
       "              Name                        Id    Category  Subscribers  \\\n",
       "0  Amazing Atheist  UCjNxszyFPasDdRoD9J6X-sw  Antitheist       966000   \n",
       "1      Thunderf00t  UCmb8hO2ilV9vRa8cilis88A  Antitheist      1010000   \n",
       "2      JaclynGlenn  UCravYcv6C0CopL2ukVzhzNw  Antitheist       813000   \n",
       "3      Desertphile  UCYnwmslj2knI9iAiXM4UOgg  Antitheist        10800   \n",
       "4  Hannah and Jake  UCgGgkVyadk0TdxmVzYcAM-Q  Antitheist       153000   \n",
       "\n",
       "                                         Description  Available  \n",
       "0  The Amazing Atheist is a professional ranter w...       True  \n",
       "1  The true beauty of a self-inquiring sentient u...       True  \n",
       "2  I'm on every social platform @jaclynglenn \\n\\n...       True  \n",
       "3  Gravity.  GRAVITY!\\n\\nPsycho anti-social ravin...       True  \n",
       "4  Hannah and Jake sit and talk about everything,...       True  "
      ]
     },
     "execution_count": 4,
     "metadata": {},
     "output_type": "execute_result"
    }
   ],
   "source": [
    "at_df = channels_df[channels_df['Category']=='Antitheist']\n",
    "at_df.head()"
   ]
  },
  {
   "cell_type": "code",
   "execution_count": null,
   "id": "61e793ab",
   "metadata": {},
   "outputs": [],
   "source": []
  },
  {
   "cell_type": "code",
   "execution_count": 5,
   "id": "41211104",
   "metadata": {},
   "outputs": [],
   "source": [
    "at_pop_df = at_df[at_df['Subscribers']>10000]"
   ]
  },
  {
   "cell_type": "code",
   "execution_count": 6,
   "id": "37ecd367",
   "metadata": {},
   "outputs": [
    {
     "data": {
      "text/plain": [
       "(242, 6)"
      ]
     },
     "execution_count": 6,
     "metadata": {},
     "output_type": "execute_result"
    }
   ],
   "source": [
    "at_df.shape"
   ]
  },
  {
   "cell_type": "code",
   "execution_count": 7,
   "id": "b2686f6b",
   "metadata": {},
   "outputs": [
    {
     "data": {
      "text/plain": [
       "(234, 6)"
      ]
     },
     "execution_count": 7,
     "metadata": {},
     "output_type": "execute_result"
    }
   ],
   "source": [
    "at_pop_df.shape"
   ]
  },
  {
   "cell_type": "code",
   "execution_count": 8,
   "id": "d7b800e2",
   "metadata": {},
   "outputs": [],
   "source": [
    "channels = list(at_pop_df['Id'])"
   ]
  },
  {
   "cell_type": "code",
   "execution_count": 9,
   "id": "02674608",
   "metadata": {},
   "outputs": [],
   "source": [
    "channels_rest = channels[202:]"
   ]
  },
  {
   "cell_type": "code",
   "execution_count": 10,
   "id": "d9c7efa1",
   "metadata": {},
   "outputs": [],
   "source": [
    "videos = []"
   ]
  },
  {
   "cell_type": "code",
   "execution_count": null,
   "id": "00e3b730",
   "metadata": {},
   "outputs": [],
   "source": []
  },
  {
   "cell_type": "code",
   "execution_count": 11,
   "id": "734c4f90",
   "metadata": {},
   "outputs": [
    {
     "name": "stdout",
     "output_type": "stream",
     "text": [
      "UCAJfDidJyukTekgSRZrjadw\n",
      "UCYIv7bicSK4NBL_lgH61zIw\n",
      "UCsVQNnVDpExBbOOt6XpGxyA\n",
      "UCBmgRDABwbJzj9gVOpl0B-Q\n",
      "UCvj_niu5JA05UPHYOnHiNNA\n",
      "UCUTBvu9NrpVQFiICTu3-dvw\n",
      "UC22Ww9SlqutdlxyoKAbNsLQ\n",
      "UCiVusFnWKEZ1kHyTy_9jXcw\n",
      "UCj6XJ1Lu22i8QsfntzT0hFQ\n",
      "UCV4vOEEG8DXZyLSl5P9lLmg\n",
      "UCH_zYYXkJpULueOVZTkY4Bw\n",
      "UCyCwfDOKjkm2VLWRxa7Ayhw\n",
      "UC_cd4oF2phaIBD3WsU3f7Xg\n",
      "UCh-YXgnF0tmBxCsh4w_4svw\n",
      "UCKL75mqydHevP6iYxXtR5Vg\n",
      "UC05zDmr_eye_o7VdgncmnvA\n",
      "UCLhtZqdkjshgq8TqwIjMdCQ\n",
      "UCUuvLogI6GR0tYCQZhsppuw\n",
      "UCc7E9A4P_HhiuZMabGrCX5Q\n",
      "UCQraEZBYs1pZieVAQM228RA\n",
      "UCf6V5DZJsjnJd3N2uEkpGIg\n",
      "UCFwdLdO9ZzZMEanmn3tMHKg\n",
      "UC7XA_FjaKwclXkcDTW2vhzA\n",
      "UCfLJNQxwK81nPhyZZibDiQA\n",
      "UC-Y7_v54xPxZWKDeugfID4w\n",
      "UCtShJugohT2eaolubHnIuMg\n",
      "UCQBi8sVAzB2bXffEwG64yeA\n",
      "UCz1w0ll081JJiYcjb298pOw\n",
      "UCYd3oDYfutGL0HmRL0oiLjQ\n",
      "UCe17o0PQX4LK7AvAaARxqwQ\n",
      "UCW4uOCGQxCLHormwGHCs2LQ\n",
      "UCXlZRCBefkIvRuv5zUrXEdg\n"
     ]
    }
   ],
   "source": [
    "for channel in channels_rest:\n",
    "    print(channel)\n",
    "    response_1 = videos_from_channel(channel, order='date', video_duration='short')\n",
    "    response_2 = videos_from_channel(channel, order='date', video_duration='medium')\n",
    "    videos.append(response_1)\n",
    "    videos.append(response_2)"
   ]
  },
  {
   "cell_type": "code",
   "execution_count": 12,
   "id": "9011fdb0",
   "metadata": {},
   "outputs": [
    {
     "data": {
      "text/plain": [
       "201"
      ]
     },
     "execution_count": 12,
     "metadata": {},
     "output_type": "execute_result"
    }
   ],
   "source": [
    "channels.index('UC4NpbPE75Cb1xkbDLWq8WuA')"
   ]
  },
  {
   "cell_type": "code",
   "execution_count": 13,
   "id": "54b8c38d",
   "metadata": {},
   "outputs": [],
   "source": [
    "# ONLY 201 VIDEOS QUERIED SO FAR"
   ]
  },
  {
   "cell_type": "code",
   "execution_count": null,
   "id": "19e8d1ea",
   "metadata": {},
   "outputs": [],
   "source": []
  },
  {
   "cell_type": "code",
   "execution_count": 14,
   "id": "362122dd",
   "metadata": {},
   "outputs": [
    {
     "data": {
      "text/html": [
       "<div>\n",
       "<style scoped>\n",
       "    .dataframe tbody tr th:only-of-type {\n",
       "        vertical-align: middle;\n",
       "    }\n",
       "\n",
       "    .dataframe tbody tr th {\n",
       "        vertical-align: top;\n",
       "    }\n",
       "\n",
       "    .dataframe thead th {\n",
       "        text-align: right;\n",
       "    }\n",
       "</style>\n",
       "<table border=\"1\" class=\"dataframe\">\n",
       "  <thead>\n",
       "    <tr style=\"text-align: right;\">\n",
       "      <th></th>\n",
       "      <th>vid</th>\n",
       "      <th>cid</th>\n",
       "      <th>title</th>\n",
       "      <th>description</th>\n",
       "    </tr>\n",
       "  </thead>\n",
       "  <tbody>\n",
       "    <tr>\n",
       "      <th>0</th>\n",
       "      <td>OrILwhB4LbM</td>\n",
       "      <td>UCjNxszyFPasDdRoD9J6X-sw</td>\n",
       "      <td>#Pineapplegate - TJ’s Demons - Episode 1</td>\n",
       "      <td>Animator: https://m.youtube.com/c/CoryClayton/...</td>\n",
       "    </tr>\n",
       "    <tr>\n",
       "      <th>1</th>\n",
       "      <td>Q5VeNWm845M</td>\n",
       "      <td>UCjNxszyFPasDdRoD9J6X-sw</td>\n",
       "      <td>TJ &amp;quot;The Amazing Atheist&amp;quot; Animated - ...</td>\n",
       "      <td>Animator Channel - Cory Clayton - https://bit....</td>\n",
       "    </tr>\n",
       "    <tr>\n",
       "      <th>2</th>\n",
       "      <td>OmHcd5mdSqI</td>\n",
       "      <td>UCjNxszyFPasDdRoD9J6X-sw</td>\n",
       "      <td>The New UNSOLVED MYSTERIES Sucks</td>\n",
       "      <td>THE DOUCHEBAG BIBLE ⏩Unsigned - https://amzn.t...</td>\n",
       "    </tr>\n",
       "    <tr>\n",
       "      <th>3</th>\n",
       "      <td>Oky7mxmhgM8</td>\n",
       "      <td>UCjNxszyFPasDdRoD9J6X-sw</td>\n",
       "      <td>Deep fat Fried vs. Democratic Debate - Event</td>\n",
       "      <td>https://vimeo.com/397832192/bcacd848f9.</td>\n",
       "    </tr>\n",
       "    <tr>\n",
       "      <th>4</th>\n",
       "      <td>e0ZoUY3rNEs</td>\n",
       "      <td>UCjNxszyFPasDdRoD9J6X-sw</td>\n",
       "      <td>HAPPY HALLOWEEN EVERYBODY!</td>\n",
       "      <td>THE DOUCHEBAG BIBLE ⏩Unsigned - https://amzn.t...</td>\n",
       "    </tr>\n",
       "  </tbody>\n",
       "</table>\n",
       "</div>"
      ],
      "text/plain": [
       "           vid                       cid  \\\n",
       "0  OrILwhB4LbM  UCjNxszyFPasDdRoD9J6X-sw   \n",
       "1  Q5VeNWm845M  UCjNxszyFPasDdRoD9J6X-sw   \n",
       "2  OmHcd5mdSqI  UCjNxszyFPasDdRoD9J6X-sw   \n",
       "3  Oky7mxmhgM8  UCjNxszyFPasDdRoD9J6X-sw   \n",
       "4  e0ZoUY3rNEs  UCjNxszyFPasDdRoD9J6X-sw   \n",
       "\n",
       "                                               title  \\\n",
       "0           #Pineapplegate - TJ’s Demons - Episode 1   \n",
       "1  TJ &quot;The Amazing Atheist&quot; Animated - ...   \n",
       "2                   The New UNSOLVED MYSTERIES Sucks   \n",
       "3       Deep fat Fried vs. Democratic Debate - Event   \n",
       "4                         HAPPY HALLOWEEN EVERYBODY!   \n",
       "\n",
       "                                         description  \n",
       "0  Animator: https://m.youtube.com/c/CoryClayton/...  \n",
       "1  Animator Channel - Cory Clayton - https://bit....  \n",
       "2  THE DOUCHEBAG BIBLE ⏩Unsigned - https://amzn.t...  \n",
       "3            https://vimeo.com/397832192/bcacd848f9.  \n",
       "4  THE DOUCHEBAG BIBLE ⏩Unsigned - https://amzn.t...  "
      ]
     },
     "execution_count": 14,
     "metadata": {},
     "output_type": "execute_result"
    }
   ],
   "source": [
    "videos_df = pd.read_csv('./videos.csv')\n",
    "videos_df.head()"
   ]
  },
  {
   "cell_type": "code",
   "execution_count": 15,
   "id": "6fbb2646",
   "metadata": {},
   "outputs": [
    {
     "data": {
      "text/plain": [
       "(12872, 4)"
      ]
     },
     "execution_count": 15,
     "metadata": {},
     "output_type": "execute_result"
    }
   ],
   "source": [
    "videos_df.shape"
   ]
  },
  {
   "cell_type": "code",
   "execution_count": null,
   "id": "9c4a6f3c",
   "metadata": {},
   "outputs": [],
   "source": []
  },
  {
   "cell_type": "code",
   "execution_count": 16,
   "id": "8a8c21d2",
   "metadata": {},
   "outputs": [],
   "source": [
    "videos_list = []\n",
    "for layer_1 in videos:\n",
    "    for layer_2 in layer_1:\n",
    "        videos_list.append(layer_2)"
   ]
  },
  {
   "cell_type": "code",
   "execution_count": 17,
   "id": "d1b7830b",
   "metadata": {},
   "outputs": [
    {
     "data": {
      "text/html": [
       "<div>\n",
       "<style scoped>\n",
       "    .dataframe tbody tr th:only-of-type {\n",
       "        vertical-align: middle;\n",
       "    }\n",
       "\n",
       "    .dataframe tbody tr th {\n",
       "        vertical-align: top;\n",
       "    }\n",
       "\n",
       "    .dataframe thead th {\n",
       "        text-align: right;\n",
       "    }\n",
       "</style>\n",
       "<table border=\"1\" class=\"dataframe\">\n",
       "  <thead>\n",
       "    <tr style=\"text-align: right;\">\n",
       "      <th></th>\n",
       "      <th>vid</th>\n",
       "      <th>cid</th>\n",
       "      <th>title</th>\n",
       "      <th>description</th>\n",
       "    </tr>\n",
       "  </thead>\n",
       "  <tbody>\n",
       "    <tr>\n",
       "      <th>0</th>\n",
       "      <td>CB3r4pSonMs</td>\n",
       "      <td>UCAJfDidJyukTekgSRZrjadw</td>\n",
       "      <td>Dinnae mean ta do dat</td>\n",
       "      <td>Thanks to The Satanic Temple for setting us up...</td>\n",
       "    </tr>\n",
       "    <tr>\n",
       "      <th>1</th>\n",
       "      <td>xUgAIsTTYYk</td>\n",
       "      <td>UCAJfDidJyukTekgSRZrjadw</td>\n",
       "      <td>Surah V (Part III)</td>\n",
       "      <td>We are continuing our discussion of Surah 5, s...</td>\n",
       "    </tr>\n",
       "    <tr>\n",
       "      <th>2</th>\n",
       "      <td>XToXtMPLvBc</td>\n",
       "      <td>UCAJfDidJyukTekgSRZrjadw</td>\n",
       "      <td>Faithless Forum Promo</td>\n",
       "      <td>Here is the link with everything you need to k...</td>\n",
       "    </tr>\n",
       "    <tr>\n",
       "      <th>3</th>\n",
       "      <td>Rlj0LPGePMw</td>\n",
       "      <td>UCAJfDidJyukTekgSRZrjadw</td>\n",
       "      <td>Where I&amp;#39;ll be in February - March 2020</td>\n",
       "      <td>Saturday, February 15th 2:00pm - 5:00pm Unholy...</td>\n",
       "    </tr>\n",
       "    <tr>\n",
       "      <th>4</th>\n",
       "      <td>Yec7v9riPEs</td>\n",
       "      <td>UCAJfDidJyukTekgSRZrjadw</td>\n",
       "      <td>Where I&amp;#39;ll be in July 2019</td>\n",
       "      <td>On Saturday July 6th, I'll be in WIlliamstown ...</td>\n",
       "    </tr>\n",
       "  </tbody>\n",
       "</table>\n",
       "</div>"
      ],
      "text/plain": [
       "           vid                       cid  \\\n",
       "0  CB3r4pSonMs  UCAJfDidJyukTekgSRZrjadw   \n",
       "1  xUgAIsTTYYk  UCAJfDidJyukTekgSRZrjadw   \n",
       "2  XToXtMPLvBc  UCAJfDidJyukTekgSRZrjadw   \n",
       "3  Rlj0LPGePMw  UCAJfDidJyukTekgSRZrjadw   \n",
       "4  Yec7v9riPEs  UCAJfDidJyukTekgSRZrjadw   \n",
       "\n",
       "                                        title  \\\n",
       "0                       Dinnae mean ta do dat   \n",
       "1                          Surah V (Part III)   \n",
       "2                       Faithless Forum Promo   \n",
       "3  Where I&#39;ll be in February - March 2020   \n",
       "4              Where I&#39;ll be in July 2019   \n",
       "\n",
       "                                         description  \n",
       "0  Thanks to The Satanic Temple for setting us up...  \n",
       "1  We are continuing our discussion of Surah 5, s...  \n",
       "2  Here is the link with everything you need to k...  \n",
       "3  Saturday, February 15th 2:00pm - 5:00pm Unholy...  \n",
       "4  On Saturday July 6th, I'll be in WIlliamstown ...  "
      ]
     },
     "execution_count": 17,
     "metadata": {},
     "output_type": "execute_result"
    }
   ],
   "source": [
    "new_videos_df = pd.DataFrame(videos_list)\n",
    "new_videos_df.head()"
   ]
  },
  {
   "cell_type": "code",
   "execution_count": 18,
   "id": "f046f1e1",
   "metadata": {},
   "outputs": [
    {
     "data": {
      "text/plain": [
       "(2045, 4)"
      ]
     },
     "execution_count": 18,
     "metadata": {},
     "output_type": "execute_result"
    }
   ],
   "source": [
    "new_videos_df.shape"
   ]
  },
  {
   "cell_type": "code",
   "execution_count": null,
   "id": "056aa7cb",
   "metadata": {},
   "outputs": [],
   "source": []
  },
  {
   "cell_type": "code",
   "execution_count": 19,
   "id": "8be461be",
   "metadata": {},
   "outputs": [
    {
     "data": {
      "text/plain": [
       "(14917, 4)"
      ]
     },
     "execution_count": 19,
     "metadata": {},
     "output_type": "execute_result"
    }
   ],
   "source": [
    "# append to new csv\n",
    "\n",
    "final_df = pd.concat([videos_df, new_videos_df])\n",
    "final_df.shape"
   ]
  },
  {
   "cell_type": "code",
   "execution_count": 20,
   "id": "95df440f",
   "metadata": {},
   "outputs": [],
   "source": [
    "final_df.to_csv('./videos.csv', index=False)"
   ]
  },
  {
   "cell_type": "code",
   "execution_count": null,
   "id": "4fa02ff5",
   "metadata": {},
   "outputs": [],
   "source": []
  }
 ],
 "metadata": {
  "kernelspec": {
   "display_name": "Python 3 (ipykernel)",
   "language": "python",
   "name": "python3"
  },
  "language_info": {
   "codemirror_mode": {
    "name": "ipython",
    "version": 3
   },
   "file_extension": ".py",
   "mimetype": "text/x-python",
   "name": "python",
   "nbconvert_exporter": "python",
   "pygments_lexer": "ipython3",
   "version": "3.10.4"
  }
 },
 "nbformat": 4,
 "nbformat_minor": 5
}
