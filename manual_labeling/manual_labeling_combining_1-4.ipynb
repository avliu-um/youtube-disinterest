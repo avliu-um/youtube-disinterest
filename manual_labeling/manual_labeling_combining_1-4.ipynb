{
 "cells": [
  {
   "cell_type": "code",
   "execution_count": 1,
   "id": "632d61ee",
   "metadata": {},
   "outputs": [],
   "source": [
    "import pandas as pd\n",
    "import numpy as np\n",
    "import random\n",
    "import math"
   ]
  },
  {
   "cell_type": "code",
   "execution_count": null,
   "id": "d294fd17",
   "metadata": {},
   "outputs": [],
   "source": []
  },
  {
   "cell_type": "code",
   "execution_count": null,
   "id": "1f03dad0",
   "metadata": {},
   "outputs": [],
   "source": []
  },
  {
   "cell_type": "code",
   "execution_count": null,
   "id": "e9319ab3",
   "metadata": {},
   "outputs": [],
   "source": []
  },
  {
   "cell_type": "markdown",
   "id": "dfc0db28",
   "metadata": {},
   "source": [
    "## Automatic labels"
   ]
  },
  {
   "cell_type": "code",
   "execution_count": 2,
   "id": "0b11e1fe",
   "metadata": {},
   "outputs": [],
   "source": [
    "# dict of {channel -> {topic --> True/False (on-topic?)} }\n",
    "#labeled_dict = {}\n",
    "#labeled_dict_extra = {}\n",
    "topics = ['alt-right', 'antitheist', 'politics-left', 'politics-right']"
   ]
  },
  {
   "cell_type": "code",
   "execution_count": null,
   "id": "51ff3d2b",
   "metadata": {},
   "outputs": [],
   "source": []
  },
  {
   "cell_type": "raw",
   "id": "49ed405c",
   "metadata": {},
   "source": [
    "auto_channels_path = '../../../burst/communities/'\n",
    "channel_paths_dict = {'alt-right': auto_channels_path+'alt-right/alt-right_channels.csv',\n",
    "                     'antitheist': auto_channels_path+'antitheist/antitheist_channels.csv',\n",
    "                     'politics-left': auto_channels_path+'politics/channels_left.csv',\n",
    "                     'politics-right': auto_channels_path+'politics/channels_right.csv',\n",
    "                     }\n",
    "\n",
    "for topic in channel_paths_dict.keys():\n",
    "    channels_filepath = channel_paths_dict[topic]\n",
    "    channels_df = pd.read_csv(channels_filepath, header=None)\n",
    "    \n",
    "    for channel_id in channels_df[0]:\n",
    "        if channel_id not in labeled_dict.keys():\n",
    "            labeled_dict[channel_id] = {}\n",
    "            labeled_dict_extra[channel_id] = {}\n",
    "\n",
    "        labeled_dict[channel_id][topic] = True\n",
    "        \n",
    "        labeled_dict_extra[channel_id][topic] = {'labeling_setting':'automatic','recheck':False}\n",
    "        \n",
    "        for other_topic in topics:\n",
    "            if other_topic != topic and other_topic not in labeled_dict[channel_id].keys():\n",
    "                labeled_dict[channel_id][other_topic] = False\n",
    "                labeled_dict_extra[channel_id][topic] = {'labeling_setting':'automatic','recheck':False}\n"
   ]
  },
  {
   "cell_type": "code",
   "execution_count": null,
   "id": "ae481303",
   "metadata": {},
   "outputs": [],
   "source": []
  },
  {
   "cell_type": "markdown",
   "id": "31584e07",
   "metadata": {},
   "source": [
    "## Manual labels"
   ]
  },
  {
   "cell_type": "markdown",
   "id": "a81a6098",
   "metadata": {},
   "source": [
    "For each dataset, remove duplicate rows for given topic/channel_id\n",
    "- note that, had I been diligent enough to ALWAYS label the first occurence, we could use pd.Index.duplicatey(keep='first'). However, I think I had a few mistakes in labeling the last but not first occurence that render this strategy poor to use\n",
    "- continuously add to an \"info\" dictionary\" that is indexed by topic/channel_id"
   ]
  },
  {
   "cell_type": "code",
   "execution_count": 3,
   "id": "fdcddede",
   "metadata": {},
   "outputs": [],
   "source": [
    "def remove_dup(x):\n",
    "    if (x['topic'],x['channel_id']) not in consolidate_dict.keys():\n",
    "        consolidate_dict[(x['topic'],x['channel_id'])] = {}\n",
    "    row_dict = consolidate_dict[(x['topic'],x['channel_id'])]\n",
    "    \n",
    "    for c in ['on_topic','potential_other_category','update_required','notes']:\n",
    "        if c not in row_dict.keys():\n",
    "            row_dict[c] = x[c]"
   ]
  },
  {
   "cell_type": "code",
   "execution_count": 4,
   "id": "95bb178f",
   "metadata": {},
   "outputs": [],
   "source": [
    "def add_to_labeled_dict(x, labeled_dict):\n",
    "    #print(x)\n",
    "    topic = x['topic'].strip()\n",
    "    channel_id = x['channel_id']\n",
    "    on_topic = x['on_topic']\n",
    "    potential_other_category = x['potential_other_category']\n",
    "    update_required = x['update_required']\n",
    "    notes = x['notes']\n",
    "    \n",
    "    info_dict = {}\n",
    "    if channel_id in labeled_dict.keys():\n",
    "        info_dict = labeled_dict[channel_id]\n",
    "    \n",
    "    # Explicitly labeled channel_id/topic pairs get placed here\n",
    "    if topic in topics and type(channel_id) == str and channel_id[:2] == 'UC':\n",
    "        info_dict[topic] = on_topic\n",
    "\n",
    "    # If there is some sort of '***' here then we will mark that an update is required\n",
    "    if type(update_required) == str and len(update_required)>1:\n",
    "        info_dict['{0}_update_required'.format(topic)]=True\n",
    "    else:\n",
    "        info_dict['{0}_update_required'.format(topic)]=False\n",
    "    \n",
    "    # If I didn't note any other potential categories, then I can safely assume it's false for other topics too\n",
    "    if type(potential_other_category) != str:\n",
    "        for other_topic in topics:\n",
    "            if other_topic != topic and other_topic not in info_dict.keys():\n",
    "                info_dict[other_topic] = False\n",
    "                info_dict['{0}_update_required'.format(other_topic)]=False\n",
    "    \n",
    "    # Append all notes taken of the channel\n",
    "    if 'notes' in info_dict.keys():\n",
    "        info_dict['notes'] += '|{0}'.format(notes)\n",
    "    else:\n",
    "        info_dict['notes'] = '|{0}'.format(notes)\n",
    "\n",
    "    labeled_dict[channel_id] = info_dict"
   ]
  },
  {
   "cell_type": "code",
   "execution_count": null,
   "id": "df94c11c",
   "metadata": {},
   "outputs": [],
   "source": []
  },
  {
   "cell_type": "code",
   "execution_count": 5,
   "id": "52453e64",
   "metadata": {},
   "outputs": [],
   "source": [
    "# Stain topic validation\n",
    "df_stv = pd.read_csv('./labeled_12-31/channel labeling - stain_topic_validation.csv')\n",
    "df_stv['on_topic'] = df_stv['on_topic'].replace({'yes':True,'no':False})\n",
    "df_stv['notes'] = (\n",
    "    df_stv['notes'] + \n",
    "    ['|' for i in range(df_stv.shape[0])] +\n",
    "    df_stv['Unnamed: 6'].fillna('') + \n",
    "    ['|' for i in range(df_stv.shape[0])] +\n",
    "    df_stv['Unnamed: 7'].fillna('')\n",
    ")\n",
    "#df_stv.head()\n",
    "\n",
    "# scrub end understimation\n",
    "df_scrub_end = pd.read_csv('./labeled_12-31/channel labeling - end_scrub_underestimation.csv')\n",
    "#df_scrub_end.head()\n",
    "\n",
    "df_12_26 = pd.read_csv('./labeled_12-31/Manual labeling 12_26 - homepage_manual_labeling_12-26.csv')\n",
    "#df_12_26.head()\n",
    "\n",
    "df_1_2 = pd.read_csv('./labeled_12-31/Manual labeling 12_26 - homepage_manual_labeling_1-2.csv')\n",
    "#df_1_2.head()\n",
    "\n",
    "df_1_3 = pd.read_csv('./labeled_12-31/Manual labeling 12_26 - homepage_manual_labeling_1-3.csv')\n",
    "#df_1_3.head()\n",
    "\n",
    "df_1_4 = pd.read_csv('./labeled_12-31/Manual labeling 12_26 - rest_labeling_1-4.csv')\n",
    "df_1_4['potential_other_category'] = ['dummy' for i in range(df_1_4.shape[0])]\n",
    "#df_1_4.head()"
   ]
  },
  {
   "cell_type": "code",
   "execution_count": 6,
   "id": "8b7f9dbb",
   "metadata": {},
   "outputs": [
    {
     "data": {
      "text/html": [
       "<div>\n",
       "<style scoped>\n",
       "    .dataframe tbody tr th:only-of-type {\n",
       "        vertical-align: middle;\n",
       "    }\n",
       "\n",
       "    .dataframe tbody tr th {\n",
       "        vertical-align: top;\n",
       "    }\n",
       "\n",
       "    .dataframe thead th {\n",
       "        text-align: right;\n",
       "    }\n",
       "</style>\n",
       "<table border=\"1\" class=\"dataframe\">\n",
       "  <thead>\n",
       "    <tr style=\"text-align: right;\">\n",
       "      <th></th>\n",
       "      <th>channel_id</th>\n",
       "      <th>topic</th>\n",
       "      <th>on_topic</th>\n",
       "      <th>update_required</th>\n",
       "      <th>notes</th>\n",
       "      <th>potential_other_category</th>\n",
       "    </tr>\n",
       "  </thead>\n",
       "  <tbody>\n",
       "    <tr>\n",
       "      <th>0</th>\n",
       "      <td>UCzcRQ3vRNr6fJ1A9rqFn7QA</td>\n",
       "      <td>alt-right</td>\n",
       "      <td>False</td>\n",
       "      <td>NaN</td>\n",
       "      <td>movie trailers</td>\n",
       "      <td>dummy</td>\n",
       "    </tr>\n",
       "    <tr>\n",
       "      <th>1</th>\n",
       "      <td>UCpIT_wPiiiZrQNzMRv_UEag</td>\n",
       "      <td>alt-right</td>\n",
       "      <td>False</td>\n",
       "      <td>NaN</td>\n",
       "      <td>vlogs</td>\n",
       "      <td>dummy</td>\n",
       "    </tr>\n",
       "    <tr>\n",
       "      <th>2</th>\n",
       "      <td>UC4mnZmx_t0T-OM70n6ZSeTw</td>\n",
       "      <td>alt-right</td>\n",
       "      <td>False</td>\n",
       "      <td>NaN</td>\n",
       "      <td>soccer</td>\n",
       "      <td>dummy</td>\n",
       "    </tr>\n",
       "    <tr>\n",
       "      <th>3</th>\n",
       "      <td>UCWo4IA01TXzBeGJJKWHOG9g</td>\n",
       "      <td>alt-right</td>\n",
       "      <td>False</td>\n",
       "      <td>NaN</td>\n",
       "      <td>Harvard Business Review</td>\n",
       "      <td>dummy</td>\n",
       "    </tr>\n",
       "    <tr>\n",
       "      <th>4</th>\n",
       "      <td>UCZRtpJI7ihA6EO49RzPmAbg</td>\n",
       "      <td>alt-right</td>\n",
       "      <td>False</td>\n",
       "      <td>NaN</td>\n",
       "      <td>vlogs</td>\n",
       "      <td>dummy</td>\n",
       "    </tr>\n",
       "  </tbody>\n",
       "</table>\n",
       "</div>"
      ],
      "text/plain": [
       "                 channel_id      topic  on_topic update_required  \\\n",
       "0  UCzcRQ3vRNr6fJ1A9rqFn7QA  alt-right     False             NaN   \n",
       "1  UCpIT_wPiiiZrQNzMRv_UEag  alt-right     False             NaN   \n",
       "2  UC4mnZmx_t0T-OM70n6ZSeTw  alt-right     False             NaN   \n",
       "3  UCWo4IA01TXzBeGJJKWHOG9g  alt-right     False             NaN   \n",
       "4  UCZRtpJI7ihA6EO49RzPmAbg  alt-right     False             NaN   \n",
       "\n",
       "                     notes potential_other_category  \n",
       "0           movie trailers                    dummy  \n",
       "1                    vlogs                    dummy  \n",
       "2                   soccer                    dummy  \n",
       "3  Harvard Business Review                    dummy  \n",
       "4                    vlogs                    dummy  "
      ]
     },
     "execution_count": 6,
     "metadata": {},
     "output_type": "execute_result"
    }
   ],
   "source": [
    "df_1_4.head()"
   ]
  },
  {
   "cell_type": "code",
   "execution_count": 7,
   "id": "669b12ef",
   "metadata": {},
   "outputs": [],
   "source": [
    "manual_labels_dict = {}\n",
    "for df in [df_stv,df_scrub_end,df_12_26,df_1_2,df_1_3,df_1_4]:\n",
    "    \n",
    "    # remove duplicate rows for a given channel_id/topic\n",
    "    consolidate_dict = {}\n",
    "    df.apply(lambda x: remove_dup(x), axis=1)\n",
    "    df = pd.DataFrame.from_dict(consolidate_dict,orient='index')\n",
    "    df.reset_index(inplace=True)\n",
    "    df.rename(columns={'level_0':'topic','level_1':'channel_id'},inplace=True)\n",
    "    \n",
    "    df.apply(lambda x:\n",
    "        add_to_labeled_dict(x, manual_labels_dict), axis=1\n",
    "    )"
   ]
  },
  {
   "cell_type": "code",
   "execution_count": 8,
   "id": "6b8829e6",
   "metadata": {},
   "outputs": [
    {
     "data": {
      "text/plain": [
       "{'politics-left': False,\n",
       " 'politics-left_update_required': True,\n",
       " 'notes': '|local news'}"
      ]
     },
     "execution_count": 8,
     "metadata": {},
     "output_type": "execute_result"
    }
   ],
   "source": [
    "manual_labels_dict['UCVnjt9mMx46gMUeTtONXimQ']"
   ]
  },
  {
   "cell_type": "code",
   "execution_count": null,
   "id": "6af8d33a",
   "metadata": {},
   "outputs": [],
   "source": []
  },
  {
   "cell_type": "code",
   "execution_count": 9,
   "id": "47752cb6",
   "metadata": {
    "scrolled": true
   },
   "outputs": [
    {
     "data": {
      "text/html": [
       "<div>\n",
       "<style scoped>\n",
       "    .dataframe tbody tr th:only-of-type {\n",
       "        vertical-align: middle;\n",
       "    }\n",
       "\n",
       "    .dataframe tbody tr th {\n",
       "        vertical-align: top;\n",
       "    }\n",
       "\n",
       "    .dataframe thead th {\n",
       "        text-align: right;\n",
       "    }\n",
       "</style>\n",
       "<table border=\"1\" class=\"dataframe\">\n",
       "  <thead>\n",
       "    <tr style=\"text-align: right;\">\n",
       "      <th></th>\n",
       "      <th>channel_id</th>\n",
       "      <th>alt-right</th>\n",
       "      <th>alt-right_update_required</th>\n",
       "      <th>antitheist</th>\n",
       "      <th>antitheist_update_required</th>\n",
       "      <th>politics-left</th>\n",
       "      <th>politics-left_update_required</th>\n",
       "      <th>politics-right</th>\n",
       "      <th>politics-right_update_required</th>\n",
       "      <th>notes</th>\n",
       "    </tr>\n",
       "  </thead>\n",
       "  <tbody>\n",
       "    <tr>\n",
       "      <th>0</th>\n",
       "      <td>UCGTKwjs1ctvgwCRa67RNO-Q</td>\n",
       "      <td>False</td>\n",
       "      <td>False</td>\n",
       "      <td>False</td>\n",
       "      <td>False</td>\n",
       "      <td>False</td>\n",
       "      <td>False</td>\n",
       "      <td>False</td>\n",
       "      <td>False</td>\n",
       "      <td>|heavily-masculine joyr-rides and excavations||</td>\n",
       "    </tr>\n",
       "    <tr>\n",
       "      <th>1</th>\n",
       "      <td>UC0QHWhjbe5fGJEPz3sVb6nw</td>\n",
       "      <td>False</td>\n",
       "      <td>False</td>\n",
       "      <td>False</td>\n",
       "      <td>False</td>\n",
       "      <td>False</td>\n",
       "      <td>False</td>\n",
       "      <td>False</td>\n",
       "      <td>False</td>\n",
       "      <td>|doctor mike|||Doctor Mike|nan</td>\n",
       "    </tr>\n",
       "    <tr>\n",
       "      <th>2</th>\n",
       "      <td>UCX6OQ3DkcsbYNE6H8uQQuVA</td>\n",
       "      <td>False</td>\n",
       "      <td>False</td>\n",
       "      <td>False</td>\n",
       "      <td>False</td>\n",
       "      <td>False</td>\n",
       "      <td>False</td>\n",
       "      <td>False</td>\n",
       "      <td>False</td>\n",
       "      <td>|mr. beast|||nan|nan|nan|Mr. Beast</td>\n",
       "    </tr>\n",
       "    <tr>\n",
       "      <th>3</th>\n",
       "      <td>UCodkb-qBktJI5NrUsPYpf7g</td>\n",
       "      <td>False</td>\n",
       "      <td>False</td>\n",
       "      <td>False</td>\n",
       "      <td>False</td>\n",
       "      <td>False</td>\n",
       "      <td>False</td>\n",
       "      <td>False</td>\n",
       "      <td>False</td>\n",
       "      <td>|Jordan Peterson tips|||nan|nan</td>\n",
       "    </tr>\n",
       "    <tr>\n",
       "      <th>4</th>\n",
       "      <td>UCamjnFmK1_lsTWJGWzkC8ew</td>\n",
       "      <td>False</td>\n",
       "      <td>False</td>\n",
       "      <td>False</td>\n",
       "      <td>False</td>\n",
       "      <td>False</td>\n",
       "      <td>False</td>\n",
       "      <td>False</td>\n",
       "      <td>False</td>\n",
       "      <td>|memester||</td>\n",
       "    </tr>\n",
       "  </tbody>\n",
       "</table>\n",
       "</div>"
      ],
      "text/plain": [
       "                 channel_id alt-right alt-right_update_required antitheist  \\\n",
       "0  UCGTKwjs1ctvgwCRa67RNO-Q     False                     False      False   \n",
       "1  UC0QHWhjbe5fGJEPz3sVb6nw     False                     False      False   \n",
       "2  UCX6OQ3DkcsbYNE6H8uQQuVA     False                     False      False   \n",
       "3  UCodkb-qBktJI5NrUsPYpf7g     False                     False      False   \n",
       "4  UCamjnFmK1_lsTWJGWzkC8ew     False                     False      False   \n",
       "\n",
       "  antitheist_update_required politics-left politics-left_update_required  \\\n",
       "0                      False         False                         False   \n",
       "1                      False         False                         False   \n",
       "2                      False         False                         False   \n",
       "3                      False         False                         False   \n",
       "4                      False         False                         False   \n",
       "\n",
       "  politics-right politics-right_update_required  \\\n",
       "0          False                          False   \n",
       "1          False                          False   \n",
       "2          False                          False   \n",
       "3          False                          False   \n",
       "4          False                          False   \n",
       "\n",
       "                                             notes  \n",
       "0  |heavily-masculine joyr-rides and excavations||  \n",
       "1                   |doctor mike|||Doctor Mike|nan  \n",
       "2               |mr. beast|||nan|nan|nan|Mr. Beast  \n",
       "3                  |Jordan Peterson tips|||nan|nan  \n",
       "4                                      |memester||  "
      ]
     },
     "execution_count": 9,
     "metadata": {},
     "output_type": "execute_result"
    }
   ],
   "source": [
    "all_man_labels_1_4_df = pd.DataFrame.from_dict(manual_labels_dict,orient='index')\n",
    "all_man_labels_1_4_df.reset_index(inplace=True)\n",
    "all_man_labels_1_4_df.rename(columns={'index':'channel_id'},inplace=True)\n",
    "all_man_labels_1_4_df.head()"
   ]
  },
  {
   "cell_type": "code",
   "execution_count": 10,
   "id": "9db80359",
   "metadata": {},
   "outputs": [],
   "source": [
    "all_man_labels_1_4_df.to_csv('./important_man_labels_1-4.csv',index=False)\n"
   ]
  },
  {
   "cell_type": "markdown",
   "id": "704bc170",
   "metadata": {},
   "source": [
    "## Apply these labels to our P1/2/3/ data"
   ]
  },
  {
   "cell_type": "markdown",
   "id": "3c7e7d48",
   "metadata": {},
   "source": [
    "### Grab the P1/2/3 data"
   ]
  },
  {
   "cell_type": "code",
   "execution_count": 18,
   "id": "0abeb0f4",
   "metadata": {
    "scrolled": true
   },
   "outputs": [
    {
     "data": {
      "text/html": [
       "<div>\n",
       "<style scoped>\n",
       "    .dataframe tbody tr th:only-of-type {\n",
       "        vertical-align: middle;\n",
       "    }\n",
       "\n",
       "    .dataframe tbody tr th {\n",
       "        vertical-align: top;\n",
       "    }\n",
       "\n",
       "    .dataframe thead th {\n",
       "        text-align: right;\n",
       "    }\n",
       "</style>\n",
       "<table border=\"1\" class=\"dataframe\">\n",
       "  <thead>\n",
       "    <tr style=\"text-align: right;\">\n",
       "      <th></th>\n",
       "      <th>video_id</th>\n",
       "      <th>channel_id</th>\n",
       "      <th>rank</th>\n",
       "      <th>component</th>\n",
       "      <th>watch_video_id</th>\n",
       "      <th>bot_name</th>\n",
       "      <th>phase</th>\n",
       "      <th>homepage_level</th>\n",
       "      <th>videopage_level</th>\n",
       "      <th>topic</th>\n",
       "      <th>strategy</th>\n",
       "      <th>note</th>\n",
       "      <th>on_list</th>\n",
       "    </tr>\n",
       "  </thead>\n",
       "  <tbody>\n",
       "    <tr>\n",
       "      <th>0</th>\n",
       "      <td>PEWFu0aZroQ</td>\n",
       "      <td>UCXIJgqnII2ZOINSWNOGFThA</td>\n",
       "      <td>0</td>\n",
       "      <td>videopage</td>\n",
       "      <td>ya2T1XGYTR8</td>\n",
       "      <td>alt-right_delete_0</td>\n",
       "      <td>videopage_experiment</td>\n",
       "      <td>0</td>\n",
       "      <td>0</td>\n",
       "      <td>alt-right</td>\n",
       "      <td>delete</td>\n",
       "      <td>0</td>\n",
       "      <td>False</td>\n",
       "    </tr>\n",
       "    <tr>\n",
       "      <th>1</th>\n",
       "      <td>XmiG4KzZ4sg</td>\n",
       "      <td>UCPKAKrjoMz7POptCloy7AIQ</td>\n",
       "      <td>1</td>\n",
       "      <td>videopage</td>\n",
       "      <td>ya2T1XGYTR8</td>\n",
       "      <td>alt-right_delete_0</td>\n",
       "      <td>videopage_experiment</td>\n",
       "      <td>0</td>\n",
       "      <td>0</td>\n",
       "      <td>alt-right</td>\n",
       "      <td>delete</td>\n",
       "      <td>0</td>\n",
       "      <td>False</td>\n",
       "    </tr>\n",
       "    <tr>\n",
       "      <th>2</th>\n",
       "      <td>Lh0b00vL1nI</td>\n",
       "      <td>UCmRZTrJYqOMzP5J0r0snxYg</td>\n",
       "      <td>2</td>\n",
       "      <td>videopage</td>\n",
       "      <td>ya2T1XGYTR8</td>\n",
       "      <td>alt-right_delete_0</td>\n",
       "      <td>videopage_experiment</td>\n",
       "      <td>0</td>\n",
       "      <td>0</td>\n",
       "      <td>alt-right</td>\n",
       "      <td>delete</td>\n",
       "      <td>0</td>\n",
       "      <td>False</td>\n",
       "    </tr>\n",
       "    <tr>\n",
       "      <th>3</th>\n",
       "      <td>k6ucIShHW7Q</td>\n",
       "      <td>UCJquYOG5EL82sKTfH9aMA9Q</td>\n",
       "      <td>3</td>\n",
       "      <td>videopage</td>\n",
       "      <td>ya2T1XGYTR8</td>\n",
       "      <td>alt-right_delete_0</td>\n",
       "      <td>videopage_experiment</td>\n",
       "      <td>0</td>\n",
       "      <td>0</td>\n",
       "      <td>alt-right</td>\n",
       "      <td>delete</td>\n",
       "      <td>0</td>\n",
       "      <td>False</td>\n",
       "    </tr>\n",
       "    <tr>\n",
       "      <th>4</th>\n",
       "      <td>0GCDhADokLY</td>\n",
       "      <td>UC2ggrxKhqgTRx7We9vjQRCQ</td>\n",
       "      <td>4</td>\n",
       "      <td>videopage</td>\n",
       "      <td>ya2T1XGYTR8</td>\n",
       "      <td>alt-right_delete_0</td>\n",
       "      <td>videopage_experiment</td>\n",
       "      <td>0</td>\n",
       "      <td>0</td>\n",
       "      <td>alt-right</td>\n",
       "      <td>delete</td>\n",
       "      <td>0</td>\n",
       "      <td>False</td>\n",
       "    </tr>\n",
       "  </tbody>\n",
       "</table>\n",
       "</div>"
      ],
      "text/plain": [
       "      video_id                channel_id  rank  component watch_video_id  \\\n",
       "0  PEWFu0aZroQ  UCXIJgqnII2ZOINSWNOGFThA     0  videopage    ya2T1XGYTR8   \n",
       "1  XmiG4KzZ4sg  UCPKAKrjoMz7POptCloy7AIQ     1  videopage    ya2T1XGYTR8   \n",
       "2  Lh0b00vL1nI  UCmRZTrJYqOMzP5J0r0snxYg     2  videopage    ya2T1XGYTR8   \n",
       "3  k6ucIShHW7Q  UCJquYOG5EL82sKTfH9aMA9Q     3  videopage    ya2T1XGYTR8   \n",
       "4  0GCDhADokLY  UC2ggrxKhqgTRx7We9vjQRCQ     4  videopage    ya2T1XGYTR8   \n",
       "\n",
       "             bot_name                 phase  homepage_level  videopage_level  \\\n",
       "0  alt-right_delete_0  videopage_experiment               0                0   \n",
       "1  alt-right_delete_0  videopage_experiment               0                0   \n",
       "2  alt-right_delete_0  videopage_experiment               0                0   \n",
       "3  alt-right_delete_0  videopage_experiment               0                0   \n",
       "4  alt-right_delete_0  videopage_experiment               0                0   \n",
       "\n",
       "       topic strategy  note  on_list  \n",
       "0  alt-right   delete     0    False  \n",
       "1  alt-right   delete     0    False  \n",
       "2  alt-right   delete     0    False  \n",
       "3  alt-right   delete     0    False  \n",
       "4  alt-right   delete     0    False  "
      ]
     },
     "execution_count": 18,
     "metadata": {},
     "output_type": "execute_result"
    }
   ],
   "source": [
    "df = pd.read_csv('../all_cleaned_labeled.csv')\n",
    "df = df[['video_id','channel_id','rank','component','watch_video_id','bot_name','phase','homepage_level','videopage_level','topic','strategy','note','stain']]\n",
    "df = df[(df['topic']!='random')&(df['rank']<10)]\n",
    "df.rename(columns={'stain':'on_list'},inplace=True)\n",
    "df.head()"
   ]
  },
  {
   "cell_type": "code",
   "execution_count": 19,
   "id": "c89dea39",
   "metadata": {},
   "outputs": [],
   "source": [
    "df_homepage = df[\n",
    "    (df['component']=='homepage')&\n",
    "    (df['homepage_level'].isin([1,39,79]))\n",
    "]"
   ]
  },
  {
   "cell_type": "code",
   "execution_count": 20,
   "id": "01203447",
   "metadata": {},
   "outputs": [
    {
     "data": {
      "text/html": [
       "<div>\n",
       "<style scoped>\n",
       "    .dataframe tbody tr th:only-of-type {\n",
       "        vertical-align: middle;\n",
       "    }\n",
       "\n",
       "    .dataframe tbody tr th {\n",
       "        vertical-align: top;\n",
       "    }\n",
       "\n",
       "    .dataframe thead th {\n",
       "        text-align: right;\n",
       "    }\n",
       "</style>\n",
       "<table border=\"1\" class=\"dataframe\">\n",
       "  <thead>\n",
       "    <tr style=\"text-align: right;\">\n",
       "      <th></th>\n",
       "      <th>video_id</th>\n",
       "      <th>channel_id</th>\n",
       "      <th>rank</th>\n",
       "      <th>component</th>\n",
       "      <th>watch_video_id</th>\n",
       "      <th>bot_name</th>\n",
       "      <th>phase</th>\n",
       "      <th>homepage_level</th>\n",
       "      <th>videopage_level</th>\n",
       "      <th>topic</th>\n",
       "      <th>strategy</th>\n",
       "      <th>note</th>\n",
       "      <th>on_list</th>\n",
       "    </tr>\n",
       "  </thead>\n",
       "  <tbody>\n",
       "    <tr>\n",
       "      <th>0</th>\n",
       "      <td>PEWFu0aZroQ</td>\n",
       "      <td>UCXIJgqnII2ZOINSWNOGFThA</td>\n",
       "      <td>0</td>\n",
       "      <td>videopage</td>\n",
       "      <td>ya2T1XGYTR8</td>\n",
       "      <td>alt-right_delete_0</td>\n",
       "      <td>videopage_experiment</td>\n",
       "      <td>0</td>\n",
       "      <td>0</td>\n",
       "      <td>alt-right</td>\n",
       "      <td>delete</td>\n",
       "      <td>0</td>\n",
       "      <td>False</td>\n",
       "    </tr>\n",
       "    <tr>\n",
       "      <th>1</th>\n",
       "      <td>XmiG4KzZ4sg</td>\n",
       "      <td>UCPKAKrjoMz7POptCloy7AIQ</td>\n",
       "      <td>1</td>\n",
       "      <td>videopage</td>\n",
       "      <td>ya2T1XGYTR8</td>\n",
       "      <td>alt-right_delete_0</td>\n",
       "      <td>videopage_experiment</td>\n",
       "      <td>0</td>\n",
       "      <td>0</td>\n",
       "      <td>alt-right</td>\n",
       "      <td>delete</td>\n",
       "      <td>0</td>\n",
       "      <td>False</td>\n",
       "    </tr>\n",
       "    <tr>\n",
       "      <th>2</th>\n",
       "      <td>Lh0b00vL1nI</td>\n",
       "      <td>UCmRZTrJYqOMzP5J0r0snxYg</td>\n",
       "      <td>2</td>\n",
       "      <td>videopage</td>\n",
       "      <td>ya2T1XGYTR8</td>\n",
       "      <td>alt-right_delete_0</td>\n",
       "      <td>videopage_experiment</td>\n",
       "      <td>0</td>\n",
       "      <td>0</td>\n",
       "      <td>alt-right</td>\n",
       "      <td>delete</td>\n",
       "      <td>0</td>\n",
       "      <td>False</td>\n",
       "    </tr>\n",
       "    <tr>\n",
       "      <th>3</th>\n",
       "      <td>k6ucIShHW7Q</td>\n",
       "      <td>UCJquYOG5EL82sKTfH9aMA9Q</td>\n",
       "      <td>3</td>\n",
       "      <td>videopage</td>\n",
       "      <td>ya2T1XGYTR8</td>\n",
       "      <td>alt-right_delete_0</td>\n",
       "      <td>videopage_experiment</td>\n",
       "      <td>0</td>\n",
       "      <td>0</td>\n",
       "      <td>alt-right</td>\n",
       "      <td>delete</td>\n",
       "      <td>0</td>\n",
       "      <td>False</td>\n",
       "    </tr>\n",
       "    <tr>\n",
       "      <th>4</th>\n",
       "      <td>0GCDhADokLY</td>\n",
       "      <td>UC2ggrxKhqgTRx7We9vjQRCQ</td>\n",
       "      <td>4</td>\n",
       "      <td>videopage</td>\n",
       "      <td>ya2T1XGYTR8</td>\n",
       "      <td>alt-right_delete_0</td>\n",
       "      <td>videopage_experiment</td>\n",
       "      <td>0</td>\n",
       "      <td>0</td>\n",
       "      <td>alt-right</td>\n",
       "      <td>delete</td>\n",
       "      <td>0</td>\n",
       "      <td>False</td>\n",
       "    </tr>\n",
       "  </tbody>\n",
       "</table>\n",
       "</div>"
      ],
      "text/plain": [
       "      video_id                channel_id  rank  component watch_video_id  \\\n",
       "0  PEWFu0aZroQ  UCXIJgqnII2ZOINSWNOGFThA     0  videopage    ya2T1XGYTR8   \n",
       "1  XmiG4KzZ4sg  UCPKAKrjoMz7POptCloy7AIQ     1  videopage    ya2T1XGYTR8   \n",
       "2  Lh0b00vL1nI  UCmRZTrJYqOMzP5J0r0snxYg     2  videopage    ya2T1XGYTR8   \n",
       "3  k6ucIShHW7Q  UCJquYOG5EL82sKTfH9aMA9Q     3  videopage    ya2T1XGYTR8   \n",
       "4  0GCDhADokLY  UC2ggrxKhqgTRx7We9vjQRCQ     4  videopage    ya2T1XGYTR8   \n",
       "\n",
       "             bot_name                 phase  homepage_level  videopage_level  \\\n",
       "0  alt-right_delete_0  videopage_experiment               0                0   \n",
       "1  alt-right_delete_0  videopage_experiment               0                0   \n",
       "2  alt-right_delete_0  videopage_experiment               0                0   \n",
       "3  alt-right_delete_0  videopage_experiment               0                0   \n",
       "4  alt-right_delete_0  videopage_experiment               0                0   \n",
       "\n",
       "       topic strategy  note  on_list  \n",
       "0  alt-right   delete     0    False  \n",
       "1  alt-right   delete     0    False  \n",
       "2  alt-right   delete     0    False  \n",
       "3  alt-right   delete     0    False  \n",
       "4  alt-right   delete     0    False  "
      ]
     },
     "execution_count": 20,
     "metadata": {},
     "output_type": "execute_result"
    }
   ],
   "source": [
    "df_videopage = df[(df['phase']=='videopage_experiment')]\n",
    "df_videopage.head()"
   ]
  },
  {
   "cell_type": "code",
   "execution_count": 27,
   "id": "3d62211e",
   "metadata": {},
   "outputs": [
    {
     "data": {
      "text/plain": [
       "topic           on_list\n",
       "alt-right       False      747\n",
       "                True         7\n",
       "antitheist      False      575\n",
       "                True        43\n",
       "politics-left   False      675\n",
       "                True        18\n",
       "politics-right  False      543\n",
       "                True        15\n",
       "Name: channel_id, dtype: int64"
      ]
     },
     "execution_count": 27,
     "metadata": {},
     "output_type": "execute_result"
    }
   ],
   "source": [
    "pd.concat([df_homepage,df_videopage]).groupby(['topic','on_list'])['channel_id'].apply(lambda x: len(x.unique()))"
   ]
  },
  {
   "cell_type": "code",
   "execution_count": 26,
   "id": "6bc1381b",
   "metadata": {},
   "outputs": [
    {
     "data": {
      "text/plain": [
       "on_list\n",
       "False    2000\n",
       "True       83\n",
       "Name: channel_id, dtype: int64"
      ]
     },
     "execution_count": 26,
     "metadata": {},
     "output_type": "execute_result"
    }
   ],
   "source": [
    "pd.concat([df_homepage,df_videopage]).groupby('on_list')['channel_id'].apply(lambda x: len(x.unique()))"
   ]
  },
  {
   "cell_type": "code",
   "execution_count": 28,
   "id": "5022f45c",
   "metadata": {},
   "outputs": [
    {
     "data": {
      "text/plain": [
       "on_list\n",
       "False    1269\n",
       "True       65\n",
       "Name: channel_id, dtype: int64"
      ]
     },
     "execution_count": 28,
     "metadata": {},
     "output_type": "execute_result"
    }
   ],
   "source": [
    "df_homepage.groupby('on_list')['channel_id'].apply(lambda x: len(x.unique()))"
   ]
  },
  {
   "cell_type": "code",
   "execution_count": null,
   "id": "b9eb30f7",
   "metadata": {},
   "outputs": [],
   "source": []
  },
  {
   "cell_type": "code",
   "execution_count": 263,
   "id": "cef82da0",
   "metadata": {},
   "outputs": [
    {
     "data": {
      "text/plain": [
       "bot_name\n",
       "alt-right_delete_0        [0, 41, 42]\n",
       "alt-right_delete_1        [0, 41, 42]\n",
       "alt-right_delete_2            [0, 41]\n",
       "alt-right_delete_3        [0, 41, 42]\n",
       "alt-right_delete_4        [0, 40, 41]\n",
       "                             ...     \n",
       "politics-right_watch_0    [0, 37, 77]\n",
       "politics-right_watch_1    [0, 39, 80]\n",
       "politics-right_watch_2    [0, 39, 80]\n",
       "politics-right_watch_3    [0, 39, 78]\n",
       "politics-right_watch_4    [0, 35, 74]\n",
       "Name: videopage_level, Length: 139, dtype: object"
      ]
     },
     "execution_count": 263,
     "metadata": {},
     "output_type": "execute_result"
    }
   ],
   "source": [
    "df_videopage.groupby('bot_name')['videopage_level'].apply(lambda x: x.unique())"
   ]
  },
  {
   "cell_type": "code",
   "execution_count": 264,
   "id": "f340830d",
   "metadata": {},
   "outputs": [],
   "source": [
    "videopage_experiment_levels = []\n",
    "\n",
    "vp_exp_level = 0\n",
    "vp_level = 1\n",
    "bot_name = None\n",
    "\n",
    "for index, row in df_videopage.iterrows():\n",
    "    if row['bot_name'] != bot_name:\n",
    "        bot_name = row['bot_name']\n",
    "        vp_level = 1\n",
    "        vp_exp_level = 0\n",
    "    if row['videopage_level'] != vp_level:\n",
    "        vp_level = row['videopage_level']\n",
    "        vp_exp_level += 1\n",
    "    \n",
    "    videopage_experiment_levels.append(vp_exp_level)"
   ]
  },
  {
   "cell_type": "code",
   "execution_count": 265,
   "id": "8ef09226",
   "metadata": {},
   "outputs": [
    {
     "name": "stderr",
     "output_type": "stream",
     "text": [
      "/var/folders/t6/srtzy2f51db8mxxv7g_63f6h0000gr/T/ipykernel_78429/4187887498.py:1: SettingWithCopyWarning: \n",
      "A value is trying to be set on a copy of a slice from a DataFrame.\n",
      "Try using .loc[row_indexer,col_indexer] = value instead\n",
      "\n",
      "See the caveats in the documentation: https://pandas.pydata.org/pandas-docs/stable/user_guide/indexing.html#returning-a-view-versus-a-copy\n",
      "  df_videopage['exp_stage'] = videopage_experiment_levels\n"
     ]
    }
   ],
   "source": [
    "df_videopage['exp_stage'] = videopage_experiment_levels"
   ]
  },
  {
   "cell_type": "code",
   "execution_count": 266,
   "id": "d5a1e2b3",
   "metadata": {
    "scrolled": true
   },
   "outputs": [
    {
     "data": {
      "text/plain": [
       "bot_name                 \n",
       "alt-right_delete_0      1    10.0\n",
       "                        2    10.0\n",
       "                        3    10.0\n",
       "alt-right_delete_1      1    10.0\n",
       "                        2    10.0\n",
       "                             ... \n",
       "politics-right_watch_3  2    10.0\n",
       "                        3    10.0\n",
       "politics-right_watch_4  1    10.0\n",
       "                        2    10.0\n",
       "                        3    10.0\n",
       "Name: exp_stage, Length: 417, dtype: float64"
      ]
     },
     "execution_count": 266,
     "metadata": {},
     "output_type": "execute_result"
    }
   ],
   "source": [
    "# sanity check\n",
    "df_videopage.groupby(['bot_name'])['exp_stage'].apply(lambda x: dict(x.value_counts()))"
   ]
  },
  {
   "cell_type": "code",
   "execution_count": null,
   "id": "2800ae19",
   "metadata": {},
   "outputs": [],
   "source": []
  },
  {
   "cell_type": "code",
   "execution_count": null,
   "id": "b4d93952",
   "metadata": {},
   "outputs": [],
   "source": []
  },
  {
   "cell_type": "markdown",
   "id": "9c6c6489",
   "metadata": {},
   "source": [
    "### Label our data "
   ]
  },
  {
   "cell_type": "code",
   "execution_count": 267,
   "id": "13124453",
   "metadata": {},
   "outputs": [
    {
     "data": {
      "text/html": [
       "<div>\n",
       "<style scoped>\n",
       "    .dataframe tbody tr th:only-of-type {\n",
       "        vertical-align: middle;\n",
       "    }\n",
       "\n",
       "    .dataframe tbody tr th {\n",
       "        vertical-align: top;\n",
       "    }\n",
       "\n",
       "    .dataframe thead th {\n",
       "        text-align: right;\n",
       "    }\n",
       "</style>\n",
       "<table border=\"1\" class=\"dataframe\">\n",
       "  <thead>\n",
       "    <tr style=\"text-align: right;\">\n",
       "      <th></th>\n",
       "      <th>alt-right</th>\n",
       "      <th>alt-right_update_required</th>\n",
       "      <th>antitheist</th>\n",
       "      <th>antitheist_update_required</th>\n",
       "      <th>politics-left</th>\n",
       "      <th>politics-left_update_required</th>\n",
       "      <th>politics-right</th>\n",
       "      <th>politics-right_update_required</th>\n",
       "      <th>notes</th>\n",
       "    </tr>\n",
       "    <tr>\n",
       "      <th>channel_id</th>\n",
       "      <th></th>\n",
       "      <th></th>\n",
       "      <th></th>\n",
       "      <th></th>\n",
       "      <th></th>\n",
       "      <th></th>\n",
       "      <th></th>\n",
       "      <th></th>\n",
       "      <th></th>\n",
       "    </tr>\n",
       "  </thead>\n",
       "  <tbody>\n",
       "    <tr>\n",
       "      <th>UCGTKwjs1ctvgwCRa67RNO-Q</th>\n",
       "      <td>False</td>\n",
       "      <td>False</td>\n",
       "      <td>False</td>\n",
       "      <td>False</td>\n",
       "      <td>False</td>\n",
       "      <td>False</td>\n",
       "      <td>False</td>\n",
       "      <td>False</td>\n",
       "      <td>|heavily-masculine joyr-rides and excavations||</td>\n",
       "    </tr>\n",
       "    <tr>\n",
       "      <th>UC0QHWhjbe5fGJEPz3sVb6nw</th>\n",
       "      <td>False</td>\n",
       "      <td>False</td>\n",
       "      <td>False</td>\n",
       "      <td>False</td>\n",
       "      <td>False</td>\n",
       "      <td>False</td>\n",
       "      <td>False</td>\n",
       "      <td>False</td>\n",
       "      <td>|doctor mike|||Doctor Mike|nan</td>\n",
       "    </tr>\n",
       "    <tr>\n",
       "      <th>UCX6OQ3DkcsbYNE6H8uQQuVA</th>\n",
       "      <td>False</td>\n",
       "      <td>False</td>\n",
       "      <td>False</td>\n",
       "      <td>False</td>\n",
       "      <td>False</td>\n",
       "      <td>False</td>\n",
       "      <td>False</td>\n",
       "      <td>False</td>\n",
       "      <td>|mr. beast|||nan|nan|nan|Mr. Beast</td>\n",
       "    </tr>\n",
       "    <tr>\n",
       "      <th>UCodkb-qBktJI5NrUsPYpf7g</th>\n",
       "      <td>False</td>\n",
       "      <td>False</td>\n",
       "      <td>False</td>\n",
       "      <td>False</td>\n",
       "      <td>False</td>\n",
       "      <td>False</td>\n",
       "      <td>False</td>\n",
       "      <td>False</td>\n",
       "      <td>|Jordan Peterson tips|||nan|nan</td>\n",
       "    </tr>\n",
       "    <tr>\n",
       "      <th>UCamjnFmK1_lsTWJGWzkC8ew</th>\n",
       "      <td>False</td>\n",
       "      <td>False</td>\n",
       "      <td>False</td>\n",
       "      <td>False</td>\n",
       "      <td>False</td>\n",
       "      <td>False</td>\n",
       "      <td>False</td>\n",
       "      <td>False</td>\n",
       "      <td>|memester||</td>\n",
       "    </tr>\n",
       "  </tbody>\n",
       "</table>\n",
       "</div>"
      ],
      "text/plain": [
       "                         alt-right alt-right_update_required antitheist  \\\n",
       "channel_id                                                                \n",
       "UCGTKwjs1ctvgwCRa67RNO-Q     False                     False      False   \n",
       "UC0QHWhjbe5fGJEPz3sVb6nw     False                     False      False   \n",
       "UCX6OQ3DkcsbYNE6H8uQQuVA     False                     False      False   \n",
       "UCodkb-qBktJI5NrUsPYpf7g     False                     False      False   \n",
       "UCamjnFmK1_lsTWJGWzkC8ew     False                     False      False   \n",
       "\n",
       "                         antitheist_update_required politics-left  \\\n",
       "channel_id                                                          \n",
       "UCGTKwjs1ctvgwCRa67RNO-Q                      False         False   \n",
       "UC0QHWhjbe5fGJEPz3sVb6nw                      False         False   \n",
       "UCX6OQ3DkcsbYNE6H8uQQuVA                      False         False   \n",
       "UCodkb-qBktJI5NrUsPYpf7g                      False         False   \n",
       "UCamjnFmK1_lsTWJGWzkC8ew                      False         False   \n",
       "\n",
       "                         politics-left_update_required politics-right  \\\n",
       "channel_id                                                              \n",
       "UCGTKwjs1ctvgwCRa67RNO-Q                         False          False   \n",
       "UC0QHWhjbe5fGJEPz3sVb6nw                         False          False   \n",
       "UCX6OQ3DkcsbYNE6H8uQQuVA                         False          False   \n",
       "UCodkb-qBktJI5NrUsPYpf7g                         False          False   \n",
       "UCamjnFmK1_lsTWJGWzkC8ew                         False          False   \n",
       "\n",
       "                         politics-right_update_required  \\\n",
       "channel_id                                                \n",
       "UCGTKwjs1ctvgwCRa67RNO-Q                          False   \n",
       "UC0QHWhjbe5fGJEPz3sVb6nw                          False   \n",
       "UCX6OQ3DkcsbYNE6H8uQQuVA                          False   \n",
       "UCodkb-qBktJI5NrUsPYpf7g                          False   \n",
       "UCamjnFmK1_lsTWJGWzkC8ew                          False   \n",
       "\n",
       "                                                                    notes  \n",
       "channel_id                                                                 \n",
       "UCGTKwjs1ctvgwCRa67RNO-Q  |heavily-masculine joyr-rides and excavations||  \n",
       "UC0QHWhjbe5fGJEPz3sVb6nw                   |doctor mike|||Doctor Mike|nan  \n",
       "UCX6OQ3DkcsbYNE6H8uQQuVA               |mr. beast|||nan|nan|nan|Mr. Beast  \n",
       "UCodkb-qBktJI5NrUsPYpf7g                  |Jordan Peterson tips|||nan|nan  \n",
       "UCamjnFmK1_lsTWJGWzkC8ew                                      |memester||  "
      ]
     },
     "execution_count": 267,
     "metadata": {},
     "output_type": "execute_result"
    }
   ],
   "source": [
    "man_labels_df = pd.read_csv('./important_man_labels_1-4.csv')\n",
    "man_labels_df.set_index('channel_id',inplace=True)\n",
    "man_labels_df.head()"
   ]
  },
  {
   "cell_type": "code",
   "execution_count": 268,
   "id": "8c6e4a7b",
   "metadata": {
    "scrolled": true
   },
   "outputs": [
    {
     "data": {
      "text/plain": [
       "channel_id                topic         \n",
       "UCGTKwjs1ctvgwCRa67RNO-Q  alt-right         False\n",
       "                          antitheist        False\n",
       "                          politics-left     False\n",
       "                          politics-right    False\n",
       "UC0QHWhjbe5fGJEPz3sVb6nw  alt-right         False\n",
       "                                            ...  \n",
       "UCVaXclURQZlakiTMzuwHvRw  politics-right    False\n",
       "UCpAlTKiD0xqo_RRlYGqVX6w  politics-right    False\n",
       "UC0xaIinhwrms1q5THM37d2Q  politics-right    False\n",
       "UCp1KrVaZDZ7BOI_QBuTWWmg  politics-right    False\n",
       "UC4mEUulkjGVSdgKSj5ydxEg  politics-right    False\n",
       "Name: man_on_topic, Length: 5375, dtype: object"
      ]
     },
     "execution_count": 268,
     "metadata": {},
     "output_type": "execute_result"
    }
   ],
   "source": [
    "man_labels_ser = man_labels_df[topics].stack().rename('man_on_topic',inplace=True).rename_axis(['channel_id','topic'])\n",
    "#man_labels_ser.replace({False:'HELLO'},inplace=True)\n",
    "man_labels_ser"
   ]
  },
  {
   "cell_type": "code",
   "execution_count": 269,
   "id": "0c3599a7",
   "metadata": {},
   "outputs": [],
   "source": [
    "# DONT USE JOIN- IT IS MESSED UP (e.g. ('UCHnyfMqiRRG1u-2MsSQLbXA','alt-right') )\n",
    "#man_df_homepage = df_homepage.join(man_labels_ser,on=['channel_id','topic'])"
   ]
  },
  {
   "cell_type": "code",
   "execution_count": 270,
   "id": "07f6e22d",
   "metadata": {},
   "outputs": [
    {
     "name": "stderr",
     "output_type": "stream",
     "text": [
      "/var/folders/t6/srtzy2f51db8mxxv7g_63f6h0000gr/T/ipykernel_78429/2430210690.py:1: SettingWithCopyWarning: \n",
      "A value is trying to be set on a copy of a slice from a DataFrame.\n",
      "Try using .loc[row_indexer,col_indexer] = value instead\n",
      "\n",
      "See the caveats in the documentation: https://pandas.pydata.org/pandas-docs/stable/user_guide/indexing.html#returning-a-view-versus-a-copy\n",
      "  df_homepage['new_man_on_topic'] = df_homepage[['channel_id','topic']].apply(\n"
     ]
    }
   ],
   "source": [
    "df_homepage['new_man_on_topic'] = df_homepage[['channel_id','topic']].apply(\n",
    "    lambda x: man_labels_ser[(x.channel_id,x.topic)] if (x.channel_id,x.topic) in man_labels_ser.index else pd.NA,\n",
    "    axis=1\n",
    ")"
   ]
  },
  {
   "cell_type": "code",
   "execution_count": 271,
   "id": "21769b8b",
   "metadata": {},
   "outputs": [
    {
     "name": "stderr",
     "output_type": "stream",
     "text": [
      "/var/folders/t6/srtzy2f51db8mxxv7g_63f6h0000gr/T/ipykernel_78429/2793069537.py:1: SettingWithCopyWarning: \n",
      "A value is trying to be set on a copy of a slice from a DataFrame.\n",
      "Try using .loc[row_indexer,col_indexer] = value instead\n",
      "\n",
      "See the caveats in the documentation: https://pandas.pydata.org/pandas-docs/stable/user_guide/indexing.html#returning-a-view-versus-a-copy\n",
      "  df_videopage['new_man_on_topic'] = df_videopage[['channel_id','topic']].apply(\n"
     ]
    }
   ],
   "source": [
    "df_videopage['new_man_on_topic'] = df_videopage[['channel_id','topic']].apply(\n",
    "    lambda x: man_labels_ser[(x.channel_id,x.topic)] if (x.channel_id,x.topic) in man_labels_ser.index else pd.NA,\n",
    "    axis=1\n",
    ")"
   ]
  },
  {
   "cell_type": "code",
   "execution_count": 272,
   "id": "3bc6a7a8",
   "metadata": {},
   "outputs": [
    {
     "data": {
      "text/html": [
       "<div>\n",
       "<style scoped>\n",
       "    .dataframe tbody tr th:only-of-type {\n",
       "        vertical-align: middle;\n",
       "    }\n",
       "\n",
       "    .dataframe tbody tr th {\n",
       "        vertical-align: top;\n",
       "    }\n",
       "\n",
       "    .dataframe thead th {\n",
       "        text-align: right;\n",
       "    }\n",
       "</style>\n",
       "<table border=\"1\" class=\"dataframe\">\n",
       "  <thead>\n",
       "    <tr style=\"text-align: right;\">\n",
       "      <th></th>\n",
       "      <th>rank</th>\n",
       "      <th>video_id</th>\n",
       "      <th>channel_id</th>\n",
       "      <th>topic</th>\n",
       "      <th>strategy</th>\n",
       "    </tr>\n",
       "  </thead>\n",
       "  <tbody>\n",
       "  </tbody>\n",
       "</table>\n",
       "</div>"
      ],
      "text/plain": [
       "Empty DataFrame\n",
       "Columns: [rank, video_id, channel_id, topic, strategy]\n",
       "Index: []"
      ]
     },
     "execution_count": 272,
     "metadata": {},
     "output_type": "execute_result"
    }
   ],
   "source": [
    "df_homepage[\n",
    "    (df_homepage['on_list']==False)&\n",
    "    (df_homepage['new_man_on_topic'].isna())&\n",
    "    ~(df_homepage['channel_id'].isna())&\n",
    "    (df_homepage['homepage_level'].isin([1,39,79]))\n",
    "][['rank','video_id','channel_id','topic','strategy']]\n",
    "#.to_csv('./homepage_manual_labeling_1-3.csv',index=False)"
   ]
  },
  {
   "cell_type": "code",
   "execution_count": 273,
   "id": "73f0c56e",
   "metadata": {
    "scrolled": true
   },
   "outputs": [
    {
     "data": {
      "text/html": [
       "<div>\n",
       "<style scoped>\n",
       "    .dataframe tbody tr th:only-of-type {\n",
       "        vertical-align: middle;\n",
       "    }\n",
       "\n",
       "    .dataframe tbody tr th {\n",
       "        vertical-align: top;\n",
       "    }\n",
       "\n",
       "    .dataframe thead th {\n",
       "        text-align: right;\n",
       "    }\n",
       "</style>\n",
       "<table border=\"1\" class=\"dataframe\">\n",
       "  <thead>\n",
       "    <tr style=\"text-align: right;\">\n",
       "      <th></th>\n",
       "      <th>rank</th>\n",
       "      <th>video_id</th>\n",
       "      <th>channel_id</th>\n",
       "      <th>topic</th>\n",
       "      <th>strategy</th>\n",
       "    </tr>\n",
       "  </thead>\n",
       "  <tbody>\n",
       "  </tbody>\n",
       "</table>\n",
       "</div>"
      ],
      "text/plain": [
       "Empty DataFrame\n",
       "Columns: [rank, video_id, channel_id, topic, strategy]\n",
       "Index: []"
      ]
     },
     "execution_count": 273,
     "metadata": {},
     "output_type": "execute_result"
    }
   ],
   "source": [
    "df_videopage[\n",
    "    (df_videopage['on_list']==False)&\n",
    "    (df_videopage['new_man_on_topic'].isna())&\n",
    "    ~(df_videopage['channel_id'].isna())&\n",
    "    (df_videopage['homepage_level'].isin([0,1,2]))\n",
    "][['rank','video_id','channel_id','topic','strategy']]\n",
    "#.to_csv('./homepage_manual_labeling_1-3.csv',index=False)"
   ]
  },
  {
   "cell_type": "code",
   "execution_count": null,
   "id": "c3d43a2b",
   "metadata": {},
   "outputs": [],
   "source": []
  },
  {
   "cell_type": "markdown",
   "id": "ec5ede42",
   "metadata": {},
   "source": [
    "### Write a final version of the labeled P1/2/3 dataset"
   ]
  },
  {
   "cell_type": "code",
   "execution_count": 274,
   "id": "271103f4",
   "metadata": {},
   "outputs": [
    {
     "data": {
      "text/plain": [
       "(4170, 14)"
      ]
     },
     "execution_count": 274,
     "metadata": {},
     "output_type": "execute_result"
    }
   ],
   "source": [
    "df_homepage.shape"
   ]
  },
  {
   "cell_type": "code",
   "execution_count": 275,
   "id": "14791a45",
   "metadata": {},
   "outputs": [
    {
     "name": "stderr",
     "output_type": "stream",
     "text": [
      "/var/folders/t6/srtzy2f51db8mxxv7g_63f6h0000gr/T/ipykernel_78429/43712097.py:2: SettingWithCopyWarning: \n",
      "A value is trying to be set on a copy of a slice from a DataFrame.\n",
      "Try using .loc[row_indexer,col_indexer] = value instead\n",
      "\n",
      "See the caveats in the documentation: https://pandas.pydata.org/pandas-docs/stable/user_guide/indexing.html#returning-a-view-versus-a-copy\n",
      "  df_homepage['exp_stage'] = df_homepage['homepage_level'].apply(lambda x: hp_map[x])\n"
     ]
    }
   ],
   "source": [
    "hp_map = {1:1,39:2,79:3}\n",
    "df_homepage['exp_stage'] = df_homepage['homepage_level'].apply(lambda x: hp_map[x])"
   ]
  },
  {
   "cell_type": "code",
   "execution_count": 276,
   "id": "c0f854b7",
   "metadata": {
    "scrolled": true
   },
   "outputs": [
    {
     "data": {
      "text/plain": [
       "(4160, 15)"
      ]
     },
     "execution_count": 276,
     "metadata": {},
     "output_type": "execute_result"
    }
   ],
   "source": [
    "df_videopage.shape"
   ]
  },
  {
   "cell_type": "code",
   "execution_count": 277,
   "id": "be1a77f1",
   "metadata": {},
   "outputs": [],
   "source": [
    "final_df = pd.concat([df_homepage,df_videopage])"
   ]
  },
  {
   "cell_type": "code",
   "execution_count": 278,
   "id": "85929221",
   "metadata": {},
   "outputs": [],
   "source": [
    "final_df.rename(columns={'new_man_on_topic':'manual_label_1-4'},inplace=True)\n",
    "final_df['on_topic'] = final_df['on_list'] | final_df['manual_label_1-4']"
   ]
  },
  {
   "cell_type": "code",
   "execution_count": 279,
   "id": "96e073bf",
   "metadata": {},
   "outputs": [
    {
     "data": {
      "text/plain": [
       "0"
      ]
     },
     "execution_count": 279,
     "metadata": {},
     "output_type": "execute_result"
    }
   ],
   "source": [
    "# Sanity check\n",
    "# Cool!\n",
    "final_df['on_topic'].isna().sum()"
   ]
  },
  {
   "cell_type": "code",
   "execution_count": 280,
   "id": "3aed6aa4",
   "metadata": {},
   "outputs": [],
   "source": [
    "# Write it\n",
    "final_df.to_csv('./bot_runs_labeled_1-4.csv',index=False)"
   ]
  },
  {
   "cell_type": "code",
   "execution_count": null,
   "id": "07fabbc1",
   "metadata": {},
   "outputs": [],
   "source": []
  },
  {
   "cell_type": "code",
   "execution_count": null,
   "id": "b8e09e32",
   "metadata": {},
   "outputs": [],
   "source": []
  }
 ],
 "metadata": {
  "kernelspec": {
   "display_name": "Python 3",
   "language": "python",
   "name": "python3"
  },
  "language_info": {
   "codemirror_mode": {
    "name": "ipython",
    "version": 3
   },
   "file_extension": ".py",
   "mimetype": "text/x-python",
   "name": "python",
   "nbconvert_exporter": "python",
   "pygments_lexer": "ipython3",
   "version": "3.8.12"
  }
 },
 "nbformat": 4,
 "nbformat_minor": 5
}
