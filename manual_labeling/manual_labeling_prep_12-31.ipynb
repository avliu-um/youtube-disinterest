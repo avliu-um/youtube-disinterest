{
 "cells": [
  {
   "cell_type": "code",
   "execution_count": 117,
   "id": "632d61ee",
   "metadata": {},
   "outputs": [],
   "source": [
    "import pandas as pd\n",
    "import numpy as np\n",
    "import random\n",
    "import math"
   ]
  },
  {
   "cell_type": "code",
   "execution_count": null,
   "id": "d294fd17",
   "metadata": {},
   "outputs": [],
   "source": []
  },
  {
   "cell_type": "code",
   "execution_count": null,
   "id": "1f03dad0",
   "metadata": {},
   "outputs": [],
   "source": []
  },
  {
   "cell_type": "markdown",
   "id": "cf179005",
   "metadata": {},
   "source": [
    "# Consolidating labeling up to 12-31 to ponder next labeling move\n",
    "- Combine all four manual-label iterations until now with auto labeling\n",
    "- incorporate info about whether a channel is False for ALL topics\n",
    "- Find number of channels that still need to be labeled for P1/P2/P3\n"
   ]
  },
  {
   "cell_type": "code",
   "execution_count": null,
   "id": "5ad4af65",
   "metadata": {},
   "outputs": [],
   "source": []
  },
  {
   "cell_type": "code",
   "execution_count": null,
   "id": "e9319ab3",
   "metadata": {},
   "outputs": [],
   "source": []
  },
  {
   "cell_type": "markdown",
   "id": "dfc0db28",
   "metadata": {},
   "source": [
    "## Combine all other labeling iterations to one dictionary\n",
    "- I am in the process of \"updating\" my labels with new codebook, but we work with what we have right now\n",
    "- Four iterations of manual labeling until now, plus automatic labeling from channel lists\n",
    "- Can use \"apply\" rather than iterate through df next time\n",
    "- Stopped the labeled_dict_extra code because I got lazy (it was in the effort of creating a new dataset with all current manual labels)\n",
    "- ^However, I should continue this when I pick up again"
   ]
  },
  {
   "cell_type": "code",
   "execution_count": 118,
   "id": "0b11e1fe",
   "metadata": {},
   "outputs": [],
   "source": [
    "# dict of {channel -> {topic --> True/False (on-topic?)} }\n",
    "labeled_dict = {}\n",
    "labeled_dict_extra = {}\n",
    "topics = ['alt-right', 'antitheist', 'politics-left', 'politics-right']"
   ]
  },
  {
   "cell_type": "code",
   "execution_count": null,
   "id": "51ff3d2b",
   "metadata": {},
   "outputs": [],
   "source": []
  },
  {
   "cell_type": "code",
   "execution_count": 119,
   "id": "eedc969a",
   "metadata": {},
   "outputs": [],
   "source": [
    "auto_channels_path = '../../../burst/communities/'"
   ]
  },
  {
   "cell_type": "code",
   "execution_count": 120,
   "id": "aaac21a3",
   "metadata": {},
   "outputs": [],
   "source": [
    "channel_paths_dict = {'alt-right': auto_channels_path+'alt-right/alt-right_channels.csv',\n",
    "                     'antitheist': auto_channels_path+'antitheist/antitheist_channels.csv',\n",
    "                     'politics-left': auto_channels_path+'politics/channels_left.csv',\n",
    "                     'politics-right': auto_channels_path+'politics/channels_right.csv',\n",
    "                     }\n",
    "\n",
    "for topic in channel_paths_dict.keys():\n",
    "    channels_filepath = channel_paths_dict[topic]\n",
    "    channels_df = pd.read_csv(channels_filepath, header=None)\n",
    "    \n",
    "    for channel_id in channels_df[0]:\n",
    "        if channel_id not in labeled_dict.keys():\n",
    "            labeled_dict[channel_id] = {}\n",
    "            labeled_dict_extra[channel_id] = {}\n",
    "\n",
    "        labeled_dict[channel_id][topic] = True\n",
    "        \n",
    "        labeled_dict_extra[channel_id][topic] = {'labeling_setting':'automatic','recheck':False}\n",
    "        \n",
    "        for other_topic in topics:\n",
    "            if other_topic != topic and other_topic not in labeled_dict[channel_id].keys():\n",
    "                labeled_dict[channel_id][other_topic] = False\n",
    "                labeled_dict_extra[channel_id][topic] = {'labeling_setting':'automatic','recheck':False}\n"
   ]
  },
  {
   "cell_type": "code",
   "execution_count": 121,
   "id": "706ebe4a",
   "metadata": {},
   "outputs": [
    {
     "data": {
      "text/plain": [
       "650"
      ]
     },
     "execution_count": 121,
     "metadata": {},
     "output_type": "execute_result"
    }
   ],
   "source": [
    "len(labeled_dict.keys())"
   ]
  },
  {
   "cell_type": "code",
   "execution_count": null,
   "id": "ae481303",
   "metadata": {},
   "outputs": [],
   "source": []
  },
  {
   "cell_type": "raw",
   "id": "b9701485",
   "metadata": {},
   "source": [
    "# Don't use because I didn't label these with notes so I can't retrace my steps\n",
    "\n",
    "# Scubbing strategy characterizing\n",
    "# _UC means not on-topic, ^UC means on-topic\n",
    "for topic in topics:\n",
    "    df = pd.read_csv('../scrub_strat_char_labeling/labeled/strategy characterizing - {0}.csv'.format(topic))\n",
    "    for index, row in df.iterrows():\n",
    "          for v in dict(row).values():\n",
    "                channel_id = None\n",
    "                yes = None\n",
    "                if type(v) == str and len(v) > 2:\n",
    "                    if v[:3] == '_UC':\n",
    "                        yes = False\n",
    "                    elif v[:3] == '^UC':\n",
    "                        yes = True\n",
    "                    if yes is not None:\n",
    "                        channel_id = v[1:]\n",
    "                        if channel_id not in labeled_dict.keys():\n",
    "                            labeled_dict[channel_id] = {}\n",
    "                            labeled_dict_extra[channel_id] = {}\n",
    "                        if yes:\n",
    "                            labeled_dict[channel_id][topic] = True\n",
    "                        else:\n",
    "                            labeled_dict[channel_id][topic] = False\n",
    "\n",
    "                        labeled_dict_extra[channel_id][topic] = {'labeling_setting':'scrub strat char','recheck':True}\n"
   ]
  },
  {
   "cell_type": "code",
   "execution_count": 122,
   "id": "ac95b265",
   "metadata": {},
   "outputs": [
    {
     "data": {
      "text/plain": [
       "650"
      ]
     },
     "execution_count": 122,
     "metadata": {},
     "output_type": "execute_result"
    }
   ],
   "source": [
    "len(labeled_dict.keys())"
   ]
  },
  {
   "cell_type": "code",
   "execution_count": 123,
   "id": "d121f50f",
   "metadata": {},
   "outputs": [],
   "source": [
    "# Stain topic validation\n",
    "df_stv = pd.read_csv('./labeled_12-31/channel labeling - stain_topic_validation.csv')\n",
    "df_stv.head()\n",
    "\n",
    "# easier logic than for scrub strategy characterization spreadsheet\n",
    "# columns are topic, channel_id and on-topic\n",
    "for index, row in df_stv.iterrows():\n",
    "    \n",
    "    if 'topic' in row.keys() and 'channel_id' in row.keys():\n",
    "        topic = row['topic']\n",
    "        channel_id = row['channel_id']\n",
    "        \n",
    "        if topic in topics and channel_id[:2] == 'UC':\n",
    "            on_topic = row['on-topic?']\n",
    "\n",
    "            if channel_id not in labeled_dict.keys():\n",
    "                labeled_dict[channel_id] = {}\n",
    "                labeled_dict_extra[channel_id] = {}\n",
    "                \n",
    "            if on_topic == 'no':\n",
    "                labeled_dict[channel_id][topic] = False\n",
    "            elif on_topic == 'yes':\n",
    "                labeled_dict[channel_id][topic] = True\n",
    "            \n",
    "            if on_topic == 'no' or on_topic == 'yes':\n",
    "                if type(row['12/30- check again'])==str and len(row['12/30- check again'])>0:\n",
    "                    labeled_dict_extra[channel_id][topic] = {'labeling_setting':'stain topic val','recheck':True}\n",
    "                else:\n",
    "                    labeled_dict_extra[channel_id][topic] = {'labeling_setting':'stain topic val','recheck':False}\n",
    "\n",
    "            \n",
    "            # Clearly not of any other topic\n",
    "            if type(row['Potential other category']) != str:\n",
    "                for other_topic in topics:\n",
    "                    if other_topic != topic and other_topic not in labeled_dict[channel_id].keys():\n",
    "                        labeled_dict[channel_id][other_topic] = False\n",
    "                        labeled_dict_extra[channel_id][topic] = {'labeling_setting':'stain topic val','recheck':False}\n"
   ]
  },
  {
   "cell_type": "code",
   "execution_count": 124,
   "id": "5e3f8035",
   "metadata": {},
   "outputs": [
    {
     "data": {
      "text/plain": [
       "800"
      ]
     },
     "execution_count": 124,
     "metadata": {},
     "output_type": "execute_result"
    }
   ],
   "source": [
    "len(labeled_dict.keys())"
   ]
  },
  {
   "cell_type": "code",
   "execution_count": 125,
   "id": "bf33ace0",
   "metadata": {},
   "outputs": [
    {
     "data": {
      "text/html": [
       "<div>\n",
       "<style scoped>\n",
       "    .dataframe tbody tr th:only-of-type {\n",
       "        vertical-align: middle;\n",
       "    }\n",
       "\n",
       "    .dataframe tbody tr th {\n",
       "        vertical-align: top;\n",
       "    }\n",
       "\n",
       "    .dataframe thead th {\n",
       "        text-align: right;\n",
       "    }\n",
       "</style>\n",
       "<table border=\"1\" class=\"dataframe\">\n",
       "  <thead>\n",
       "    <tr style=\"text-align: right;\">\n",
       "      <th></th>\n",
       "      <th>Unnamed: 0</th>\n",
       "      <th>topic</th>\n",
       "      <th>strategy</th>\n",
       "      <th>note</th>\n",
       "      <th>rank</th>\n",
       "      <th>channel_id</th>\n",
       "      <th>stain</th>\n",
       "      <th>should_be_stain</th>\n",
       "      <th>potential other category</th>\n",
       "      <th>12/30- check again</th>\n",
       "      <th>notes</th>\n",
       "      <th>shuffled_idx</th>\n",
       "    </tr>\n",
       "  </thead>\n",
       "  <tbody>\n",
       "    <tr>\n",
       "      <th>0</th>\n",
       "      <td>2555</td>\n",
       "      <td>alt-right</td>\n",
       "      <td>delete</td>\n",
       "      <td>0</td>\n",
       "      <td>0</td>\n",
       "      <td>UCpar38sKgMVxiaO80LZFdwA</td>\n",
       "      <td>False</td>\n",
       "      <td>False</td>\n",
       "      <td>politics</td>\n",
       "      <td>NaN</td>\n",
       "      <td>pagan tradition commenter on modern news</td>\n",
       "      <td>46</td>\n",
       "    </tr>\n",
       "    <tr>\n",
       "      <th>1</th>\n",
       "      <td>2556</td>\n",
       "      <td>alt-right</td>\n",
       "      <td>delete</td>\n",
       "      <td>0</td>\n",
       "      <td>1</td>\n",
       "      <td>UC4YUKOBld2PoOLzk0YZ80lw</td>\n",
       "      <td>False</td>\n",
       "      <td>False</td>\n",
       "      <td>NaN</td>\n",
       "      <td>NaN</td>\n",
       "      <td>minecrafter</td>\n",
       "      <td>27</td>\n",
       "    </tr>\n",
       "    <tr>\n",
       "      <th>2</th>\n",
       "      <td>2557</td>\n",
       "      <td>alt-right</td>\n",
       "      <td>delete</td>\n",
       "      <td>0</td>\n",
       "      <td>2</td>\n",
       "      <td>UCiIWdzEVNH8okhlapR9a-xA</td>\n",
       "      <td>False</td>\n",
       "      <td>False</td>\n",
       "      <td>NaN</td>\n",
       "      <td>NaN</td>\n",
       "      <td>NaN</td>\n",
       "      <td>24</td>\n",
       "    </tr>\n",
       "    <tr>\n",
       "      <th>3</th>\n",
       "      <td>2558</td>\n",
       "      <td>alt-right</td>\n",
       "      <td>delete</td>\n",
       "      <td>0</td>\n",
       "      <td>3</td>\n",
       "      <td>NaN</td>\n",
       "      <td>False</td>\n",
       "      <td>False</td>\n",
       "      <td>NaN</td>\n",
       "      <td>NaN</td>\n",
       "      <td>NaN</td>\n",
       "      <td>18</td>\n",
       "    </tr>\n",
       "    <tr>\n",
       "      <th>4</th>\n",
       "      <td>2559</td>\n",
       "      <td>alt-right</td>\n",
       "      <td>delete</td>\n",
       "      <td>0</td>\n",
       "      <td>4</td>\n",
       "      <td>UCX6OQ3DkcsbYNE6H8uQQuVA</td>\n",
       "      <td>False</td>\n",
       "      <td>False</td>\n",
       "      <td>NaN</td>\n",
       "      <td>NaN</td>\n",
       "      <td>NaN</td>\n",
       "      <td>48</td>\n",
       "    </tr>\n",
       "  </tbody>\n",
       "</table>\n",
       "</div>"
      ],
      "text/plain": [
       "   Unnamed: 0      topic strategy  note  rank                channel_id  \\\n",
       "0        2555  alt-right   delete     0     0  UCpar38sKgMVxiaO80LZFdwA   \n",
       "1        2556  alt-right   delete     0     1  UC4YUKOBld2PoOLzk0YZ80lw   \n",
       "2        2557  alt-right   delete     0     2  UCiIWdzEVNH8okhlapR9a-xA   \n",
       "3        2558  alt-right   delete     0     3                       NaN   \n",
       "4        2559  alt-right   delete     0     4  UCX6OQ3DkcsbYNE6H8uQQuVA   \n",
       "\n",
       "   stain  should_be_stain potential other category 12/30- check again  \\\n",
       "0  False            False                 politics                NaN   \n",
       "1  False            False                      NaN                NaN   \n",
       "2  False            False                      NaN                NaN   \n",
       "3  False            False                      NaN                NaN   \n",
       "4  False            False                      NaN                NaN   \n",
       "\n",
       "                                      notes  shuffled_idx  \n",
       "0  pagan tradition commenter on modern news            46  \n",
       "1                               minecrafter            27  \n",
       "2                                       NaN            24  \n",
       "3                                       NaN            18  \n",
       "4                                       NaN            48  "
      ]
     },
     "execution_count": 125,
     "metadata": {},
     "output_type": "execute_result"
    }
   ],
   "source": [
    "# scrub end understimation\n",
    "df_scrub_end = pd.read_csv('./labeled_12-31/channel labeling - end_scrub_underestimation.csv')\n",
    "df_scrub_end.head()"
   ]
  },
  {
   "cell_type": "code",
   "execution_count": 126,
   "id": "6723bb74",
   "metadata": {},
   "outputs": [],
   "source": [
    "def add_to_labeled_dict(x, labeled_dict, labeled_dict_extra):\n",
    "    #print(x)\n",
    "    topic = x['topic']\n",
    "    channel_id = x['channel_id']\n",
    "    should_be_stain = x['should_be_stain']\n",
    "    pot_other_cat = x['potential other category']\n",
    "\n",
    "    if channel_id not in labeled_dict.keys():\n",
    "        labeled_dict[channel_id] = {}\n",
    "        #labeled_dict_extra[channel_id] = {}\n",
    "    \n",
    "    if topic in topics and type(channel_id) == str and channel_id[:2] == 'UC':\n",
    "        labeled_dict[channel_id][topic] = should_be_stain\n",
    "        \n",
    "        #if type(x['12/30- check again'])==str and len(x['12/30- check again'])>0:\n",
    "        #    labeled_dict_extra[channel_id][topic] = {'labeling_setting':'scrub end under','recheck':True}\n",
    "        #else:\n",
    "        #    labeled_dict_extra[channel_id][topic] = {'labeling_setting':'scrub end under','recheck':False}\n",
    "\n",
    "    if type(pot_other_cat) != str:\n",
    "        for other_topic in topics:\n",
    "            if other_topic != topic and other_topic not in labeled_dict[channel_id].keys():\n",
    "                labeled_dict[channel_id][other_topic] = False\n",
    "                #labeled_dict_extra[channel_id][topic] = {'labeling_setting':'scrub end under','recheck':False}"
   ]
  },
  {
   "cell_type": "code",
   "execution_count": 127,
   "id": "5a8d5083",
   "metadata": {
    "scrolled": true
   },
   "outputs": [
    {
     "data": {
      "text/plain": [
       "0       None\n",
       "1       None\n",
       "2       None\n",
       "3       None\n",
       "4       None\n",
       "        ... \n",
       "1395    None\n",
       "1396    None\n",
       "1397    None\n",
       "1398    None\n",
       "1399    None\n",
       "Length: 1400, dtype: object"
      ]
     },
     "execution_count": 127,
     "metadata": {},
     "output_type": "execute_result"
    }
   ],
   "source": [
    "df_scrub_end[['topic','channel_id','should_be_stain','potential other category','12/30- check again']].apply(lambda x:\n",
    "     add_to_labeled_dict(x, labeled_dict, labeled_dict_extra), axis=1\n",
    ")"
   ]
  },
  {
   "cell_type": "code",
   "execution_count": 128,
   "id": "846bb0b7",
   "metadata": {},
   "outputs": [
    {
     "data": {
      "text/plain": [
       "1387"
      ]
     },
     "execution_count": 128,
     "metadata": {},
     "output_type": "execute_result"
    }
   ],
   "source": [
    "len(labeled_dict.keys())"
   ]
  },
  {
   "cell_type": "code",
   "execution_count": null,
   "id": "31e2c309",
   "metadata": {},
   "outputs": [],
   "source": []
  },
  {
   "cell_type": "code",
   "execution_count": 129,
   "id": "33b17873",
   "metadata": {},
   "outputs": [
    {
     "data": {
      "text/html": [
       "<div>\n",
       "<style scoped>\n",
       "    .dataframe tbody tr th:only-of-type {\n",
       "        vertical-align: middle;\n",
       "    }\n",
       "\n",
       "    .dataframe tbody tr th {\n",
       "        vertical-align: top;\n",
       "    }\n",
       "\n",
       "    .dataframe thead th {\n",
       "        text-align: right;\n",
       "    }\n",
       "</style>\n",
       "<table border=\"1\" class=\"dataframe\">\n",
       "  <thead>\n",
       "    <tr style=\"text-align: right;\">\n",
       "      <th></th>\n",
       "      <th>rank</th>\n",
       "      <th>video_id</th>\n",
       "      <th>channel_id</th>\n",
       "      <th>topic</th>\n",
       "      <th>strategy</th>\n",
       "      <th>should_be_stain</th>\n",
       "      <th>potential other category</th>\n",
       "      <th>12/31 recheck?</th>\n",
       "      <th>comments</th>\n",
       "    </tr>\n",
       "  </thead>\n",
       "  <tbody>\n",
       "    <tr>\n",
       "      <th>0</th>\n",
       "      <td>5</td>\n",
       "      <td>jpmLEdCeevo</td>\n",
       "      <td>UC81DuEHqyRUGhj6rMcEP6cw</td>\n",
       "      <td>alt-right</td>\n",
       "      <td>delete</td>\n",
       "      <td>False</td>\n",
       "      <td>NaN</td>\n",
       "      <td>NaN</td>\n",
       "      <td>Japanese</td>\n",
       "    </tr>\n",
       "    <tr>\n",
       "      <th>1</th>\n",
       "      <td>6</td>\n",
       "      <td>Dx5qFachd3A</td>\n",
       "      <td>UCJhjE7wbdYAae1G25m0tHAA</td>\n",
       "      <td>alt-right</td>\n",
       "      <td>delete</td>\n",
       "      <td>False</td>\n",
       "      <td>NaN</td>\n",
       "      <td>NaN</td>\n",
       "      <td>NaN</td>\n",
       "    </tr>\n",
       "    <tr>\n",
       "      <th>2</th>\n",
       "      <td>14</td>\n",
       "      <td>PLspFX498zc</td>\n",
       "      <td>UCYac9irNGo3pSrvc_L8HERw</td>\n",
       "      <td>alt-right</td>\n",
       "      <td>delete</td>\n",
       "      <td>NaN</td>\n",
       "      <td>NaN</td>\n",
       "      <td>NaN</td>\n",
       "      <td>NaN</td>\n",
       "    </tr>\n",
       "    <tr>\n",
       "      <th>3</th>\n",
       "      <td>5</td>\n",
       "      <td>YGsG2aCtt8E</td>\n",
       "      <td>UCJI4ZOQ_0R1HbWmIPY3DTLg</td>\n",
       "      <td>alt-right</td>\n",
       "      <td>delete</td>\n",
       "      <td>False</td>\n",
       "      <td>NaN</td>\n",
       "      <td>NaN</td>\n",
       "      <td>emergency responses</td>\n",
       "    </tr>\n",
       "    <tr>\n",
       "      <th>4</th>\n",
       "      <td>13</td>\n",
       "      <td>ZwqzcGVVJIc</td>\n",
       "      <td>UCCXoCcu9Rp7NPbTzIvogpZg</td>\n",
       "      <td>alt-right</td>\n",
       "      <td>delete</td>\n",
       "      <td>NaN</td>\n",
       "      <td>NaN</td>\n",
       "      <td>NaN</td>\n",
       "      <td>NaN</td>\n",
       "    </tr>\n",
       "  </tbody>\n",
       "</table>\n",
       "</div>"
      ],
      "text/plain": [
       "   rank     video_id                channel_id      topic strategy  \\\n",
       "0     5  jpmLEdCeevo  UC81DuEHqyRUGhj6rMcEP6cw  alt-right   delete   \n",
       "1     6  Dx5qFachd3A  UCJhjE7wbdYAae1G25m0tHAA  alt-right   delete   \n",
       "2    14  PLspFX498zc  UCYac9irNGo3pSrvc_L8HERw  alt-right   delete   \n",
       "3     5  YGsG2aCtt8E  UCJI4ZOQ_0R1HbWmIPY3DTLg  alt-right   delete   \n",
       "4    13  ZwqzcGVVJIc  UCCXoCcu9Rp7NPbTzIvogpZg  alt-right   delete   \n",
       "\n",
       "  should_be_stain potential other category 12/31 recheck?             comments  \n",
       "0           False                      NaN            NaN             Japanese  \n",
       "1           False                      NaN            NaN                  NaN  \n",
       "2             NaN                      NaN            NaN                  NaN  \n",
       "3           False                      NaN            NaN  emergency responses  \n",
       "4             NaN                      NaN            NaN                  NaN  "
      ]
     },
     "execution_count": 129,
     "metadata": {},
     "output_type": "execute_result"
    }
   ],
   "source": [
    "df_12_26 = pd.read_csv('./labeled_12-31/Manual labeling 12_26 - homepage_to_label_12-26.csv')\n",
    "df_12_26.head()"
   ]
  },
  {
   "cell_type": "code",
   "execution_count": 130,
   "id": "63e70b22",
   "metadata": {},
   "outputs": [
    {
     "data": {
      "text/plain": [
       "0      None\n",
       "1      None\n",
       "2      None\n",
       "3      None\n",
       "4      None\n",
       "       ... \n",
       "385    None\n",
       "386    None\n",
       "387    None\n",
       "388    None\n",
       "389    None\n",
       "Length: 390, dtype: object"
      ]
     },
     "execution_count": 130,
     "metadata": {},
     "output_type": "execute_result"
    }
   ],
   "source": [
    "df_12_26[['topic','channel_id','should_be_stain','potential other category']].apply(lambda x:\n",
    "     add_to_labeled_dict(x, labeled_dict, labeled_dict_extra), axis=1\n",
    ")"
   ]
  },
  {
   "cell_type": "code",
   "execution_count": 131,
   "id": "fc11b97d",
   "metadata": {},
   "outputs": [
    {
     "data": {
      "text/plain": [
       "1669"
      ]
     },
     "execution_count": 131,
     "metadata": {},
     "output_type": "execute_result"
    }
   ],
   "source": [
    "len(labeled_dict.keys())"
   ]
  },
  {
   "cell_type": "code",
   "execution_count": null,
   "id": "9dc947c9",
   "metadata": {},
   "outputs": [],
   "source": []
  },
  {
   "cell_type": "markdown",
   "id": "704bc170",
   "metadata": {},
   "source": [
    "## Apply these labels to our P1/2/3/ data"
   ]
  },
  {
   "cell_type": "code",
   "execution_count": 132,
   "id": "0abeb0f4",
   "metadata": {},
   "outputs": [
    {
     "data": {
      "text/html": [
       "<div>\n",
       "<style scoped>\n",
       "    .dataframe tbody tr th:only-of-type {\n",
       "        vertical-align: middle;\n",
       "    }\n",
       "\n",
       "    .dataframe tbody tr th {\n",
       "        vertical-align: top;\n",
       "    }\n",
       "\n",
       "    .dataframe thead th {\n",
       "        text-align: right;\n",
       "    }\n",
       "</style>\n",
       "<table border=\"1\" class=\"dataframe\">\n",
       "  <thead>\n",
       "    <tr style=\"text-align: right;\">\n",
       "      <th></th>\n",
       "      <th>Unnamed: 0</th>\n",
       "      <th>Unnamed: 0.1</th>\n",
       "      <th>Unnamed: 0.1.1</th>\n",
       "      <th>video_id</th>\n",
       "      <th>channel_id</th>\n",
       "      <th>rank</th>\n",
       "      <th>component</th>\n",
       "      <th>watch_video_id</th>\n",
       "      <th>bot_name</th>\n",
       "      <th>phase</th>\n",
       "      <th>phase_level</th>\n",
       "      <th>homepage_level</th>\n",
       "      <th>videopage_level</th>\n",
       "      <th>time</th>\n",
       "      <th>topic</th>\n",
       "      <th>strategy</th>\n",
       "      <th>note</th>\n",
       "      <th>rerun</th>\n",
       "      <th>stain</th>\n",
       "      <th>channel_type</th>\n",
       "    </tr>\n",
       "  </thead>\n",
       "  <tbody>\n",
       "    <tr>\n",
       "      <th>0</th>\n",
       "      <td>0</td>\n",
       "      <td>0</td>\n",
       "      <td>0</td>\n",
       "      <td>PEWFu0aZroQ</td>\n",
       "      <td>UCXIJgqnII2ZOINSWNOGFThA</td>\n",
       "      <td>0</td>\n",
       "      <td>videopage</td>\n",
       "      <td>ya2T1XGYTR8</td>\n",
       "      <td>alt-right_delete_0</td>\n",
       "      <td>videopage_experiment</td>\n",
       "      <td>0</td>\n",
       "      <td>0</td>\n",
       "      <td>0</td>\n",
       "      <td>2022-08-07 04:54:08.682177</td>\n",
       "      <td>alt-right</td>\n",
       "      <td>delete</td>\n",
       "      <td>0</td>\n",
       "      <td>0</td>\n",
       "      <td>False</td>\n",
       "      <td>off-list</td>\n",
       "    </tr>\n",
       "    <tr>\n",
       "      <th>1</th>\n",
       "      <td>1</td>\n",
       "      <td>1</td>\n",
       "      <td>1</td>\n",
       "      <td>XmiG4KzZ4sg</td>\n",
       "      <td>UCPKAKrjoMz7POptCloy7AIQ</td>\n",
       "      <td>1</td>\n",
       "      <td>videopage</td>\n",
       "      <td>ya2T1XGYTR8</td>\n",
       "      <td>alt-right_delete_0</td>\n",
       "      <td>videopage_experiment</td>\n",
       "      <td>0</td>\n",
       "      <td>0</td>\n",
       "      <td>0</td>\n",
       "      <td>2022-08-07 04:54:08.682192</td>\n",
       "      <td>alt-right</td>\n",
       "      <td>delete</td>\n",
       "      <td>0</td>\n",
       "      <td>0</td>\n",
       "      <td>False</td>\n",
       "      <td>off-list</td>\n",
       "    </tr>\n",
       "    <tr>\n",
       "      <th>2</th>\n",
       "      <td>2</td>\n",
       "      <td>2</td>\n",
       "      <td>2</td>\n",
       "      <td>Lh0b00vL1nI</td>\n",
       "      <td>UCmRZTrJYqOMzP5J0r0snxYg</td>\n",
       "      <td>2</td>\n",
       "      <td>videopage</td>\n",
       "      <td>ya2T1XGYTR8</td>\n",
       "      <td>alt-right_delete_0</td>\n",
       "      <td>videopage_experiment</td>\n",
       "      <td>0</td>\n",
       "      <td>0</td>\n",
       "      <td>0</td>\n",
       "      <td>2022-08-07 04:54:08.682195</td>\n",
       "      <td>alt-right</td>\n",
       "      <td>delete</td>\n",
       "      <td>0</td>\n",
       "      <td>0</td>\n",
       "      <td>False</td>\n",
       "      <td>off-list</td>\n",
       "    </tr>\n",
       "    <tr>\n",
       "      <th>3</th>\n",
       "      <td>3</td>\n",
       "      <td>3</td>\n",
       "      <td>3</td>\n",
       "      <td>k6ucIShHW7Q</td>\n",
       "      <td>UCJquYOG5EL82sKTfH9aMA9Q</td>\n",
       "      <td>3</td>\n",
       "      <td>videopage</td>\n",
       "      <td>ya2T1XGYTR8</td>\n",
       "      <td>alt-right_delete_0</td>\n",
       "      <td>videopage_experiment</td>\n",
       "      <td>0</td>\n",
       "      <td>0</td>\n",
       "      <td>0</td>\n",
       "      <td>2022-08-07 04:54:08.682199</td>\n",
       "      <td>alt-right</td>\n",
       "      <td>delete</td>\n",
       "      <td>0</td>\n",
       "      <td>0</td>\n",
       "      <td>False</td>\n",
       "      <td>off-list</td>\n",
       "    </tr>\n",
       "    <tr>\n",
       "      <th>4</th>\n",
       "      <td>4</td>\n",
       "      <td>4</td>\n",
       "      <td>4</td>\n",
       "      <td>0GCDhADokLY</td>\n",
       "      <td>UC2ggrxKhqgTRx7We9vjQRCQ</td>\n",
       "      <td>4</td>\n",
       "      <td>videopage</td>\n",
       "      <td>ya2T1XGYTR8</td>\n",
       "      <td>alt-right_delete_0</td>\n",
       "      <td>videopage_experiment</td>\n",
       "      <td>0</td>\n",
       "      <td>0</td>\n",
       "      <td>0</td>\n",
       "      <td>2022-08-07 04:54:08.682202</td>\n",
       "      <td>alt-right</td>\n",
       "      <td>delete</td>\n",
       "      <td>0</td>\n",
       "      <td>0</td>\n",
       "      <td>False</td>\n",
       "      <td>off-list</td>\n",
       "    </tr>\n",
       "  </tbody>\n",
       "</table>\n",
       "</div>"
      ],
      "text/plain": [
       "   Unnamed: 0  Unnamed: 0.1  Unnamed: 0.1.1     video_id  \\\n",
       "0           0             0               0  PEWFu0aZroQ   \n",
       "1           1             1               1  XmiG4KzZ4sg   \n",
       "2           2             2               2  Lh0b00vL1nI   \n",
       "3           3             3               3  k6ucIShHW7Q   \n",
       "4           4             4               4  0GCDhADokLY   \n",
       "\n",
       "                 channel_id  rank  component watch_video_id  \\\n",
       "0  UCXIJgqnII2ZOINSWNOGFThA     0  videopage    ya2T1XGYTR8   \n",
       "1  UCPKAKrjoMz7POptCloy7AIQ     1  videopage    ya2T1XGYTR8   \n",
       "2  UCmRZTrJYqOMzP5J0r0snxYg     2  videopage    ya2T1XGYTR8   \n",
       "3  UCJquYOG5EL82sKTfH9aMA9Q     3  videopage    ya2T1XGYTR8   \n",
       "4  UC2ggrxKhqgTRx7We9vjQRCQ     4  videopage    ya2T1XGYTR8   \n",
       "\n",
       "             bot_name                 phase  phase_level  homepage_level  \\\n",
       "0  alt-right_delete_0  videopage_experiment            0               0   \n",
       "1  alt-right_delete_0  videopage_experiment            0               0   \n",
       "2  alt-right_delete_0  videopage_experiment            0               0   \n",
       "3  alt-right_delete_0  videopage_experiment            0               0   \n",
       "4  alt-right_delete_0  videopage_experiment            0               0   \n",
       "\n",
       "   videopage_level                        time      topic strategy  note  \\\n",
       "0                0  2022-08-07 04:54:08.682177  alt-right   delete     0   \n",
       "1                0  2022-08-07 04:54:08.682192  alt-right   delete     0   \n",
       "2                0  2022-08-07 04:54:08.682195  alt-right   delete     0   \n",
       "3                0  2022-08-07 04:54:08.682199  alt-right   delete     0   \n",
       "4                0  2022-08-07 04:54:08.682202  alt-right   delete     0   \n",
       "\n",
       "   rerun  stain channel_type  \n",
       "0      0  False     off-list  \n",
       "1      0  False     off-list  \n",
       "2      0  False     off-list  \n",
       "3      0  False     off-list  \n",
       "4      0  False     off-list  "
      ]
     },
     "execution_count": 132,
     "metadata": {},
     "output_type": "execute_result"
    }
   ],
   "source": [
    "df = pd.read_csv('../all_cleaned_labeled.csv')\n",
    "df = df[(df['topic']!='random')&(df['rank']<10)]\n",
    "df.head()"
   ]
  },
  {
   "cell_type": "code",
   "execution_count": null,
   "id": "2059a979",
   "metadata": {},
   "outputs": [],
   "source": []
  },
  {
   "cell_type": "code",
   "execution_count": 133,
   "id": "c89dea39",
   "metadata": {},
   "outputs": [],
   "source": [
    "df_homepage = df[\n",
    "    (df['component']=='homepage')&\n",
    "    (df['homepage_level'].isin([0,39,79]))\n",
    "]"
   ]
  },
  {
   "cell_type": "code",
   "execution_count": 134,
   "id": "01203447",
   "metadata": {},
   "outputs": [
    {
     "data": {
      "text/html": [
       "<div>\n",
       "<style scoped>\n",
       "    .dataframe tbody tr th:only-of-type {\n",
       "        vertical-align: middle;\n",
       "    }\n",
       "\n",
       "    .dataframe tbody tr th {\n",
       "        vertical-align: top;\n",
       "    }\n",
       "\n",
       "    .dataframe thead th {\n",
       "        text-align: right;\n",
       "    }\n",
       "</style>\n",
       "<table border=\"1\" class=\"dataframe\">\n",
       "  <thead>\n",
       "    <tr style=\"text-align: right;\">\n",
       "      <th></th>\n",
       "      <th>Unnamed: 0</th>\n",
       "      <th>Unnamed: 0.1</th>\n",
       "      <th>Unnamed: 0.1.1</th>\n",
       "      <th>video_id</th>\n",
       "      <th>channel_id</th>\n",
       "      <th>rank</th>\n",
       "      <th>component</th>\n",
       "      <th>watch_video_id</th>\n",
       "      <th>bot_name</th>\n",
       "      <th>phase</th>\n",
       "      <th>phase_level</th>\n",
       "      <th>homepage_level</th>\n",
       "      <th>videopage_level</th>\n",
       "      <th>time</th>\n",
       "      <th>topic</th>\n",
       "      <th>strategy</th>\n",
       "      <th>note</th>\n",
       "      <th>rerun</th>\n",
       "      <th>stain</th>\n",
       "      <th>channel_type</th>\n",
       "    </tr>\n",
       "  </thead>\n",
       "  <tbody>\n",
       "    <tr>\n",
       "      <th>0</th>\n",
       "      <td>0</td>\n",
       "      <td>0</td>\n",
       "      <td>0</td>\n",
       "      <td>PEWFu0aZroQ</td>\n",
       "      <td>UCXIJgqnII2ZOINSWNOGFThA</td>\n",
       "      <td>0</td>\n",
       "      <td>videopage</td>\n",
       "      <td>ya2T1XGYTR8</td>\n",
       "      <td>alt-right_delete_0</td>\n",
       "      <td>videopage_experiment</td>\n",
       "      <td>0</td>\n",
       "      <td>0</td>\n",
       "      <td>0</td>\n",
       "      <td>2022-08-07 04:54:08.682177</td>\n",
       "      <td>alt-right</td>\n",
       "      <td>delete</td>\n",
       "      <td>0</td>\n",
       "      <td>0</td>\n",
       "      <td>False</td>\n",
       "      <td>off-list</td>\n",
       "    </tr>\n",
       "    <tr>\n",
       "      <th>1</th>\n",
       "      <td>1</td>\n",
       "      <td>1</td>\n",
       "      <td>1</td>\n",
       "      <td>XmiG4KzZ4sg</td>\n",
       "      <td>UCPKAKrjoMz7POptCloy7AIQ</td>\n",
       "      <td>1</td>\n",
       "      <td>videopage</td>\n",
       "      <td>ya2T1XGYTR8</td>\n",
       "      <td>alt-right_delete_0</td>\n",
       "      <td>videopage_experiment</td>\n",
       "      <td>0</td>\n",
       "      <td>0</td>\n",
       "      <td>0</td>\n",
       "      <td>2022-08-07 04:54:08.682192</td>\n",
       "      <td>alt-right</td>\n",
       "      <td>delete</td>\n",
       "      <td>0</td>\n",
       "      <td>0</td>\n",
       "      <td>False</td>\n",
       "      <td>off-list</td>\n",
       "    </tr>\n",
       "    <tr>\n",
       "      <th>2</th>\n",
       "      <td>2</td>\n",
       "      <td>2</td>\n",
       "      <td>2</td>\n",
       "      <td>Lh0b00vL1nI</td>\n",
       "      <td>UCmRZTrJYqOMzP5J0r0snxYg</td>\n",
       "      <td>2</td>\n",
       "      <td>videopage</td>\n",
       "      <td>ya2T1XGYTR8</td>\n",
       "      <td>alt-right_delete_0</td>\n",
       "      <td>videopage_experiment</td>\n",
       "      <td>0</td>\n",
       "      <td>0</td>\n",
       "      <td>0</td>\n",
       "      <td>2022-08-07 04:54:08.682195</td>\n",
       "      <td>alt-right</td>\n",
       "      <td>delete</td>\n",
       "      <td>0</td>\n",
       "      <td>0</td>\n",
       "      <td>False</td>\n",
       "      <td>off-list</td>\n",
       "    </tr>\n",
       "    <tr>\n",
       "      <th>3</th>\n",
       "      <td>3</td>\n",
       "      <td>3</td>\n",
       "      <td>3</td>\n",
       "      <td>k6ucIShHW7Q</td>\n",
       "      <td>UCJquYOG5EL82sKTfH9aMA9Q</td>\n",
       "      <td>3</td>\n",
       "      <td>videopage</td>\n",
       "      <td>ya2T1XGYTR8</td>\n",
       "      <td>alt-right_delete_0</td>\n",
       "      <td>videopage_experiment</td>\n",
       "      <td>0</td>\n",
       "      <td>0</td>\n",
       "      <td>0</td>\n",
       "      <td>2022-08-07 04:54:08.682199</td>\n",
       "      <td>alt-right</td>\n",
       "      <td>delete</td>\n",
       "      <td>0</td>\n",
       "      <td>0</td>\n",
       "      <td>False</td>\n",
       "      <td>off-list</td>\n",
       "    </tr>\n",
       "    <tr>\n",
       "      <th>4</th>\n",
       "      <td>4</td>\n",
       "      <td>4</td>\n",
       "      <td>4</td>\n",
       "      <td>0GCDhADokLY</td>\n",
       "      <td>UC2ggrxKhqgTRx7We9vjQRCQ</td>\n",
       "      <td>4</td>\n",
       "      <td>videopage</td>\n",
       "      <td>ya2T1XGYTR8</td>\n",
       "      <td>alt-right_delete_0</td>\n",
       "      <td>videopage_experiment</td>\n",
       "      <td>0</td>\n",
       "      <td>0</td>\n",
       "      <td>0</td>\n",
       "      <td>2022-08-07 04:54:08.682202</td>\n",
       "      <td>alt-right</td>\n",
       "      <td>delete</td>\n",
       "      <td>0</td>\n",
       "      <td>0</td>\n",
       "      <td>False</td>\n",
       "      <td>off-list</td>\n",
       "    </tr>\n",
       "  </tbody>\n",
       "</table>\n",
       "</div>"
      ],
      "text/plain": [
       "   Unnamed: 0  Unnamed: 0.1  Unnamed: 0.1.1     video_id  \\\n",
       "0           0             0               0  PEWFu0aZroQ   \n",
       "1           1             1               1  XmiG4KzZ4sg   \n",
       "2           2             2               2  Lh0b00vL1nI   \n",
       "3           3             3               3  k6ucIShHW7Q   \n",
       "4           4             4               4  0GCDhADokLY   \n",
       "\n",
       "                 channel_id  rank  component watch_video_id  \\\n",
       "0  UCXIJgqnII2ZOINSWNOGFThA     0  videopage    ya2T1XGYTR8   \n",
       "1  UCPKAKrjoMz7POptCloy7AIQ     1  videopage    ya2T1XGYTR8   \n",
       "2  UCmRZTrJYqOMzP5J0r0snxYg     2  videopage    ya2T1XGYTR8   \n",
       "3  UCJquYOG5EL82sKTfH9aMA9Q     3  videopage    ya2T1XGYTR8   \n",
       "4  UC2ggrxKhqgTRx7We9vjQRCQ     4  videopage    ya2T1XGYTR8   \n",
       "\n",
       "             bot_name                 phase  phase_level  homepage_level  \\\n",
       "0  alt-right_delete_0  videopage_experiment            0               0   \n",
       "1  alt-right_delete_0  videopage_experiment            0               0   \n",
       "2  alt-right_delete_0  videopage_experiment            0               0   \n",
       "3  alt-right_delete_0  videopage_experiment            0               0   \n",
       "4  alt-right_delete_0  videopage_experiment            0               0   \n",
       "\n",
       "   videopage_level                        time      topic strategy  note  \\\n",
       "0                0  2022-08-07 04:54:08.682177  alt-right   delete     0   \n",
       "1                0  2022-08-07 04:54:08.682192  alt-right   delete     0   \n",
       "2                0  2022-08-07 04:54:08.682195  alt-right   delete     0   \n",
       "3                0  2022-08-07 04:54:08.682199  alt-right   delete     0   \n",
       "4                0  2022-08-07 04:54:08.682202  alt-right   delete     0   \n",
       "\n",
       "   rerun  stain channel_type  \n",
       "0      0  False     off-list  \n",
       "1      0  False     off-list  \n",
       "2      0  False     off-list  \n",
       "3      0  False     off-list  \n",
       "4      0  False     off-list  "
      ]
     },
     "execution_count": 134,
     "metadata": {},
     "output_type": "execute_result"
    }
   ],
   "source": [
    "df_videopage = df[(df['phase']=='videopage_experiment')]\n",
    "df_videopage.head()"
   ]
  },
  {
   "cell_type": "code",
   "execution_count": 135,
   "id": "f340830d",
   "metadata": {},
   "outputs": [],
   "source": [
    "videopage_experiment_levels = []\n",
    "\n",
    "vp_exp_level = 0\n",
    "vp_level = 0\n",
    "bot_name = None\n",
    "\n",
    "for index, row in df_videopage.iterrows():\n",
    "    if row['bot_name'] != bot_name:\n",
    "        bot_name = row['bot_name']\n",
    "        vp_exp_level = 0\n",
    "        vp_level = 0\n",
    "    if row['videopage_level'] != vp_level:\n",
    "        vp_level = row['videopage_level']\n",
    "        vp_exp_level += 1\n",
    "    \n",
    "    videopage_experiment_levels.append(vp_exp_level)"
   ]
  },
  {
   "cell_type": "code",
   "execution_count": 136,
   "id": "8ef09226",
   "metadata": {},
   "outputs": [
    {
     "name": "stderr",
     "output_type": "stream",
     "text": [
      "<ipython-input-136-e031aa8372a5>:1: SettingWithCopyWarning: \n",
      "A value is trying to be set on a copy of a slice from a DataFrame.\n",
      "Try using .loc[row_indexer,col_indexer] = value instead\n",
      "\n",
      "See the caveats in the documentation: https://pandas.pydata.org/pandas-docs/stable/user_guide/indexing.html#returning-a-view-versus-a-copy\n",
      "  df_videopage['exp_level'] = videopage_experiment_levels\n"
     ]
    }
   ],
   "source": [
    "df_videopage['exp_level'] = videopage_experiment_levels"
   ]
  },
  {
   "cell_type": "code",
   "execution_count": 137,
   "id": "d5a1e2b3",
   "metadata": {},
   "outputs": [
    {
     "data": {
      "text/plain": [
       "bot_name\n",
       "alt-right_delete_0        [0, 1, 2]\n",
       "alt-right_delete_1        [0, 1, 2]\n",
       "alt-right_delete_2        [0, 1, 2]\n",
       "alt-right_delete_3        [0, 1, 2]\n",
       "alt-right_delete_4        [0, 1, 2]\n",
       "                            ...    \n",
       "politics-right_watch_0    [0, 1, 2]\n",
       "politics-right_watch_1    [0, 1, 2]\n",
       "politics-right_watch_2    [0, 1, 2]\n",
       "politics-right_watch_3    [0, 1, 2]\n",
       "politics-right_watch_4    [0, 1, 2]\n",
       "Name: exp_level, Length: 139, dtype: object"
      ]
     },
     "execution_count": 137,
     "metadata": {},
     "output_type": "execute_result"
    }
   ],
   "source": [
    "df_videopage.groupby(['bot_name'])['exp_level'].apply(lambda x: x.unique())"
   ]
  },
  {
   "cell_type": "code",
   "execution_count": null,
   "id": "2800ae19",
   "metadata": {},
   "outputs": [],
   "source": []
  },
  {
   "cell_type": "code",
   "execution_count": 138,
   "id": "4d3296ab",
   "metadata": {},
   "outputs": [
    {
     "name": "stderr",
     "output_type": "stream",
     "text": [
      "<ipython-input-138-b8d460e0c855>:1: SettingWithCopyWarning: \n",
      "A value is trying to be set on a copy of a slice from a DataFrame.\n",
      "Try using .loc[row_indexer,col_indexer] = value instead\n",
      "\n",
      "See the caveats in the documentation: https://pandas.pydata.org/pandas-docs/stable/user_guide/indexing.html#returning-a-view-versus-a-copy\n",
      "  df_homepage['stain_combined'] = df_homepage[['channel_id','topic']].apply(\n"
     ]
    }
   ],
   "source": [
    "df_homepage['stain_combined'] = df_homepage[['channel_id','topic']].apply(\n",
    "    lambda x: labeled_dict[x.channel_id][x.topic] if x.channel_id in labeled_dict.keys() and x.topic in labeled_dict[x.channel_id].keys() else 'todo',\n",
    "    axis=1\n",
    ")"
   ]
  },
  {
   "cell_type": "code",
   "execution_count": 139,
   "id": "83f4b67f",
   "metadata": {},
   "outputs": [
    {
     "data": {
      "text/plain": [
       "523"
      ]
     },
     "execution_count": 139,
     "metadata": {},
     "output_type": "execute_result"
    }
   ],
   "source": [
    "len(df_homepage[\n",
    "    ( (df_homepage['homepage_level']==39) | (df_homepage['homepage_level']==0) )&\n",
    "    (df_homepage['stain_combined']=='todo')\n",
    "]['channel_id'].unique())"
   ]
  },
  {
   "cell_type": "code",
   "execution_count": 140,
   "id": "a786941b",
   "metadata": {},
   "outputs": [
    {
     "data": {
      "text/plain": [
       "225"
      ]
     },
     "execution_count": 140,
     "metadata": {},
     "output_type": "execute_result"
    }
   ],
   "source": [
    "len(df_homepage[\n",
    "    ( (df_homepage['homepage_level']==39) )&\n",
    "    (df_homepage['stain_combined']=='todo')\n",
    "]['channel_id'].unique())"
   ]
  },
  {
   "cell_type": "code",
   "execution_count": null,
   "id": "c0f854b7",
   "metadata": {},
   "outputs": [],
   "source": []
  },
  {
   "cell_type": "markdown",
   "id": "e49f2901",
   "metadata": {},
   "source": [
    "### This is the last dataset to finish labeling P2/P3 for homepage\n",
    "- Caveat: Still need to do rechecks and update codebook"
   ]
  },
  {
   "cell_type": "code",
   "execution_count": 142,
   "id": "9e567fba",
   "metadata": {},
   "outputs": [
    {
     "data": {
      "text/plain": [
       "Index(['Unnamed: 0', 'Unnamed: 0.1', 'Unnamed: 0.1.1', 'video_id',\n",
       "       'channel_id', 'rank', 'component', 'watch_video_id', 'bot_name',\n",
       "       'phase', 'phase_level', 'homepage_level', 'videopage_level', 'time',\n",
       "       'topic', 'strategy', 'note', 'rerun', 'stain', 'channel_type',\n",
       "       'stain_combined'],\n",
       "      dtype='object')"
      ]
     },
     "execution_count": 142,
     "metadata": {},
     "output_type": "execute_result"
    }
   ],
   "source": [
    "df_homepage.columns"
   ]
  },
  {
   "cell_type": "code",
   "execution_count": 145,
   "id": "ced51433",
   "metadata": {},
   "outputs": [],
   "source": [
    "df_homepage[\n",
    "    ( (df_homepage['homepage_level']==39) | (df_homepage['homepage_level']==79) )&\n",
    "    (df_homepage['stain_combined']=='todo')\n",
    "][['rank','video_id','channel_id','topic','strategy']].to_csv('./homepage_manual_labeling_1-2.csv',index=False)\n"
   ]
  },
  {
   "cell_type": "code",
   "execution_count": null,
   "id": "be1a77f1",
   "metadata": {},
   "outputs": [],
   "source": []
  },
  {
   "cell_type": "code",
   "execution_count": null,
   "id": "c63f63c0",
   "metadata": {},
   "outputs": [],
   "source": []
  }
 ],
 "metadata": {
  "kernelspec": {
   "display_name": "Python 3",
   "language": "python",
   "name": "python3"
  },
  "language_info": {
   "codemirror_mode": {
    "name": "ipython",
    "version": 3
   },
   "file_extension": ".py",
   "mimetype": "text/x-python",
   "name": "python",
   "nbconvert_exporter": "python",
   "pygments_lexer": "ipython3",
   "version": "3.8.12"
  }
 },
 "nbformat": 4,
 "nbformat_minor": 5
}
