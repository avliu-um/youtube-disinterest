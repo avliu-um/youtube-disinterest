{
 "cells": [
  {
   "cell_type": "code",
   "execution_count": 1,
   "id": "4458d239-15bb-4e19-a0f3-243efbf16762",
   "metadata": {},
   "outputs": [],
   "source": [
    "import pandas as pd"
   ]
  },
  {
   "cell_type": "code",
   "execution_count": null,
   "id": "44595fce-b2a3-457c-9ed0-6d9128ebaef5",
   "metadata": {},
   "outputs": [],
   "source": []
  },
  {
   "cell_type": "code",
   "execution_count": null,
   "id": "24b5f2cb-d258-45b0-a7d3-7e340f23b662",
   "metadata": {},
   "outputs": [],
   "source": []
  },
  {
   "cell_type": "code",
   "execution_count": 2,
   "id": "304769c3-3290-4057-9ec7-bd5782f81cf5",
   "metadata": {},
   "outputs": [
    {
     "data": {
      "text/html": [
       "<div>\n",
       "<style scoped>\n",
       "    .dataframe tbody tr th:only-of-type {\n",
       "        vertical-align: middle;\n",
       "    }\n",
       "\n",
       "    .dataframe tbody tr th {\n",
       "        vertical-align: top;\n",
       "    }\n",
       "\n",
       "    .dataframe thead th {\n",
       "        text-align: right;\n",
       "    }\n",
       "</style>\n",
       "<table border=\"1\" class=\"dataframe\">\n",
       "  <thead>\n",
       "    <tr style=\"text-align: right;\">\n",
       "      <th></th>\n",
       "      <th>video_id</th>\n",
       "      <th>channel_id</th>\n",
       "      <th>rank</th>\n",
       "      <th>component</th>\n",
       "      <th>watch_video_id</th>\n",
       "      <th>bot_name</th>\n",
       "      <th>phase</th>\n",
       "      <th>homepage_level</th>\n",
       "      <th>videopage_level</th>\n",
       "      <th>topic</th>\n",
       "      <th>strategy</th>\n",
       "      <th>note</th>\n",
       "      <th>on_list</th>\n",
       "      <th>manual_label_1-4</th>\n",
       "      <th>exp_stage</th>\n",
       "      <th>on_topic</th>\n",
       "    </tr>\n",
       "  </thead>\n",
       "  <tbody>\n",
       "    <tr>\n",
       "      <th>0</th>\n",
       "      <td>ohjsypZfFVg</td>\n",
       "      <td>UCkY8CvV8WQFe87CZGmvuYHA</td>\n",
       "      <td>0</td>\n",
       "      <td>homepage</td>\n",
       "      <td>NaN</td>\n",
       "      <td>alt-right_delete_0</td>\n",
       "      <td>stain</td>\n",
       "      <td>1</td>\n",
       "      <td>2</td>\n",
       "      <td>alt-right</td>\n",
       "      <td>delete</td>\n",
       "      <td>0</td>\n",
       "      <td>True</td>\n",
       "      <td>NaN</td>\n",
       "      <td>1</td>\n",
       "      <td>True</td>\n",
       "    </tr>\n",
       "    <tr>\n",
       "      <th>1</th>\n",
       "      <td>3zlvqFcinr8</td>\n",
       "      <td>UCXHcH4CggCrvIpm0KM0kHQg</td>\n",
       "      <td>1</td>\n",
       "      <td>homepage</td>\n",
       "      <td>NaN</td>\n",
       "      <td>alt-right_delete_0</td>\n",
       "      <td>stain</td>\n",
       "      <td>1</td>\n",
       "      <td>2</td>\n",
       "      <td>alt-right</td>\n",
       "      <td>delete</td>\n",
       "      <td>0</td>\n",
       "      <td>False</td>\n",
       "      <td>False</td>\n",
       "      <td>1</td>\n",
       "      <td>False</td>\n",
       "    </tr>\n",
       "    <tr>\n",
       "      <th>2</th>\n",
       "      <td>9Xd8xq06FCw</td>\n",
       "      <td>UCCND6a0H56zHL4YuY226ZOQ</td>\n",
       "      <td>2</td>\n",
       "      <td>homepage</td>\n",
       "      <td>NaN</td>\n",
       "      <td>alt-right_delete_0</td>\n",
       "      <td>stain</td>\n",
       "      <td>1</td>\n",
       "      <td>2</td>\n",
       "      <td>alt-right</td>\n",
       "      <td>delete</td>\n",
       "      <td>0</td>\n",
       "      <td>False</td>\n",
       "      <td>False</td>\n",
       "      <td>1</td>\n",
       "      <td>False</td>\n",
       "    </tr>\n",
       "    <tr>\n",
       "      <th>3</th>\n",
       "      <td>sLTvQnjEkRU</td>\n",
       "      <td>UCAaZm4GcWqDg8358LIx3kmw</td>\n",
       "      <td>3</td>\n",
       "      <td>homepage</td>\n",
       "      <td>NaN</td>\n",
       "      <td>alt-right_delete_0</td>\n",
       "      <td>stain</td>\n",
       "      <td>1</td>\n",
       "      <td>2</td>\n",
       "      <td>alt-right</td>\n",
       "      <td>delete</td>\n",
       "      <td>0</td>\n",
       "      <td>False</td>\n",
       "      <td>False</td>\n",
       "      <td>1</td>\n",
       "      <td>False</td>\n",
       "    </tr>\n",
       "    <tr>\n",
       "      <th>4</th>\n",
       "      <td>PmNyNJFCugo</td>\n",
       "      <td>UCvrmr8Nfd86dG7pnSHC7c6Q</td>\n",
       "      <td>4</td>\n",
       "      <td>homepage</td>\n",
       "      <td>NaN</td>\n",
       "      <td>alt-right_delete_0</td>\n",
       "      <td>stain</td>\n",
       "      <td>1</td>\n",
       "      <td>2</td>\n",
       "      <td>alt-right</td>\n",
       "      <td>delete</td>\n",
       "      <td>0</td>\n",
       "      <td>False</td>\n",
       "      <td>False</td>\n",
       "      <td>1</td>\n",
       "      <td>False</td>\n",
       "    </tr>\n",
       "  </tbody>\n",
       "</table>\n",
       "</div>"
      ],
      "text/plain": [
       "      video_id                channel_id  rank component watch_video_id  \\\n",
       "0  ohjsypZfFVg  UCkY8CvV8WQFe87CZGmvuYHA     0  homepage            NaN   \n",
       "1  3zlvqFcinr8  UCXHcH4CggCrvIpm0KM0kHQg     1  homepage            NaN   \n",
       "2  9Xd8xq06FCw  UCCND6a0H56zHL4YuY226ZOQ     2  homepage            NaN   \n",
       "3  sLTvQnjEkRU  UCAaZm4GcWqDg8358LIx3kmw     3  homepage            NaN   \n",
       "4  PmNyNJFCugo  UCvrmr8Nfd86dG7pnSHC7c6Q     4  homepage            NaN   \n",
       "\n",
       "             bot_name  phase  homepage_level  videopage_level      topic  \\\n",
       "0  alt-right_delete_0  stain               1                2  alt-right   \n",
       "1  alt-right_delete_0  stain               1                2  alt-right   \n",
       "2  alt-right_delete_0  stain               1                2  alt-right   \n",
       "3  alt-right_delete_0  stain               1                2  alt-right   \n",
       "4  alt-right_delete_0  stain               1                2  alt-right   \n",
       "\n",
       "  strategy  note  on_list manual_label_1-4  exp_stage  on_topic  \n",
       "0   delete     0     True              NaN          1      True  \n",
       "1   delete     0    False            False          1     False  \n",
       "2   delete     0    False            False          1     False  \n",
       "3   delete     0    False            False          1     False  \n",
       "4   delete     0    False            False          1     False  "
      ]
     },
     "execution_count": 2,
     "metadata": {},
     "output_type": "execute_result"
    }
   ],
   "source": [
    "df = pd.read_csv('./bot_runs_labeled_1-4.csv')\n",
    "df.head()"
   ]
  },
  {
   "cell_type": "code",
   "execution_count": 4,
   "id": "779c3557-2482-4d2d-a482-f17ab970e19c",
   "metadata": {},
   "outputs": [
    {
     "data": {
      "text/plain": [
       "array([1, 2, 3])"
      ]
     },
     "execution_count": 4,
     "metadata": {},
     "output_type": "execute_result"
    }
   ],
   "source": [
    "df[df['component']=='homepage']['exp_stage'].unique()"
   ]
  },
  {
   "cell_type": "code",
   "execution_count": null,
   "id": "3dd5ad2e-fc37-4fba-a0c6-b62a0aee2a36",
   "metadata": {},
   "outputs": [],
   "source": []
  },
  {
   "cell_type": "code",
   "execution_count": 9,
   "id": "109574d8-3b10-4db3-801e-d637e031d5a5",
   "metadata": {},
   "outputs": [
    {
     "data": {
      "text/plain": [
       "array(['alt-right', 'antitheist', 'politics-left', 'politics-right'],\n",
       "      dtype=object)"
      ]
     },
     "execution_count": 9,
     "metadata": {},
     "output_type": "execute_result"
    }
   ],
   "source": [
    "df.topic.unique()"
   ]
  },
  {
   "cell_type": "code",
   "execution_count": 13,
   "id": "86be86f2-3b85-4ede-85c8-8e84c1580702",
   "metadata": {},
   "outputs": [
    {
     "data": {
      "text/plain": [
       "array(['delete', 'dislike', 'dislike-recommendation', 'no-channel',\n",
       "       'none', 'not-interested', 'watch'], dtype=object)"
      ]
     },
     "execution_count": 13,
     "metadata": {},
     "output_type": "execute_result"
    }
   ],
   "source": [
    "df.strategy.unique()"
   ]
  },
  {
   "cell_type": "code",
   "execution_count": 15,
   "id": "dd01db1b-e2c6-42f8-aec4-445b52100e9c",
   "metadata": {},
   "outputs": [
    {
     "data": {
      "text/plain": [
       "array([0, 1, 2, 3, 4])"
      ]
     },
     "execution_count": 15,
     "metadata": {},
     "output_type": "execute_result"
    }
   ],
   "source": [
    "df.note.unique()"
   ]
  },
  {
   "cell_type": "code",
   "execution_count": 12,
   "id": "803acf57-4626-4cb5-858b-cd8668736f38",
   "metadata": {},
   "outputs": [
    {
     "data": {
      "text/plain": [
       "8400"
      ]
     },
     "execution_count": 12,
     "metadata": {},
     "output_type": "execute_result"
    }
   ],
   "source": [
    "7*5*4 * 60"
   ]
  },
  {
   "cell_type": "code",
   "execution_count": 5,
   "id": "9b589e70-038c-466e-9ca6-eda791932df2",
   "metadata": {},
   "outputs": [
    {
     "data": {
      "text/plain": [
       "(8330, 16)"
      ]
     },
     "execution_count": 5,
     "metadata": {},
     "output_type": "execute_result"
    }
   ],
   "source": [
    "df.shape"
   ]
  },
  {
   "cell_type": "code",
   "execution_count": null,
   "id": "7dcd09e6-5706-4705-b7c4-b44e59ca0ad1",
   "metadata": {},
   "outputs": [],
   "source": []
  },
  {
   "cell_type": "code",
   "execution_count": 8,
   "id": "33476904-ebd1-42c3-8766-527960862615",
   "metadata": {},
   "outputs": [
    {
     "data": {
      "text/plain": [
       "2000"
      ]
     },
     "execution_count": 8,
     "metadata": {},
     "output_type": "execute_result"
    }
   ],
   "source": [
    "len(df[df['on_list']==False]['channel_id'].unique())"
   ]
  },
  {
   "cell_type": "code",
   "execution_count": 7,
   "id": "fd59cbae-8fd9-4476-8f75-7d429c4f844f",
   "metadata": {},
   "outputs": [
    {
     "data": {
      "text/plain": [
       "9"
      ]
     },
     "execution_count": 7,
     "metadata": {},
     "output_type": "execute_result"
    }
   ],
   "source": [
    "df['rank'].max()"
   ]
  },
  {
   "cell_type": "code",
   "execution_count": null,
   "id": "d5337d03-b6d9-4a2c-a8c4-733ad94925e9",
   "metadata": {},
   "outputs": [],
   "source": []
  },
  {
   "cell_type": "code",
   "execution_count": null,
   "id": "63918aa5-a4a0-4af0-8cc1-2377b10ea7c0",
   "metadata": {},
   "outputs": [],
   "source": []
  },
  {
   "cell_type": "code",
   "execution_count": 16,
   "id": "1849e86b-1cc2-4faa-ba2f-4e0afc89c291",
   "metadata": {},
   "outputs": [
    {
     "data": {
      "text/plain": [
       "2072"
      ]
     },
     "execution_count": 16,
     "metadata": {},
     "output_type": "execute_result"
    }
   ],
   "source": [
    "len(df['channel_id'].unique())"
   ]
  },
  {
   "cell_type": "code",
   "execution_count": 31,
   "id": "29931003-6a24-464e-a0f7-0066a8e0d3c1",
   "metadata": {},
   "outputs": [],
   "source": [
    "df.groupby('topic')['channel_id'].apply(lambda x: x.sample(50)).to_csv('./qual_labeling_1.csv')"
   ]
  },
  {
   "cell_type": "code",
   "execution_count": null,
   "id": "4c3320a7-ff4d-437a-9d53-1673e094526d",
   "metadata": {},
   "outputs": [],
   "source": []
  }
 ],
 "metadata": {
  "kernelspec": {
   "display_name": "Python 3",
   "language": "python",
   "name": "python3"
  },
  "language_info": {
   "codemirror_mode": {
    "name": "ipython",
    "version": 3
   },
   "file_extension": ".py",
   "mimetype": "text/x-python",
   "name": "python",
   "nbconvert_exporter": "python",
   "pygments_lexer": "ipython3",
   "version": "3.8.8"
  }
 },
 "nbformat": 4,
 "nbformat_minor": 5
}
