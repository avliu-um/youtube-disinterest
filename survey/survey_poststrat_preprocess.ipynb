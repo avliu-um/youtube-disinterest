{
 "cells": [
  {
   "cell_type": "code",
   "execution_count": null,
   "id": "30ef52ef",
   "metadata": {},
   "outputs": [],
   "source": [
    "import pandas as pd\n",
    "import numpy as np\n",
    "from scipy.stats import t as t_distribution"
   ]
  },
  {
   "cell_type": "code",
   "execution_count": null,
   "id": "2dee639a",
   "metadata": {},
   "outputs": [],
   "source": [
    "import numpy as np \n",
    "from pandas import DataFrame\n",
    "import seaborn as sns\n",
    "%matplotlib inline\n",
    "\n",
    "from copy import deepcopy\n",
    "import matplotlib as plt"
   ]
  },
  {
   "cell_type": "markdown",
   "id": "f507e52d",
   "metadata": {},
   "source": [
    "# Prep: Generate population of YT users by subgroup"
   ]
  },
  {
   "cell_type": "markdown",
   "id": "2b6a7849",
   "metadata": {},
   "source": [
    "## Population"
   ]
  },
  {
   "cell_type": "markdown",
   "id": "01c22355",
   "metadata": {},
   "source": [
    "### Census: Subgroup population in USA (https://www.statista.com/statistics/241488/population-of-the-us-by-sex-and-age/)\n",
    "For each subgroup of the US population, get the number of people"
   ]
  },
  {
   "cell_type": "code",
   "execution_count": null,
   "id": "5745418c",
   "metadata": {},
   "outputs": [],
   "source": [
    "subgroup_pop = pd.read_csv('./subgroup_populations_census.txt', delimiter='\\t')"
   ]
  },
  {
   "cell_type": "code",
   "execution_count": null,
   "id": "22a52ba4",
   "metadata": {
    "scrolled": true
   },
   "outputs": [],
   "source": [
    "# Data preprocessing\n",
    "# Convert values to millions\n",
    "\n",
    "subgroup_pop.iloc[0,0] = '0 to 5'\n",
    "subgroup_pop.iloc[-1,0] = '85 to 100'\n",
    "subgroup_pop['age_low'] = subgroup_pop['Age in years'].apply(\n",
    "    lambda x: int(x[:x.index(' to ')])\n",
    ")\n",
    "subgroup_pop = subgroup_pop.iloc[:,1:]\n",
    "subgroup_pop[['Male','Female']] = subgroup_pop[['Male','Female']].apply(lambda x: x*1000000)\n",
    "subgroup_pop.rename(columns={'Male':'male','Female':'female'},inplace=True)\n",
    "\n",
    "subgroup_pop.head()"
   ]
  },
  {
   "cell_type": "code",
   "execution_count": null,
   "id": "73848926",
   "metadata": {},
   "outputs": [],
   "source": [
    "# Create upper_age category (e.g. 50+ or 65+)\n",
    "upper = 65\n",
    "dict_upper = subgroup_pop[subgroup_pop['age_low']>=upper].agg(sum)\n",
    "dict_upper['age_low'] = upper\n",
    "df_upper = pd.DataFrame(dict_upper).T\n",
    "\n",
    "# Remove 18 and below people\n",
    "dict_18 = subgroup_pop[subgroup_pop['age_low']==15].agg(sum) * 2/5\n",
    "dict_18['age_low'] = 18\n",
    "df_18 = pd.DataFrame(dict_18).T\n",
    "\n",
    "subgroup_pop = subgroup_pop[(subgroup_pop['age_low']>=18) & (subgroup_pop['age_low']<upper)]\n",
    "subgroup_pop = pd.concat([subgroup_pop, df_18, df_upper])\n",
    "subgroup_pop.sort_values('age_low',inplace=True)\n",
    "subgroup_pop"
   ]
  },
  {
   "cell_type": "code",
   "execution_count": null,
   "id": "e677a2fe",
   "metadata": {},
   "outputs": [],
   "source": [
    "# Make age bins\n",
    "bin_size = 20\n",
    "bins_list = [18] + list(range(25,66,bin_size))\n",
    "bins_list = list(zip(bins_list,bins_list[1:]+[100]))\n",
    "bins = pd.IntervalIndex.from_tuples(bins_list,closed='left')\n",
    "\n",
    "subgroup_pop['age_bucket'] = pd.cut(subgroup_pop['age_low'],bins=bins)\n",
    "#subgroup_pop = subgroup_pop.groupby('age_bucket')['male','female'].agg('sum')\n",
    "subgroup_pop = subgroup_pop.groupby('age_bucket')[['male','female']].agg('sum')"
   ]
  },
  {
   "cell_type": "code",
   "execution_count": null,
   "id": "fd018e03",
   "metadata": {},
   "outputs": [],
   "source": [
    "# More preprocessing\n",
    "subgroup_pop=subgroup_pop[['male','female']]\n",
    "subgroup_pop = subgroup_pop.stack(-1)\n",
    "subgroup_pop = subgroup_pop.rename('population')\n",
    "subgroup_pop.index.set_names(['age_bucket','sex'],inplace=True)"
   ]
  },
  {
   "cell_type": "code",
   "execution_count": null,
   "id": "2485caa7",
   "metadata": {},
   "outputs": [],
   "source": [
    "# Create dictionary mapping to unique categories\n",
    "subgroup_df = subgroup_pop.to_frame().reset_index()\n",
    "subgroup_df['cats_str'] = subgroup_df['age_bucket'].astype('str') + subgroup_df['sex']\n",
    "cats = subgroup_df['cats_str'].unique()\n",
    "cats_dict = dict(zip(cats, list(range(len(cats)))))\n",
    "\n",
    "cats_dict"
   ]
  },
  {
   "cell_type": "code",
   "execution_count": null,
   "id": "455ea429",
   "metadata": {},
   "outputs": [],
   "source": [
    "subgroup_df['type'] = subgroup_df['cats_str'].apply(lambda x: cats_dict[x])\n",
    "subgroup_df[['type','population']].to_csv('./post_stratification/categories.csv')"
   ]
  },
  {
   "cell_type": "code",
   "execution_count": null,
   "id": "39e95494",
   "metadata": {},
   "outputs": [],
   "source": []
  },
  {
   "cell_type": "markdown",
   "id": "1fed7b70",
   "metadata": {},
   "source": [
    "### PEW: Social media usage, by subgroup (https://www.pewresearch.org/internet/2021/04/07/social-media-use-in-2021/)\n",
    "For each subgroup, get the number of people that use YouTube"
   ]
  },
  {
   "cell_type": "code",
   "execution_count": null,
   "id": "396e209d",
   "metadata": {},
   "outputs": [],
   "source": [
    "results = pd.read_csv('pew_core_survey_2021_results.csv')"
   ]
  },
  {
   "cell_type": "code",
   "execution_count": null,
   "id": "56cd7351",
   "metadata": {
    "scrolled": true
   },
   "outputs": [],
   "source": [
    "# Set index to sex and age, find ratios of YT usage\n",
    "\n",
    "results['age_bucket'] = pd.cut(results['age'],bins=bins)\n",
    "results['sex'].replace({1:'male',2:'female'},inplace=True)\n",
    "results[['sex','age','age_bucket','web1e']]\n",
    "\n",
    "usage_ratios = results.groupby(['age_bucket','sex'])['web1e'].agg(\n",
    "    lambda x: int(x.value_counts()[1]) / len(x)\n",
    ")\n",
    "\n",
    "usage_ratios = usage_ratios.dropna()\n",
    "usage_ratios.rename('usage',inplace=True)\n",
    "\n",
    "usage_ratios.head()"
   ]
  },
  {
   "cell_type": "code",
   "execution_count": null,
   "id": "181ea8eb",
   "metadata": {},
   "outputs": [],
   "source": []
  },
  {
   "cell_type": "markdown",
   "id": "7df2aa43",
   "metadata": {},
   "source": [
    "### Social media ratios\n",
    "Combine Census (subgroup_pop) and PEW (usage_ratios) data on subgroups to get the estimated number of Americans who use YouTube, by subgroup"
   ]
  },
  {
   "cell_type": "code",
   "execution_count": null,
   "id": "cd72b990",
   "metadata": {
    "scrolled": true
   },
   "outputs": [],
   "source": [
    "subgroup_pop.head(30)"
   ]
  },
  {
   "cell_type": "code",
   "execution_count": null,
   "id": "f8bc4c16",
   "metadata": {
    "scrolled": true
   },
   "outputs": [],
   "source": [
    "usage_ratios.head(20)"
   ]
  },
  {
   "cell_type": "code",
   "execution_count": null,
   "id": "a0598474",
   "metadata": {},
   "outputs": [],
   "source": [
    "# Find absolute number of people from each subgroup that use YT\n",
    "\n",
    "# The values make sense\n",
    "# For young folks there are more males bc the content is male-dominated. \n",
    "# For older folks it reflects more of the general us pop.\n",
    "\n",
    "usage_pops = pd.DataFrame(usage_ratios).join(subgroup_pop)\n",
    "\n",
    "yt_usage_abs = usage_pops['usage'] * usage_pops['population']\n",
    "yt_usage_abs.rename('yt_usage_abs',inplace=True)"
   ]
  },
  {
   "cell_type": "code",
   "execution_count": null,
   "id": "787489d7",
   "metadata": {},
   "outputs": [],
   "source": []
  },
  {
   "cell_type": "markdown",
   "id": "80dc5eab",
   "metadata": {},
   "source": [
    "### [12/6] Map subgroups to a number category (or \"type\")"
   ]
  },
  {
   "cell_type": "code",
   "execution_count": null,
   "id": "4a1ec9f3",
   "metadata": {},
   "outputs": [],
   "source": [
    "cats_dict"
   ]
  },
  {
   "cell_type": "code",
   "execution_count": null,
   "id": "a6d1ba70",
   "metadata": {},
   "outputs": [],
   "source": [
    "yt_usage_abs_df = yt_usage_abs.to_frame()\n",
    "yt_usage_abs_df.reset_index(inplace=True)\n",
    "yt_usage_abs_df['type'] = (\n",
    "    yt_usage_abs_df['age_bucket'].astype('str') +\n",
    "    yt_usage_abs_df['sex'].astype('str')\n",
    ").apply(lambda x: cats_dict[x])\n",
    "\n",
    "yt_usage_abs_2 = yt_usage_abs_df[['yt_usage_abs','type']].set_index('type')\n",
    "yt_usage_abs_2"
   ]
  },
  {
   "cell_type": "code",
   "execution_count": null,
   "id": "9060fe87",
   "metadata": {},
   "outputs": [],
   "source": []
  },
  {
   "cell_type": "markdown",
   "id": "9ae2602a",
   "metadata": {},
   "source": [
    "# Get responses from survey respondents"
   ]
  },
  {
   "cell_type": "markdown",
   "id": "8a671215-80f7-44d7-a36f-b095e730ee31",
   "metadata": {},
   "source": [
    "## Survey preprocessing"
   ]
  },
  {
   "cell_type": "code",
   "execution_count": null,
   "id": "7fe2fcd5",
   "metadata": {},
   "outputs": [],
   "source": [
    "buttons = ['delete','dislike','not_int','no_chan']"
   ]
  },
  {
   "cell_type": "code",
   "execution_count": null,
   "id": "2886740b",
   "metadata": {},
   "outputs": [],
   "source": [
    "qs = {\n",
    "    'Q32': 'prolific_id',\n",
    "    'Q16': 'experience',\n",
    "    'Q92': 'attention_1',\n",
    "    'Q95': 'attention_2',\n",
    "    'Q97': 'attention_3'\n",
    "}\n",
    "\n",
    "button_qs = {\n",
    "    'Q23': 'delete_aware',\n",
    "    'Q24': 'delete_use_real',\n",
    "    'Q26' : 'delete_use_hyp',\n",
    "    'Q25' : 'delete_eff_real',\n",
    "    'Q27' : 'delete_eff_hyp',\n",
    "    \n",
    "    'Q60': 'dislike_aware',\n",
    "    'Q61': 'dislike_use_real',\n",
    "    'Q62' : 'dislike_use_hyp',\n",
    "    'Q63' : 'dislike_eff_real',\n",
    "    'Q64' : 'dislike_eff_hyp',\n",
    "    \n",
    "    'Q67': 'not_int_aware',\n",
    "    'Q68': 'not_int_use_real',\n",
    "    'Q69' : 'not_int_use_hyp',\n",
    "    'Q71' : 'not_int_eff_real',\n",
    "    'Q72' : 'not_int_eff_hyp',\n",
    "    \n",
    "    'Q81': 'no_chan_aware',\n",
    "    'Q82': 'no_chan_use_real',\n",
    "    'Q83' : 'no_chan_use_hyp',\n",
    "    'Q85' : 'no_chan_eff_real',\n",
    "    'Q86' : 'no_chan_eff_hyp'    \n",
    "}\n",
    "\n",
    "qs.update(button_qs)"
   ]
  },
  {
   "cell_type": "code",
   "execution_count": null,
   "id": "c16addd5",
   "metadata": {},
   "outputs": [],
   "source": [
    "survey = pd.read_csv('./yt_disinterest_survey_results.csv')\n",
    "survey = survey.rename(\n",
    "    columns=qs\n",
    ")"
   ]
  },
  {
   "cell_type": "code",
   "execution_count": null,
   "id": "1a3021a2",
   "metadata": {},
   "outputs": [],
   "source": [
    "# rows of interest\n",
    "# only get prolific_id-looking survey rows\n",
    "survey.dropna(subset=['prolific_id'])\n",
    "sample_pid = '610c250a4cf53941b3e3e55d'\n",
    "survey.astype({'prolific_id':'object'})\n",
    "survey['has_id']=survey['prolific_id'].apply(\n",
    "    lambda x: len(str(x))==len(sample_pid)\n",
    ")\n",
    "\n",
    "survey=survey[survey['has_id']]\n",
    "# column header rows\n",
    "survey = survey.iloc[2:,:]"
   ]
  },
  {
   "cell_type": "code",
   "execution_count": null,
   "id": "53208a97",
   "metadata": {},
   "outputs": [],
   "source": [
    "# attention checks\n",
    "survey = survey[\n",
    "    (survey['attention_1'] == '2') &\n",
    "    (survey['attention_2'] == 'Yes') &\n",
    "    (survey['attention_3'].isin(['video','Video']))\n",
    "]"
   ]
  },
  {
   "cell_type": "code",
   "execution_count": null,
   "id": "d496a433",
   "metadata": {},
   "outputs": [],
   "source": [
    "# columns of interest\n",
    "survey = survey[list(qs.values())]\n",
    "for att_idx in [1,2,3]:\n",
    "    survey = survey.loc[:, survey.columns !='attention_{0}'.format(att_idx)]\n",
    "\n",
    "# set index\n",
    "survey.set_index('prolific_id',inplace=True)\n",
    "\n",
    "# replace values\n",
    "survey.replace({'Yes':1, \n",
    "                'Yes, sometimes': 1,\n",
    "                'Yes, rarely': 1,\n",
    "                'Yes, very frequently': 1,\n",
    "                'Never': 0,\n",
    "                'No':0, \n",
    "                'Not sure':pd.NA,\n",
    "                '5- completely effective': 5,\n",
    "                '1- not at all effective': 1\n",
    "               }, inplace=True)\n",
    "\n",
    "# change value types\n",
    "for c in survey.columns:\n",
    "    survey[c] = pd.to_numeric(survey[c])\n",
    "survey = survey.astype('Int64')"
   ]
  },
  {
   "cell_type": "code",
   "execution_count": null,
   "id": "adac2496",
   "metadata": {},
   "outputs": [],
   "source": [
    "survey.shape"
   ]
  },
  {
   "cell_type": "code",
   "execution_count": null,
   "id": "6b203dbc",
   "metadata": {},
   "outputs": [],
   "source": [
    "# add more columns of interest\n",
    "for b in buttons:\n",
    "    survey['{0}_exp_aware'.format(b)] = (survey['experience'] * survey['{0}_aware'.format(b)]).replace({0:pd.NA})\n",
    "\n",
    "    # [1/13] Hacky way of quickly getting aware given experience \n",
    "    survey['{0}_aware__exp'.format(b)] = survey['experience'].replace({0:pd.NA}) * survey['{0}_aware'.format(b)]\n",
    "    \n",
    "    survey['{0}_use__exp_aware'.format(b)] = survey['{0}_use_real'.format(b)] * survey['{0}_exp_aware'.format(b)]\n",
    "    survey['{0}_eff__exp_aware_use'.format(b)] = survey['{0}_eff_real'.format(b)] * (survey['{0}_exp_aware'.format(b)] * survey['{0}_use_real'.format(b)]).replace({0:pd.NA})\n",
    "    survey['{0}_eff__exp_aware_no_use'.format(b)] = survey['{0}_eff_hyp'.format(b)] * (survey['{0}_exp_aware'.format(b)] * survey['{0}_use_real'.format(b)]).replace({1:pd.NA, 0:1})\n",
    "    survey['{0}_eff__exp_aware'.format(b)] = (survey['{0}_eff__exp_aware_use'.format(b)].replace({pd.NA:0}) + survey['{0}_eff__exp_aware_no_use'.format(b)].replace({pd.NA:0})).replace({0:pd.NA})\n"
   ]
  },
  {
   "cell_type": "code",
   "execution_count": null,
   "id": "b89ea133",
   "metadata": {},
   "outputs": [],
   "source": [
    "#sanity check\n",
    "assert(survey['no_chan_eff__exp_aware_no_use'].sum() == \n",
    "       survey[(survey['experience']==1)&(survey['no_chan_aware']==1)&(survey['no_chan_use_real']==0)]['no_chan_eff_hyp'].sum()\n",
    "      )\n",
    "       "
   ]
  },
  {
   "cell_type": "code",
   "execution_count": null,
   "id": "d6ba9a46",
   "metadata": {},
   "outputs": [],
   "source": [
    "# Join with Prolific's demographics data\n",
    "\n",
    "survey_dems=pd.read_csv('./prolific_demographics.csv')\n",
    "survey_dems = survey_dems[['Participant id', 'Age', 'Sex']]\n",
    "survey_dems.set_index('Participant id', inplace=True)\n",
    "survey_dems.head()\n",
    "\n",
    "survey = survey.join(survey_dems)"
   ]
  },
  {
   "cell_type": "code",
   "execution_count": null,
   "id": "4058b8a9",
   "metadata": {},
   "outputs": [],
   "source": [
    "# Change index to sex and age_bucket\n",
    "survey['age_bucket'] = pd.cut(survey['Age'],bins=bins)\n",
    "# Keep only binary genders\n",
    "survey = survey[survey['Sex'].isin(['Male','Female'])]\n",
    "survey['Sex'].replace({g:g.lower() for g in ['Male','Female']},inplace=True)\n",
    "\n",
    "# Change each subgroup to a type number \n",
    "survey['cats_str'] = survey['age_bucket'].astype('str') + survey['Sex']\n",
    "survey['type'] = survey['cats_str'].apply(lambda x: cats_dict[x])"
   ]
  },
  {
   "cell_type": "code",
   "execution_count": null,
   "id": "a5bdf5bf",
   "metadata": {},
   "outputs": [],
   "source": [
    "survey.head()"
   ]
  },
  {
   "cell_type": "code",
   "execution_count": null,
   "id": "beac214f",
   "metadata": {},
   "outputs": [],
   "source": []
  },
  {
   "cell_type": "markdown",
   "id": "3b6e3447",
   "metadata": {},
   "source": [
    "## Run survey diagnostics\n",
    "How does our survey sample differ from estimated YT using population?"
   ]
  },
  {
   "cell_type": "code",
   "execution_count": null,
   "id": "ba4f41a9",
   "metadata": {},
   "outputs": [],
   "source": [
    "# the frequency of each subgroup, \n",
    "#   for the sample that answered each question as well as the estimated YT using population    \n",
    "bq_pop_list=[]\n",
    "\n",
    "qs_list = []\n",
    "for b in buttons:\n",
    "    for q in ['aware','aware__exp','use__exp_aware','eff__exp_aware','eff__exp_aware_use','eff__exp_aware_no_use']:\n",
    "        qs_list.append('{0}_{1}'.format(b,q))\n",
    "\n",
    "for bq in qs_list:\n",
    "    bq_pop_list.append(\n",
    "        survey[~survey[bq].isna()]['type'].value_counts(normalize=True).rename(bq)\n",
    "    )\n",
    "bq_pop = pd.concat(bq_pop_list,axis=1).join(yt_usage_abs_2.apply(lambda x: x / x.sum()))\n"
   ]
  },
  {
   "cell_type": "code",
   "execution_count": null,
   "id": "635bc0fb",
   "metadata": {},
   "outputs": [],
   "source": [
    "# Get totals, rearrange rows and columns, na --> 0\n",
    "bq_pop_sums = bq_pop.sum().rename('total')\n",
    "bq_pop.replace({np.nan:0}, inplace=True)\n",
    "bq_pop = bq_pop.loc[list(range(len(cats_dict.keys()))),:]\n",
    "bq_pop.index = list(cats_dict.keys())"
   ]
  },
  {
   "cell_type": "code",
   "execution_count": null,
   "id": "69091ea1",
   "metadata": {},
   "outputs": [],
   "source": [
    "# for heatmap\n",
    "bq_pop_float = deepcopy(bq_pop)\n",
    "bq_pop_float = bq_pop_float.loc[\n",
    "    list(cats_dict.keys()),['yt_usage_abs']+qs_list\n",
    "]"
   ]
  },
  {
   "cell_type": "code",
   "execution_count": null,
   "id": "9bd08971",
   "metadata": {},
   "outputs": [],
   "source": [
    "fig, ax = plt.pyplot.subplots(figsize=(20,5))         # Sample figsize in inches\n",
    "\n",
    "sns.heatmap(bq_pop_float, annot=True)"
   ]
  },
  {
   "cell_type": "code",
   "execution_count": null,
   "id": "429034d0-a59c-4fce-ac43-c5fa63e39b37",
   "metadata": {},
   "outputs": [],
   "source": [
    "bq_pop"
   ]
  },
  {
   "cell_type": "code",
   "execution_count": null,
   "id": "f71ea06c",
   "metadata": {},
   "outputs": [],
   "source": []
  },
  {
   "cell_type": "markdown",
   "id": "2fd14493",
   "metadata": {},
   "source": [
    "## [12/6] Get stata file for post-stratification\n",
    "Stata requires survey sample with (1) type (i.e. the category for post-strat) and (2) the number of the type in the population."
   ]
  },
  {
   "cell_type": "code",
   "execution_count": null,
   "id": "51acb1ed",
   "metadata": {
    "scrolled": true
   },
   "outputs": [],
   "source": [
    "survey_cats = survey.join(yt_usage_abs_2, on='type')"
   ]
  },
  {
   "cell_type": "code",
   "execution_count": null,
   "id": "1b348dd5",
   "metadata": {},
   "outputs": [],
   "source": [
    "survey_cats.head()"
   ]
  },
  {
   "cell_type": "code",
   "execution_count": null,
   "id": "e3825e9a",
   "metadata": {},
   "outputs": [],
   "source": [
    "survey_cats['yt_usage_abs'] = survey_cats['yt_usage_abs'].astype('int')\n",
    "survey_cats['n_pop'] = [int(yt_usage_abs_2.sum()[0]) for i in range(survey_cats.shape[0])]\n",
    "survey_cats.rename(columns={'yt_usage_abs':'n_type'},inplace=True)"
   ]
  },
  {
   "cell_type": "code",
   "execution_count": null,
   "id": "4642ea7f",
   "metadata": {
    "scrolled": true
   },
   "outputs": [],
   "source": [
    "survey_cats.to_stata('./post_stratification/sex_age_{0}.dta'.format(bin_size), write_index=False)\n",
    "\n",
    "# ^ This gives a warning, which I've checked is fine in Stata\n",
    "# Basically, it's confirmed that NA is registered in Stata and not used in mean calculations\n"
   ]
  },
  {
   "cell_type": "markdown",
   "id": "28f38d76",
   "metadata": {},
   "source": [
    "### [12/10] Get counts "
   ]
  },
  {
   "cell_type": "code",
   "execution_count": null,
   "id": "33f002e1",
   "metadata": {
    "scrolled": true
   },
   "outputs": [],
   "source": [
    "survey_n=survey_cats[qs_list].apply(lambda x: len(x) - x.isna().sum()).rename('n')\n",
    "survey_n"
   ]
  },
  {
   "cell_type": "code",
   "execution_count": null,
   "id": "a4a7168f",
   "metadata": {},
   "outputs": [],
   "source": [
    "survey_n.to_csv('./survey_sample_size.csv')"
   ]
  },
  {
   "cell_type": "code",
   "execution_count": null,
   "id": "543df1a7",
   "metadata": {},
   "outputs": [],
   "source": []
  },
  {
   "cell_type": "code",
   "execution_count": null,
   "id": "333d74c2",
   "metadata": {},
   "outputs": [],
   "source": [
    "survey"
   ]
  },
  {
   "cell_type": "code",
   "execution_count": null,
   "id": "0de44bad",
   "metadata": {},
   "outputs": [],
   "source": [
    "# Percentage of a series with 1 (discounting NA's)\n",
    "def ratio_yes(series):\n",
    "    num_1 = (series==1).sum()\n",
    "    num_0 = (series==0).sum()\n",
    "    \n",
    "    if num_0 + num_1 == 0:            \n",
    "        return pd.NA\n",
    "    elif num_0 == 0:\n",
    "        return 1\n",
    "    else:\n",
    "        return num_1 / (num_0 + num_1)\n",
    "\n",
    "# Don't use provided std. Instead, use Bernouli std calculation\n",
    "def std(series):\n",
    "    # return series.std()\n",
    "    r = ratio_yes(series)\n",
    "    return np.sqrt(r * (1-r))"
   ]
  },
  {
   "cell_type": "code",
   "execution_count": null,
   "id": "30e96f1f",
   "metadata": {},
   "outputs": [],
   "source": [
    "survey_buckets = survey.groupby(['age_bucket','Sex']).agg([ratio_yes, 'count'])\n",
    "survey_buckets.index.rename(['age_bucket','sex'],inplace=True)"
   ]
  },
  {
   "cell_type": "code",
   "execution_count": null,
   "id": "987143f8",
   "metadata": {},
   "outputs": [],
   "source": [
    "survey_buckets.head(20)"
   ]
  },
  {
   "cell_type": "code",
   "execution_count": null,
   "id": "4cfccf82",
   "metadata": {
    "scrolled": true
   },
   "outputs": [],
   "source": [
    "test = survey_buckets['dislike_aware'].join(yt_usage_abs.rename('N'))\n",
    "test['N_r'] = test['N']/sum(test['N'])"
   ]
  },
  {
   "cell_type": "code",
   "execution_count": null,
   "id": "2412462f",
   "metadata": {},
   "outputs": [],
   "source": [
    "test"
   ]
  },
  {
   "cell_type": "code",
   "execution_count": null,
   "id": "8f7aef30",
   "metadata": {},
   "outputs": [],
   "source": [
    "test.dropna()"
   ]
  },
  {
   "cell_type": "code",
   "execution_count": null,
   "id": "894b1dc3",
   "metadata": {},
   "outputs": [],
   "source": [
    "test['ratio_yes'].replace({pd.NA:0})"
   ]
  },
  {
   "cell_type": "code",
   "execution_count": null,
   "id": "6d27a930",
   "metadata": {
    "scrolled": true
   },
   "outputs": [],
   "source": [
    "sum(test['ratio_yes'].replace({pd.NA:0}) * test['N_r'])"
   ]
  },
  {
   "cell_type": "code",
   "execution_count": null,
   "id": "53d82f9f",
   "metadata": {},
   "outputs": [],
   "source": [
    "results_list = []\n",
    "\n",
    "# Perform post-stratification\n",
    "for b in buttons:\n",
    "    temp_df = survey_buckets[b+'_aware'].join(yt_usage_abs.rename('N')).dropna()\n",
    "    # Printing confirms that for every age bucket of survey respondents, we know their absolute number\n",
    "    # In retrospect, let's cutoff at 18 below and do 65+ category for above\n",
    "    #print(temp_df)\n",
    "    \n",
    "    temp_df.rename(columns={\n",
    "        'ratio_yes': 'y_bar',\n",
    "    }, inplace=True)\n",
    "    \n",
    "    # Calculate population ratios \n",
    "    temp_df['N_ratio'] = temp_df['N'] / sum(temp_df['N'])\n",
    "    \n",
    "    #print(temp_df)\n",
    "    # make sure ratios add to 1\n",
    "    assert(abs(1-temp_df['N_ratio'].sum()) < 0.00001)\n",
    "    new_usage_ratio = sum(temp_df['y_bar'].replace({pd.NA:0}) * temp_df['N_ratio'])\n",
    "    old_usage_ratio = ratio_yes(survey[b+'_aware'])\n",
    "\n",
    "    print('{0}: {1:.2f}% ({2:.2f}%)'.format(b+'_aware',new_usage_ratio*100,old_usage_ratio*100))\n",
    "    \n",
    "    results_list.append({\n",
    "        'button': b,\n",
    "        'y_ps': new_usage_ratio,\n",
    "        'y_old': old_usage_ratio,\n",
    "    })"
   ]
  },
  {
   "cell_type": "code",
   "execution_count": null,
   "id": "a509b406",
   "metadata": {},
   "outputs": [],
   "source": []
  },
  {
   "cell_type": "code",
   "execution_count": null,
   "id": "383c76c1",
   "metadata": {
    "scrolled": true
   },
   "outputs": [],
   "source": [
    "results_df = pd.DataFrame(results_list)\n",
    "results_df[['button','y_ps','y_old']].head()"
   ]
  },
  {
   "cell_type": "code",
   "execution_count": null,
   "id": "c9ac5d4b",
   "metadata": {},
   "outputs": [],
   "source": []
  }
 ],
 "metadata": {
  "kernelspec": {
   "display_name": "Python 3 (ipykernel)",
   "language": "python",
   "name": "python3"
  },
  "language_info": {
   "codemirror_mode": {
    "name": "ipython",
    "version": 3
   },
   "file_extension": ".py",
   "mimetype": "text/x-python",
   "name": "python",
   "nbconvert_exporter": "python",
   "pygments_lexer": "ipython3",
   "version": "3.10.10"
  }
 },
 "nbformat": 4,
 "nbformat_minor": 5
}
