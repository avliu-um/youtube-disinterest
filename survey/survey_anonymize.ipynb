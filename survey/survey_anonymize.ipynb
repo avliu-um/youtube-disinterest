{
 "cells": [
  {
   "cell_type": "code",
   "execution_count": null,
   "id": "f8cea3de-01fa-4437-bb6b-6fa68dc6d5ea",
   "metadata": {},
   "outputs": [],
   "source": [
    "import pandas as pd"
   ]
  },
  {
   "cell_type": "code",
   "execution_count": null,
   "id": "7acc753a-f55e-4dba-84a6-7be9451b8ccc",
   "metadata": {},
   "outputs": [],
   "source": []
  },
  {
   "cell_type": "markdown",
   "id": "e4ed97ec-29c3-4a4d-b9c9-88fc38671289",
   "metadata": {},
   "source": [
    "# Anonymize survey results"
   ]
  },
  {
   "cell_type": "code",
   "execution_count": null,
   "id": "c0270f78-1fb9-4f7d-9fc1-c48729f9e60c",
   "metadata": {},
   "outputs": [],
   "source": [
    "results_df = pd.read_csv('yt_disinterest_survey_results.csv')\n",
    "dems_df = pd.read_csv('prolific_demographics.csv')"
   ]
  },
  {
   "cell_type": "code",
   "execution_count": null,
   "id": "2f8bfa67-ee86-4779-9583-37d0a9145b09",
   "metadata": {},
   "outputs": [],
   "source": []
  },
  {
   "cell_type": "markdown",
   "id": "fce77206-d560-4539-91c9-b24164a671a1",
   "metadata": {},
   "source": [
    "## Drop identifying columns"
   ]
  },
  {
   "cell_type": "code",
   "execution_count": null,
   "id": "36e6f854-4b82-46d7-808d-201a10908110",
   "metadata": {},
   "outputs": [],
   "source": [
    "drop_cols = [\n",
    "    'Q42', # feedback\n",
    "    'Random ID',\n",
    "    'IPAddress',\n",
    "    'Status',\n",
    "    'StartDate',\n",
    "    'EndDate',\n",
    "    'ResponseId',\n",
    "    'RecipientLastName',\n",
    "    'RecipientFirstName'\n",
    "]"
   ]
  },
  {
   "cell_type": "code",
   "execution_count": null,
   "id": "51f974c6-123e-4147-929f-71aa277424e4",
   "metadata": {},
   "outputs": [],
   "source": [
    "results_df.drop(drop_cols, axis=1, inplace=True)\n",
    "results_df.head()"
   ]
  },
  {
   "cell_type": "code",
   "execution_count": null,
   "id": "3b46ab93-47ea-4d9d-8976-564b731489b1",
   "metadata": {},
   "outputs": [],
   "source": []
  },
  {
   "cell_type": "markdown",
   "id": "c1ac1c29-d336-4aec-94aa-9524c0c933f7",
   "metadata": {},
   "source": [
    "# Map real Prolific Id's to fake ones"
   ]
  },
  {
   "cell_type": "code",
   "execution_count": null,
   "id": "ffb6ac66-3387-469b-a906-415b5527e33c",
   "metadata": {},
   "outputs": [],
   "source": [
    "dems_df['anon_id'] = [str(i) for i in range(dems_df.shape[0])]\n",
    "dems_df['anon_id'] = dems_df['anon_id'].apply(lambda s: 'a'*(24-len(s))+s)\n",
    "id_mapper = dict(zip(dems_df['Participant id'], dems_df['anon_id']))"
   ]
  },
  {
   "cell_type": "code",
   "execution_count": null,
   "id": "4d6e2769-9f27-427e-9656-3720ef298bcc",
   "metadata": {},
   "outputs": [],
   "source": [
    "dems_df.head()"
   ]
  },
  {
   "cell_type": "code",
   "execution_count": null,
   "id": "c364268d-7c05-4c94-9fa6-5c6e18e4cf59",
   "metadata": {},
   "outputs": [],
   "source": [
    "results_df['Q32'] = results_df['Q32'].apply(lambda x: id_mapper[x] if x in id_mapper else -1)"
   ]
  },
  {
   "cell_type": "code",
   "execution_count": null,
   "id": "e3ba1394-e71a-40a8-85f9-5b4883bb4e15",
   "metadata": {},
   "outputs": [],
   "source": [
    "results_df.head(20)"
   ]
  },
  {
   "cell_type": "code",
   "execution_count": null,
   "id": "8840a534-1dfb-45b7-83af-a004c380b87a",
   "metadata": {},
   "outputs": [],
   "source": []
  },
  {
   "cell_type": "markdown",
   "id": "0f9e6e19-d6d3-4ba6-aec4-6c7532053f62",
   "metadata": {},
   "source": [
    "## Write anonymized survey results"
   ]
  },
  {
   "cell_type": "code",
   "execution_count": null,
   "id": "f3956775-6f8e-4a5e-9da7-b8c54b84d21a",
   "metadata": {},
   "outputs": [],
   "source": [
    "dems_df['Participant id'] = dems_df['anon_id']\n",
    "dems_df.drop(['anon_id'],axis=1,inplace=True)"
   ]
  },
  {
   "cell_type": "code",
   "execution_count": null,
   "id": "7dc75cfd-b5ff-4fab-b043-96562e6a1654",
   "metadata": {},
   "outputs": [],
   "source": [
    "results_df.to_csv('anon_yt_disinterest_survey_results.csv')\n",
    "dems_df.to_csv('anon_prolific_demographics.csv')"
   ]
  },
  {
   "cell_type": "code",
   "execution_count": null,
   "id": "a7993c26-789c-47c7-84ea-cfa44e7bd3a7",
   "metadata": {},
   "outputs": [],
   "source": []
  }
 ],
 "metadata": {
  "kernelspec": {
   "display_name": "env",
   "language": "python",
   "name": "env"
  },
  "language_info": {
   "codemirror_mode": {
    "name": "ipython",
    "version": 3
   },
   "file_extension": ".py",
   "mimetype": "text/x-python",
   "name": "python",
   "nbconvert_exporter": "python",
   "pygments_lexer": "ipython3",
   "version": "3.10.10"
  }
 },
 "nbformat": 4,
 "nbformat_minor": 5
}
